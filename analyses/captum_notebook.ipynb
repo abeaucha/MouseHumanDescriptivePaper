{
 "cells": [
  {
   "cell_type": "markdown",
   "id": "f353a841",
   "metadata": {},
   "source": [
    "# Packages"
   ]
  },
  {
   "cell_type": "code",
   "execution_count": 4,
   "id": "781070d2",
   "metadata": {},
   "outputs": [],
   "source": [
    "import pandas as pd\n",
    "import numpy as np\n",
    "import random\n",
    "import os\n",
    "from datatable import fread\n",
    "\n",
    "import torch\n",
    "import torch.nn.functional as F\n",
    "from torch                    import nn\n",
    "from torch.optim              import SGD\n",
    "from torch.optim.lr_scheduler import OneCycleLR\n",
    "\n",
    "from skorch                   import NeuralNetClassifier\n",
    "from skorch.callbacks         import LRScheduler\n",
    "from skorch.helper            import DataFrameTransformer"
   ]
  },
  {
   "cell_type": "markdown",
   "id": "eeb664db",
   "metadata": {},
   "source": [
    "# Import"
   ]
  },
  {
   "cell_type": "code",
   "execution_count": 5,
   "id": "685b9e8b",
   "metadata": {},
   "outputs": [],
   "source": [
    "#Data directory\n",
    "datadir = '../data/'\n",
    "\n",
    "#Import mouse voxelwise data to use for training\n",
    "file_voxel = \"MouseExpressionMatrix_voxel_coronal_maskcoronal_log2_grouped_imputed_labelled_scaled.csv\"\n",
    "filepath_voxel = os.path.join(datadir, file_voxel)\n",
    "\n",
    "#Import expression matrix\n",
    "dfExprVoxel = (fread(filepath_voxel, header = True)\n",
    "               .to_pandas())"
   ]
  },
  {
   "cell_type": "markdown",
   "id": "9b2a3403",
   "metadata": {},
   "source": [
    "# Data preparation"
   ]
  },
  {
   "cell_type": "markdown",
   "id": "0becb1cf",
   "metadata": {},
   "source": [
    "Let's start by sampling a subset of voxels. Ultimately this isn't necessary, but the methods used for feature importance take some time to run, so as a proof of concept we'll use fewer data points."
   ]
  },
  {
   "cell_type": "code",
   "execution_count": 6,
   "id": "33dad8be",
   "metadata": {},
   "outputs": [],
   "source": [
    "#Sample some observations for training\n",
    "dfExprVoxel = dfExprVoxel.sample(n = 10000, axis = 0, random_state = 1).copy()"
   ]
  },
  {
   "cell_type": "markdown",
   "id": "9126add4",
   "metadata": {},
   "source": [
    "Next we prepare the data for training, mainly by separating labels and inputs, and converting to numpy arrays."
   ]
  },
  {
   "cell_type": "code",
   "execution_count": 7,
   "id": "476303bd",
   "metadata": {},
   "outputs": [],
   "source": [
    "#Sample 5000 observations for training\n",
    "dfExprVoxel = dfExprVoxel.sample(n = 10000, axis = 0, random_state = 1).copy()\n",
    "\n",
    "#Identify which columns contain labels\n",
    "indLabels = dfExprVoxel.columns.str.match('Region')\n",
    "\n",
    "#Extract matrix of gene expression values\n",
    "dfInput = dfExprVoxel.loc[:,~indLabels]\n",
    "\n",
    "#Column containing training labels\n",
    "labelcol = 'Region67'\n",
    "\n",
    "#Create a new data frame containing training labels\n",
    "dfLabels = dfExprVoxel[[labelcol]].copy()\n",
    "\n",
    "#Convert labels to category type\n",
    "dfLabels.loc[:,labelcol] = dfLabels.loc[:,labelcol].astype('category')\n",
    "\n",
    "# Create an instance of the data transformer\n",
    "dftx = DataFrameTransformer()\n",
    "\n",
    "# Fit and transform the input and label data frames\n",
    "X_temp = dftx.fit_transform(dfInput)\n",
    "y_temp = dftx.fit_transform(dfLabels)\n",
    "\n",
    "# Extract the arrays from the dictionaries.\n",
    "X = X_temp['X']\n",
    "y = y_temp[labelcol]"
   ]
  },
  {
   "cell_type": "markdown",
   "id": "34488b97",
   "metadata": {},
   "source": [
    "# Training the network"
   ]
  },
  {
   "cell_type": "markdown",
   "id": "85d9def9",
   "metadata": {},
   "source": [
    "First we specify some of the hyperparameters of the perceptron."
   ]
  },
  {
   "cell_type": "code",
   "execution_count": 8,
   "id": "213ca9f2",
   "metadata": {},
   "outputs": [],
   "source": [
    "#Specify network parameters\n",
    "hidden_units = 200\n",
    "weight_decay = 0\n",
    "max_epochs = 25\n",
    "total_steps = 50\n",
    "learning_rate = 0.01\n",
    "device = 'cpu'\n",
    "seed = 1"
   ]
  },
  {
   "cell_type": "markdown",
   "id": "5cf2b0bd",
   "metadata": {},
   "source": [
    "Next, define the architecture of neural network, and initialize an instance of it with the desired number of input units, hidden units, and output units."
   ]
  },
  {
   "cell_type": "code",
   "execution_count": 9,
   "id": "c0787749",
   "metadata": {},
   "outputs": [],
   "source": [
    "#Set seed\n",
    "np.random.seed(seed)\n",
    "torch.manual_seed(seed)\n",
    "random.seed(seed)\n",
    "\n",
    "#Define network architecture\n",
    "class ClassifierModule(nn.Module):\n",
    "    \n",
    "    def __init__(\n",
    "        self,\n",
    "        input_units,\n",
    "        output_units,\n",
    "        hidden_units,\n",
    "        apply_output_layer = True #Flag to apply output layer\n",
    "    ):\n",
    "        super(ClassifierModule, self).__init__()\n",
    "\n",
    "        self.apply_output_layer = apply_output_layer\n",
    "\n",
    "        self.hidden1 = nn.Linear(input_units, hidden_units)\n",
    "        self.hidden2 = nn.Linear(hidden_units, hidden_units)\n",
    "        self.hidden3 = nn.Linear(hidden_units, hidden_units)\n",
    "        self.output = nn.Linear(hidden_units, output_units)\n",
    "\n",
    "    def forward(self, X, **kwargs):\n",
    "        X = F.relu(self.hidden1(X))\n",
    "        X = F.relu(self.hidden2(X))\n",
    "        X = F.relu(self.hidden3(X))\n",
    "\n",
    "        #If flag is True, apply output layer\n",
    "        if self.apply_output_layer is True:\n",
    "            X = F.softmax(self.output(X), dim = -1)\n",
    "\n",
    "        return X\n",
    "\n",
    "#Initialize network class with desired architecture\n",
    "my_network = ClassifierModule(input_units = X.shape[1],\n",
    "                              output_units = len(np.unique(y)),\n",
    "                              hidden_units = hidden_units)"
   ]
  },
  {
   "cell_type": "markdown",
   "id": "873eff1c",
   "metadata": {},
   "source": [
    "With the architecture specified, we now specify the optimization routine."
   ]
  },
  {
   "cell_type": "code",
   "execution_count": 10,
   "id": "0245031f",
   "metadata": {},
   "outputs": [],
   "source": [
    "#Specify the optimization routine\n",
    "net = NeuralNetClassifier(my_network,\n",
    "                          train_split = None,\n",
    "                          optimizer = SGD,\n",
    "                          optimizer__weight_decay = weight_decay,\n",
    "                          max_epochs = max_epochs,\n",
    "                          callbacks = [('lr_scheduler',\n",
    "                                        LRScheduler(policy=OneCycleLR,\n",
    "                                                    total_steps=total_steps,\n",
    "                                                    cycle_momentum=False,  \n",
    "                                                    max_lr=learning_rate))],\n",
    "                          device = device)"
   ]
  },
  {
   "cell_type": "markdown",
   "id": "86f1153f",
   "metadata": {},
   "source": [
    "And finally we can fit the model."
   ]
  },
  {
   "cell_type": "code",
   "execution_count": 11,
   "id": "9080b37a",
   "metadata": {},
   "outputs": [
    {
     "name": "stdout",
     "output_type": "stream",
     "text": [
      "  epoch    train_loss      lr     dur\n",
      "-------  ------------  ------  ------\n",
      "      1        \u001b[36m4.2007\u001b[0m  0.0004  0.1609\n",
      "      2        \u001b[36m4.1992\u001b[0m  0.0005  0.1518\n",
      "      3        \u001b[36m4.1970\u001b[0m  0.0009  0.1735\n",
      "      4        \u001b[36m4.1932\u001b[0m  0.0014  0.1675\n",
      "      5        \u001b[36m4.1872\u001b[0m  0.0022  0.1548\n",
      "      6        \u001b[36m4.1783\u001b[0m  0.0031  0.1601\n",
      "      7        \u001b[36m4.1656\u001b[0m  0.0041  0.1542\n",
      "      8        \u001b[36m4.1477\u001b[0m  0.0052  0.1637\n",
      "      9        \u001b[36m4.1210\u001b[0m  0.0063  0.2161\n",
      "     10        \u001b[36m4.0768\u001b[0m  0.0073  0.1997\n",
      "     11        \u001b[36m3.9860\u001b[0m  0.0082  0.1711\n",
      "     12        \u001b[36m3.7545\u001b[0m  0.0090  0.1955\n",
      "     13        \u001b[36m3.4415\u001b[0m  0.0095  0.1696\n",
      "     14        \u001b[36m3.1911\u001b[0m  0.0099  0.1616\n",
      "     15        \u001b[36m2.9459\u001b[0m  0.0100  0.1519\n",
      "     16        \u001b[36m2.7171\u001b[0m  0.0100  0.1492\n",
      "     17        \u001b[36m2.5168\u001b[0m  0.0099  0.1513\n",
      "     18        \u001b[36m2.3526\u001b[0m  0.0098  0.1510\n",
      "     19        \u001b[36m2.2125\u001b[0m  0.0097  0.1525\n",
      "     20        \u001b[36m2.0812\u001b[0m  0.0095  0.1514\n",
      "     21        \u001b[36m1.9520\u001b[0m  0.0093  0.1785\n",
      "     22        \u001b[36m1.8248\u001b[0m  0.0090  0.1703\n",
      "     23        \u001b[36m1.7067\u001b[0m  0.0088  0.1806\n",
      "     24        \u001b[36m1.6041\u001b[0m  0.0085  0.1740\n",
      "     25        \u001b[36m1.5160\u001b[0m  0.0081  0.1535\n"
     ]
    },
    {
     "data": {
      "text/plain": [
       "<class 'skorch.classifier.NeuralNetClassifier'>[initialized](\n",
       "  module_=ClassifierModule(\n",
       "    (hidden1): Linear(in_features=2835, out_features=200, bias=True)\n",
       "    (hidden2): Linear(in_features=200, out_features=200, bias=True)\n",
       "    (hidden3): Linear(in_features=200, out_features=200, bias=True)\n",
       "    (output): Linear(in_features=200, out_features=67, bias=True)\n",
       "  ),\n",
       ")"
      ]
     },
     "execution_count": 11,
     "metadata": {},
     "output_type": "execute_result"
    }
   ],
   "source": [
    "#Train the network\n",
    "net.fit(X, y)"
   ]
  },
  {
   "cell_type": "markdown",
   "id": "b874eb50",
   "metadata": {},
   "source": [
    "To confirm this is working as it should, let's compute the training accuracy:"
   ]
  },
  {
   "cell_type": "code",
   "execution_count": 12,
   "id": "7a849dd7",
   "metadata": {},
   "outputs": [
    {
     "data": {
      "text/plain": [
       "0.5734"
      ]
     },
     "execution_count": 12,
     "metadata": {},
     "output_type": "execute_result"
    }
   ],
   "source": [
    "#Convert input np array to torch tensor\n",
    "X_tensor = torch.from_numpy(X).type(torch.FloatTensor)\n",
    "\n",
    "#Apply network to input tensor to get output probabilities\n",
    "y_prob = my_network(X_tensor).detach().numpy()\n",
    "\n",
    "#Classify using most likely label\n",
    "y_pred = np.argmax(y_prob, axis = 1)\n",
    "\n",
    "#Accuracy\n",
    "sum(y_pred == y)/len(y)"
   ]
  },
  {
   "cell_type": "markdown",
   "id": "a9f7a9c7",
   "metadata": {},
   "source": [
    "# Identifying feature importance using integrated gradients"
   ]
  },
  {
   "cell_type": "markdown",
   "id": "d2b0661f",
   "metadata": {},
   "source": [
    "The first method introduced in the Captum tutorial for feature importance is called \"integrated gradients\". I don't know what this is, but it seems like it returns some values for each of the inputs corresponding to a given output label."
   ]
  },
  {
   "cell_type": "code",
   "execution_count": 13,
   "id": "8df35885",
   "metadata": {},
   "outputs": [],
   "source": [
    "from captum.attr import IntegratedGradients"
   ]
  },
  {
   "cell_type": "markdown",
   "id": "87238d56",
   "metadata": {},
   "source": [
    "We need to specify what label we want to examine, so let's look at our dictionary"
   ]
  },
  {
   "cell_type": "code",
   "execution_count": 14,
   "id": "59131367",
   "metadata": {},
   "outputs": [
    {
     "data": {
      "text/html": [
       "<div>\n",
       "<style scoped>\n",
       "    .dataframe tbody tr th:only-of-type {\n",
       "        vertical-align: middle;\n",
       "    }\n",
       "\n",
       "    .dataframe tbody tr th {\n",
       "        vertical-align: top;\n",
       "    }\n",
       "\n",
       "    .dataframe thead th {\n",
       "        text-align: right;\n",
       "    }\n",
       "</style>\n",
       "<table border=\"1\" class=\"dataframe\">\n",
       "  <thead>\n",
       "    <tr style=\"text-align: right;\">\n",
       "      <th></th>\n",
       "      <th>Region67</th>\n",
       "      <th>y</th>\n",
       "    </tr>\n",
       "  </thead>\n",
       "  <tbody>\n",
       "    <tr>\n",
       "      <th>41104</th>\n",
       "      <td>Culmen</td>\n",
       "      <td>13</td>\n",
       "    </tr>\n",
       "    <tr>\n",
       "      <th>6127</th>\n",
       "      <td>Pons</td>\n",
       "      <td>46</td>\n",
       "    </tr>\n",
       "    <tr>\n",
       "      <th>18253</th>\n",
       "      <td>Olfactory areas-other</td>\n",
       "      <td>37</td>\n",
       "    </tr>\n",
       "    <tr>\n",
       "      <th>33205</th>\n",
       "      <td>Caudoputamen</td>\n",
       "      <td>4</td>\n",
       "    </tr>\n",
       "    <tr>\n",
       "      <th>14311</th>\n",
       "      <td>Ectorhinal area</td>\n",
       "      <td>17</td>\n",
       "    </tr>\n",
       "    <tr>\n",
       "      <th>...</th>\n",
       "      <td>...</td>\n",
       "      <td>...</td>\n",
       "    </tr>\n",
       "    <tr>\n",
       "      <th>42787</th>\n",
       "      <td>Declive (VI)</td>\n",
       "      <td>14</td>\n",
       "    </tr>\n",
       "    <tr>\n",
       "      <th>29782</th>\n",
       "      <td>Agranular insular area</td>\n",
       "      <td>1</td>\n",
       "    </tr>\n",
       "    <tr>\n",
       "      <th>18116</th>\n",
       "      <td>Claustrum</td>\n",
       "      <td>7</td>\n",
       "    </tr>\n",
       "    <tr>\n",
       "      <th>9770</th>\n",
       "      <td>Midbrain raphe nuclei</td>\n",
       "      <td>34</td>\n",
       "    </tr>\n",
       "    <tr>\n",
       "      <th>33715</th>\n",
       "      <td>Folium-tuber vermis (VII)</td>\n",
       "      <td>24</td>\n",
       "    </tr>\n",
       "  </tbody>\n",
       "</table>\n",
       "<p>67 rows × 2 columns</p>\n",
       "</div>"
      ],
      "text/plain": [
       "                        Region67   y\n",
       "41104                     Culmen  13\n",
       "6127                        Pons  46\n",
       "18253      Olfactory areas-other  37\n",
       "33205               Caudoputamen   4\n",
       "14311            Ectorhinal area  17\n",
       "...                          ...  ..\n",
       "42787               Declive (VI)  14\n",
       "29782     Agranular insular area   1\n",
       "18116                  Claustrum   7\n",
       "9770       Midbrain raphe nuclei  34\n",
       "33715  Folium-tuber vermis (VII)  24\n",
       "\n",
       "[67 rows x 2 columns]"
      ]
     },
     "execution_count": 14,
     "metadata": {},
     "output_type": "execute_result"
    }
   ],
   "source": [
    "dfLabels['y'] = y\n",
    "dfLabels.drop_duplicates()"
   ]
  },
  {
   "cell_type": "markdown",
   "id": "8d017b80",
   "metadata": {},
   "source": [
    "Let's start by examining the classification of caudoputamen voxels."
   ]
  },
  {
   "cell_type": "code",
   "execution_count": 15,
   "id": "92fd9dd8",
   "metadata": {},
   "outputs": [],
   "source": [
    "#Structure we want to examine\n",
    "target_struct = 'Caudoputamen'\n",
    "\n",
    "#Associated dummy label\n",
    "target_label = int(dfLabels\n",
    "                .loc[dfLabels['Region67'] == target_struct, ['y']]\n",
    "                .drop_duplicates()\n",
    "                .values[0][0])"
   ]
  },
  {
   "cell_type": "markdown",
   "id": "cd6cb948",
   "metadata": {},
   "source": [
    "To use integrated gradients, we first instantiate the relevant class, with our network architecture as input. We then apply the \"attribute\" method, here specifying the label that we want to examine."
   ]
  },
  {
   "cell_type": "code",
   "execution_count": 16,
   "id": "ea709994",
   "metadata": {},
   "outputs": [],
   "source": [
    "#Set up an integrated gradients class\n",
    "ig = IntegratedGradients(my_network)\n",
    "\n",
    "#Compute the attributes tensor for the desired target label\n",
    "X_tensor.requires_grad_()\n",
    "attr = ig.attribute(X_tensor, \n",
    "                    target = target_label, \n",
    "                    internal_batch_size = X_tensor.shape[0])\n",
    "\n",
    "#Convert to numpy array\n",
    "attr = attr.detach().numpy()"
   ]
  },
  {
   "cell_type": "markdown",
   "id": "25dc1003",
   "metadata": {},
   "source": [
    "It's unclear to me what this output is, but let's at least examine the shape of it."
   ]
  },
  {
   "cell_type": "code",
   "execution_count": 17,
   "id": "4899de83",
   "metadata": {},
   "outputs": [
    {
     "name": "stdout",
     "output_type": "stream",
     "text": [
      "(10000, 2835)\n"
     ]
    }
   ],
   "source": [
    "print(attr.shape)"
   ]
  },
  {
   "cell_type": "markdown",
   "id": "18ffd4bc",
   "metadata": {},
   "source": [
    "So this thing has the same shape as the input data, meaning rows corresponding to observations and columns to predictors. This gives us one value for each cell entry in our input matrix. Unclear what exactly those values mean...\n",
    "\n",
    "In the Captum tutorial, they take averages over the observations for each of the input features. Let's do that here. We're also going to sort the average values to see which features are most \"important\"."
   ]
  },
  {
   "cell_type": "code",
   "execution_count": 18,
   "id": "bb5e3a74",
   "metadata": {},
   "outputs": [],
   "source": [
    "#Grab the set of genes\n",
    "genes = dfInput.columns.to_numpy()\n",
    "\n",
    "#Array of x values for plotting\n",
    "x_pos = np.arange(len(genes))\n",
    "\n",
    "#Mean integrated gradient attributes over all \n",
    "#observations for each feature\n",
    "attr_mean = np.mean(attr, axis = 0)\n",
    "\n",
    "#Sorted attributes\n",
    "attr_mean_sorted, genes_sorted = zip(*sorted(zip(attr_mean, genes)))"
   ]
  },
  {
   "cell_type": "markdown",
   "id": "5fc3dc34",
   "metadata": {},
   "source": [
    "Now that we have these average feature importances corresponding to classification of the caudoputamen, let's plot them. "
   ]
  },
  {
   "cell_type": "code",
   "execution_count": 19,
   "id": "5b9ca260",
   "metadata": {},
   "outputs": [
    {
     "data": {
      "text/plain": [
       "Text(0.5, 0, 'Gene')"
      ]
     },
     "execution_count": 19,
     "metadata": {},
     "output_type": "execute_result"
    },
    {
     "data": {
      "image/png": "[encoded data removed]",
      "text/plain": [
       "<Figure size 864x864 with 2 Axes>"
      ]
     },
     "metadata": {
      "needs_background": "light"
     },
     "output_type": "display_data"
    }
   ],
   "source": [
    "import matplotlib.pyplot as plt\n",
    "\n",
    "fig, axes = plt.subplots(2, 1, figsize = (12,12))\n",
    "\n",
    "axes[0].grid(zorder = 0, axis = 'y')\n",
    "axes[0].bar(x_pos, attr_mean, zorder = 2)\n",
    "axes[0].set_xticks([])\n",
    "axes[0].set_title('Feature importances for region: {}'.format(target_struct))\n",
    "\n",
    "axes[1].grid(zorder = 0, axis = 'y')\n",
    "axes[1].bar(x_pos, attr_mean_sorted, align = 'center', zorder = 2)\n",
    "axes[1].set_xticks([])\n",
    "axes[1].set_xlabel('Gene')"
   ]
  },
  {
   "cell_type": "markdown",
   "id": "4adf4bce",
   "metadata": {},
   "source": [
    "Not super informative at this scale since there are so many inputs, but let's zoom in to take a look at what genes have the high attribute values."
   ]
  },
  {
   "cell_type": "code",
   "execution_count": 20,
   "id": "eb4d9789",
   "metadata": {},
   "outputs": [
    {
     "data": {
      "image/png": "[encoded data removed]",
      "text/plain": [
       "<Figure size 864x432 with 1 Axes>"
      ]
     },
     "metadata": {
      "needs_background": "light"
     },
     "output_type": "display_data"
    }
   ],
   "source": [
    "fig, ax = plt.subplots(figsize = (12,6))\n",
    "ax.grid(zorder = 0, axis = 'y')\n",
    "ax.bar(x_pos[-10:], attr_mean_sorted[-10:], align = 'center', zorder = 2)\n",
    "ax.set_xticks(x_pos[-10:], genes_sorted[-10:])\n",
    "ax.set_xlabel('Gene')\n",
    "ax.set_title('Feature importances for region: {}'.format(target_struct))\n",
    "plt.show()"
   ]
  },
  {
   "cell_type": "markdown",
   "id": "244e19d7",
   "metadata": {},
   "source": [
    "Looks like CD4 is the most importance feature, followed by RGS9. What do these gene maps look like?"
   ]
  },
  {
   "cell_type": "code",
   "execution_count": 22,
   "id": "bd0ebb81",
   "metadata": {},
   "outputs": [],
   "source": [
    "from pyminc.volumes.factory import volumeFromFile\n",
    "\n",
    "#Anatomy and mask files\n",
    "maskfile = '../AMBA/data/imaging/coronal_200um_coverage_bin0.8.mnc'\n",
    "anatfile = '../AMBA/data/imaging/DSURQE_CCFv3_average_200um.mnc'\n",
    "\n",
    "#Import volumes\n",
    "mask = volumeFromFile(maskfile)\n",
    "anat = volumeFromFile(anatfile)\n",
    "\n",
    "#Convert to numpy\n",
    "mask = np.array(mask.data)\n",
    "anat = np.array(anat.data)\n",
    "\n",
    "#Mask anatomy \n",
    "anat[mask == 0] = np.nan"
   ]
  },
  {
   "cell_type": "code",
   "execution_count": 25,
   "id": "4ebe85c4",
   "metadata": {},
   "outputs": [],
   "source": [
    "#ISH files for genes mentioned above\n",
    "exprfile1 = '../AMBA/data/expression/coronal/Cd4_74819249.mnc'\n",
    "exprfile2 = '../AMBA/data/expression/coronal/Rgs9_73521819.mnc'\n",
    "\n",
    "#Import\n",
    "expr1 = volumeFromFile(exprfile1)\n",
    "expr2 = volumeFromFile(exprfile2)\n",
    "\n",
    "#Convert to numpy\n",
    "expr1 = np.array(expr1.data)\n",
    "expr2 = np.array(expr2.data)\n",
    "\n",
    "#Mask\n",
    "expr1[mask == 0] = np.nan\n",
    "expr2[mask == 0] = np.nan"
   ]
  },
  {
   "cell_type": "code",
   "execution_count": 26,
   "id": "3224d361",
   "metadata": {},
   "outputs": [
    {
     "data": {
      "text/plain": [
       "Text(0.5, 1.0, '../AMBA/data/expression/coronal/Rgs9_73521819.mnc')"
      ]
     },
     "execution_count": 26,
     "metadata": {},
     "output_type": "execute_result"
    },
    {
     "data": {
      "image/png": "[encoded data removed]",
      "text/plain": [
       "<Figure size 1440x440.597 with 2 Axes>"
      ]
     },
     "metadata": {
      "needs_background": "light"
     },
     "output_type": "display_data"
    }
   ],
   "source": [
    "slc = 42\n",
    "asp = anat.shape[1]/anat.shape[0]\n",
    "\n",
    "anat_slice = anat[:,slc,:]\n",
    "expr1_slice = expr1[:,slc,:]\n",
    "expr2_slice = expr2[:,slc,:]\n",
    "\n",
    "anat_slice = np.flip(anat_slice, axis = 0)\n",
    "expr1_slice = np.flip(expr1_slice, axis = 0)\n",
    "expr2_slice = np.flip(expr2_slice, axis = 0)\n",
    "\n",
    "fig, axes = plt.subplots(1, 2, figsize = (2*10, 10/asp))\n",
    "\n",
    "axes[0].imshow(anat_slice, cmap = plt.get_cmap('binary'))\n",
    "axes[0].imshow(expr1_slice, cmap = plt.get_cmap('OrRd'), alpha = 0.4)\n",
    "axes[0].set_title(exprfile1)\n",
    "\n",
    "axes[1].imshow(anat_slice, cmap = plt.get_cmap('binary'))\n",
    "axes[1].imshow(expr2_slice, cmap = plt.get_cmap('OrRd'), alpha = 0.4)\n",
    "axes[1].set_title(exprfile2)"
   ]
  },
  {
   "cell_type": "markdown",
   "id": "a3fa0eb3",
   "metadata": {},
   "source": [
    "The two genes with the largest \"importances\" based on the integrated gradients method seem to have expression profiles that are localized to the caudoputamen. \n",
    "\n",
    "We know from this project that the striatum has really strong gene expression similarity between the mouse and human. What about a region that isn't as obvious? Let's look at the primary motor area. "
   ]
  },
  {
   "cell_type": "code",
   "execution_count": 27,
   "id": "6b091487",
   "metadata": {},
   "outputs": [],
   "source": [
    "target_struct = 'Primary motor area'\n",
    "target_label = int(dfLabels\n",
    "                .loc[dfLabels['Region67'] == target_struct, ['y']]\n",
    "                .drop_duplicates()\n",
    "                .values[0][0])"
   ]
  },
  {
   "cell_type": "code",
   "execution_count": 28,
   "id": "bdcfc7d7",
   "metadata": {},
   "outputs": [],
   "source": [
    "attr = ig.attribute(X_tensor, \n",
    "                    target = target_label, \n",
    "                    internal_batch_size = X.shape[0])\n",
    "\n",
    "#Convert to numpy array\n",
    "attr = attr.detach().numpy()\n",
    "\n",
    "attr_mean = np.mean(attr, axis = 0)"
   ]
  },
  {
   "cell_type": "code",
   "execution_count": 29,
   "id": "678b654e",
   "metadata": {},
   "outputs": [],
   "source": [
    "x_pos = np.arange(len(genes))\n",
    "attr_mean_sorted, genes_sorted = zip(*sorted(zip(attr_mean, genes)))"
   ]
  },
  {
   "cell_type": "code",
   "execution_count": 30,
   "id": "00a1edae",
   "metadata": {},
   "outputs": [
    {
     "data": {
      "text/plain": [
       "Text(0.5, 0, 'Gene')"
      ]
     },
     "execution_count": 30,
     "metadata": {},
     "output_type": "execute_result"
    },
    {
     "data": {
      "image/png": "[encoded data removed]",
      "text/plain": [
       "<Figure size 864x864 with 2 Axes>"
      ]
     },
     "metadata": {
      "needs_background": "light"
     },
     "output_type": "display_data"
    }
   ],
   "source": [
    "fig, axes = plt.subplots(2, 1, figsize = (12,12))\n",
    "\n",
    "axes[0].grid(zorder = 0, axis = 'y')\n",
    "axes[0].bar(x_pos, attr_mean, zorder = 2)\n",
    "axes[0].set_xticks([])\n",
    "axes[0].set_title('Feature importances for region: {}'.format(target_struct))\n",
    "\n",
    "axes[1].grid(zorder = 0, axis = 'y')\n",
    "axes[1].bar(x_pos, attr_mean_sorted, align = 'center', zorder = 2)\n",
    "axes[1].set_xticks([])\n",
    "axes[1].set_xlabel('Gene')"
   ]
  },
  {
   "cell_type": "markdown",
   "id": "eba99183",
   "metadata": {},
   "source": [
    "In this case, there isn't any one gene that is standing out above the rest. Regardless, what are the top genes here? "
   ]
  },
  {
   "cell_type": "code",
   "execution_count": 31,
   "id": "c2f34c6d",
   "metadata": {},
   "outputs": [
    {
     "data": {
      "image/png": "[encoded data removed]",
      "text/plain": [
       "<Figure size 864x432 with 1 Axes>"
      ]
     },
     "metadata": {
      "needs_background": "light"
     },
     "output_type": "display_data"
    }
   ],
   "source": [
    "fig, ax = plt.subplots(figsize = (12,6))\n",
    "ax.grid(zorder = 0, axis = 'y')\n",
    "ax.bar(x_pos[-10:], attr_mean_sorted[-10:], align = 'center', zorder = 2)\n",
    "ax.set_xticks(x_pos[-10:], genes_sorted[-10:])\n",
    "ax.set_xlabel('Gene')\n",
    "ax.set_title('Feature importances for region: {}'.format(target_struct))\n",
    "plt.show()"
   ]
  },
  {
   "cell_type": "markdown",
   "id": "eaee89c5",
   "metadata": {},
   "source": [
    "More of a plateau here, but with 10,000 input observations, we find that IER5 and PHACTR2 are the top genes.\n",
    "\n",
    "What do these look like? "
   ]
  },
  {
   "cell_type": "code",
   "execution_count": 33,
   "id": "6e608e49",
   "metadata": {},
   "outputs": [],
   "source": [
    "exprfile1 = '../AMBA/data/expression/coronal/Ier5_73931410.mnc'\n",
    "exprfile2 = '../AMBA/data/expression/coronal/Phactr2_73521004.mnc'\n",
    "\n",
    "expr1 = volumeFromFile(exprfile1)\n",
    "expr2 = volumeFromFile(exprfile2)\n",
    "\n",
    "expr1 = np.array(expr1.data)\n",
    "expr2 = np.array(expr2.data)\n",
    "\n",
    "expr1[mask == 0] = np.nan\n",
    "expr2[mask == 0] = np.nan"
   ]
  },
  {
   "cell_type": "code",
   "execution_count": 34,
   "id": "878df96b",
   "metadata": {},
   "outputs": [
    {
     "data": {
      "text/plain": [
       "Text(0.5, 1.0, '../AMBA/data/expression/coronal/Phactr2_73521004.mnc')"
      ]
     },
     "execution_count": 34,
     "metadata": {},
     "output_type": "execute_result"
    },
    {
     "data": {
      "image/png": "[encoded data removed]",
      "text/plain": [
       "<Figure size 1440x440.597 with 2 Axes>"
      ]
     },
     "metadata": {
      "needs_background": "light"
     },
     "output_type": "display_data"
    }
   ],
   "source": [
    "slc = 47\n",
    "\n",
    "anat_slice = anat[:,slc,:]\n",
    "expr1_slice = expr1[:,slc,:]\n",
    "expr2_slice = expr2[:,slc,:]\n",
    "\n",
    "anat_slice = np.flip(anat_slice, axis = 0)\n",
    "expr1_slice = np.flip(expr1_slice, axis = 0)\n",
    "expr2_slice = np.flip(expr2_slice, axis = 0)\n",
    "\n",
    "fig, axes = plt.subplots(1, 2, figsize = (2*10, 10/asp))\n",
    "\n",
    "axes[0].imshow(anat_slice, cmap = plt.get_cmap('binary'))\n",
    "axes[0].imshow(expr1_slice, cmap = plt.get_cmap('OrRd'), alpha = 0.4)\n",
    "axes[0].set_title(exprfile1)\n",
    "\n",
    "axes[1].imshow(anat_slice, cmap = plt.get_cmap('binary'))\n",
    "axes[1].imshow(expr2_slice, cmap = plt.get_cmap('OrRd'), alpha = 0.4)\n",
    "axes[1].set_title(exprfile2)"
   ]
  },
  {
   "cell_type": "markdown",
   "id": "3df608c5",
   "metadata": {},
   "source": [
    "Unclear how this relates to M1. Would need a better slice series. This is also probably a regime where we don't have a small set of genes contributing to the classification. "
   ]
  }
 ],
 "metadata": {
  "kernelspec": {
   "display_name": "Python 3 (ipykernel)",
   "language": "python",
   "name": "python3"
  },
  "language_info": {
   "codemirror_mode": {
    "name": "ipython",
    "version": 3
   },
   "file_extension": ".py",
   "mimetype": "text/x-python",
   "name": "python",
   "nbconvert_exporter": "python",
   "pygments_lexer": "ipython3",
   "version": "3.8.10"
  }
 },
 "nbformat": 4,
 "nbformat_minor": 5
}
