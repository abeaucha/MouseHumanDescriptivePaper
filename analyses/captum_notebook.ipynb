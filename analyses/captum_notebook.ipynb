{
 "cells": [
  {
   "cell_type": "markdown",
   "id": "f353a841",
   "metadata": {},
   "source": [
    "# Packages"
   ]
  },
  {
   "cell_type": "code",
   "execution_count": 1,
   "id": "781070d2",
   "metadata": {},
   "outputs": [
    {
     "data": {
      "text/html": [
       "<style type='text/css'>\n",
       ".datatable table.frame { margin-bottom: 0; }\n",
       ".datatable table.frame thead { border-bottom: none; }\n",
       ".datatable table.frame tr.coltypes td {  color: #FFFFFF;  line-height: 6px;  padding: 0 0.5em;}\n",
       ".datatable .bool    { background: #DDDD99; }\n",
       ".datatable .object  { background: #565656; }\n",
       ".datatable .int     { background: #5D9E5D; }\n",
       ".datatable .float   { background: #4040CC; }\n",
       ".datatable .str     { background: #CC4040; }\n",
       ".datatable .time    { background: #40CC40; }\n",
       ".datatable .row_index {  background: var(--jp-border-color3);  border-right: 1px solid var(--jp-border-color0);  color: var(--jp-ui-font-color3);  font-size: 9px;}\n",
       ".datatable .frame tbody td { text-align: left; }\n",
       ".datatable .frame tr.coltypes .row_index {  background: var(--jp-border-color0);}\n",
       ".datatable th:nth-child(2) { padding-left: 12px; }\n",
       ".datatable .hellipsis {  color: var(--jp-cell-editor-border-color);}\n",
       ".datatable .vellipsis {  background: var(--jp-layout-color0);  color: var(--jp-cell-editor-border-color);}\n",
       ".datatable .na {  color: var(--jp-cell-editor-border-color);  font-size: 80%;}\n",
       ".datatable .sp {  opacity: 0.25;}\n",
       ".datatable .footer { font-size: 9px; }\n",
       ".datatable .frame_dimensions {  background: var(--jp-border-color3);  border-top: 1px solid var(--jp-border-color0);  color: var(--jp-ui-font-color3);  display: inline-block;  opacity: 0.6;  padding: 1px 10px 1px 5px;}\n",
       "</style>\n"
      ],
      "text/plain": [
       "<IPython.core.display.HTML object>"
      ]
     },
     "metadata": {},
     "output_type": "display_data"
    }
   ],
   "source": [
    "import pandas as pd\n",
    "import numpy as np\n",
    "import random\n",
    "import os\n",
    "from datatable import fread\n",
    "\n",
    "import torch\n",
    "import torch.nn.functional as F\n",
    "from torch                    import nn\n",
    "from torch.optim              import AdamW\n",
    "from torch.optim.lr_scheduler import OneCycleLR\n",
    "\n",
    "from skorch                   import NeuralNetClassifier\n",
    "from skorch.callbacks         import LRScheduler\n",
    "from skorch.helper            import DataFrameTransformer"
   ]
  },
  {
   "cell_type": "markdown",
   "id": "eeb664db",
   "metadata": {},
   "source": [
    "# Import"
   ]
  },
  {
   "cell_type": "code",
   "execution_count": 2,
   "id": "685b9e8b",
   "metadata": {},
   "outputs": [],
   "source": [
    "#Data directory\n",
    "datadir = 'data/'\n",
    "\n",
    "#Import mouse voxelwise data to use for training\n",
    "file_voxel = \"MouseExpressionMatrix_voxel_coronal_maskcoronal_log2_grouped_imputed_labelled_scaled.csv\"\n",
    "filepath_voxel = os.path.join(datadir, file_voxel)\n",
    "\n",
    "#Import expression matrix\n",
    "dfExprVoxel = (fread(filepath_voxel, header = True)\n",
    "               .to_pandas())"
   ]
  },
  {
   "cell_type": "markdown",
   "id": "9b2a3403",
   "metadata": {},
   "source": [
    "# Data preparation"
   ]
  },
  {
   "cell_type": "markdown",
   "id": "0becb1cf",
   "metadata": {},
   "source": [
    "Let's start by sampling a subset of voxels. Ultimately this isn't necessary, but the methods used for feature importance take some time to run, so as a proof of concept we'll use fewer data points."
   ]
  },
  {
   "cell_type": "code",
   "execution_count": 3,
   "id": "33dad8be",
   "metadata": {},
   "outputs": [],
   "source": [
    "#Sample some observations for training\n",
    "dfExprVoxel = dfExprVoxel.sample(n = 10000, axis = 0, random_state = 1).copy()"
   ]
  },
  {
   "cell_type": "markdown",
   "id": "9126add4",
   "metadata": {},
   "source": [
    "Next we prepare the data for training, mainly by separating labels and inputs, and converting to numpy arrays."
   ]
  },
  {
   "cell_type": "code",
   "execution_count": 4,
   "id": "476303bd",
   "metadata": {},
   "outputs": [],
   "source": [
    "#Sample 5000 observations for training\n",
    "dfExprVoxel = dfExprVoxel.sample(n = 10000, axis = 0, random_state = 1).copy()\n",
    "\n",
    "#Identify which columns contain labels\n",
    "indLabels = dfExprVoxel.columns.str.match('Region')\n",
    "\n",
    "#Extract matrix of gene expression values\n",
    "dfInput = dfExprVoxel.loc[:,~indLabels]\n",
    "\n",
    "#Column containing training labels\n",
    "labelcol = 'Region67'\n",
    "\n",
    "#Create a new data frame containing training labels\n",
    "dfLabels = dfExprVoxel[[labelcol]].copy()\n",
    "\n",
    "#Convert labels to category type\n",
    "dfLabels.loc[:,labelcol] = dfLabels.loc[:,labelcol].astype('category')\n",
    "\n",
    "# Create an instance of the data transformer\n",
    "dftx = DataFrameTransformer()\n",
    "\n",
    "# Fit and transform the input and label data frames\n",
    "X_temp = dftx.fit_transform(dfInput)\n",
    "y_temp = dftx.fit_transform(dfLabels)\n",
    "\n",
    "# Extract the arrays from the dictionaries.\n",
    "X = X_temp['X']\n",
    "y = y_temp[labelcol]"
   ]
  },
  {
   "cell_type": "markdown",
   "id": "34488b97",
   "metadata": {},
   "source": [
    "# Training the network"
   ]
  },
  {
   "cell_type": "markdown",
   "id": "85d9def9",
   "metadata": {},
   "source": [
    "First we specify some of the hyperparameters of the perceptron."
   ]
  },
  {
   "cell_type": "code",
   "execution_count": 5,
   "id": "213ca9f2",
   "metadata": {},
   "outputs": [],
   "source": [
    "#Specify network parameters\n",
    "hidden_units = 200\n",
    "weight_decay = 1e-6\n",
    "max_epochs = 200\n",
    "learning_rate = 1e-5\n",
    "device = 'cpu'\n",
    "seed = 1"
   ]
  },
  {
   "cell_type": "markdown",
   "id": "5cf2b0bd",
   "metadata": {},
   "source": [
    "Next, define the architecture of neural network, and initialize an instance of it with the desired number of input units, hidden units, and output units."
   ]
  },
  {
   "cell_type": "code",
   "execution_count": 6,
   "id": "c0787749",
   "metadata": {},
   "outputs": [],
   "source": [
    "#Set seed\n",
    "np.random.seed(seed)\n",
    "torch.manual_seed(seed)\n",
    "random.seed(seed)\n",
    "\n",
    "#Define network architecture\n",
    "class ClassifierModule(nn.Module):\n",
    "    def __init__(\n",
    "        self,\n",
    "        input_units,\n",
    "        output_units,\n",
    "        hidden_units,\n",
    "        apply_output_layer = True #Flag to apply output layer\n",
    "    ):\n",
    "        super(ClassifierModule, self).__init__()\n",
    "\n",
    "        self.apply_output_layer = apply_output_layer\n",
    "\n",
    "        self.hidden1 = nn.Linear(input_units, hidden_units)\n",
    "        self.hidden2 = nn.Linear(hidden_units, hidden_units)\n",
    "        self.hidden3 = nn.Linear(hidden_units, hidden_units)\n",
    "        self.output = nn.Linear(hidden_units, output_units)\n",
    "\n",
    "\n",
    "    def forward(self, X, **kwargs):\n",
    "        X = F.relu(self.hidden1(X))\n",
    "        X = F.relu(self.hidden2(X))\n",
    "        X = F.relu(self.hidden3(X))\n",
    "\n",
    "        #If flag is True, apply output layer\n",
    "        if self.apply_output_layer is True:\n",
    "            X = F.softmax(self.output(X), dim = -1)\n",
    "\n",
    "        return X\n",
    "\n",
    "#Initialize network class with desired architecture\n",
    "my_network = ClassifierModule(input_units = X.shape[1],\n",
    "                              output_units = len(np.unique(y)),\n",
    "                              hidden_units = hidden_units)\n",
    "    "
   ]
  },
  {
   "cell_type": "markdown",
   "id": "873eff1c",
   "metadata": {},
   "source": [
    "With the architecture specified, we now specify the optimization routine."
   ]
  },
  {
   "cell_type": "code",
   "execution_count": 7,
   "id": "0245031f",
   "metadata": {},
   "outputs": [],
   "source": [
    "#Specify the optimization routine\n",
    "net = NeuralNetClassifier(my_network,\n",
    "                          train_split = None,\n",
    "                          optimizer = AdamW,\n",
    "                          optimizer__weight_decay = weight_decay,\n",
    "                          max_epochs = max_epochs,\n",
    "                          callbacks = [('lr_scheduler',\n",
    "                                        LRScheduler(policy=OneCycleLR,\n",
    "                                                    total_steps=max_epochs,\n",
    "                                                    cycle_momentum=False,  \n",
    "                                                    max_lr=learning_rate))],\n",
    "                          device = device)"
   ]
  },
  {
   "cell_type": "markdown",
   "id": "86f1153f",
   "metadata": {},
   "source": [
    "And finally we can fit the model."
   ]
  },
  {
   "cell_type": "code",
   "execution_count": 8,
   "id": "9080b37a",
   "metadata": {},
   "outputs": [
    {
     "name": "stdout",
     "output_type": "stream",
     "text": [
      "  epoch    train_loss      lr     dur\n",
      "-------  ------------  ------  ------\n",
      "      1        \u001b[36m4.2006\u001b[0m  0.0000  0.3429\n",
      "      2        \u001b[36m4.1990\u001b[0m  0.0000  0.2499\n",
      "      3        \u001b[36m4.1974\u001b[0m  0.0000  0.2498\n",
      "      4        \u001b[36m4.1957\u001b[0m  0.0000  0.2505\n",
      "      5        \u001b[36m4.1938\u001b[0m  0.0000  0.2723\n",
      "      6        \u001b[36m4.1917\u001b[0m  0.0000  0.2514\n",
      "      7        \u001b[36m4.1893\u001b[0m  0.0000  0.2507\n",
      "      8        \u001b[36m4.1865\u001b[0m  0.0000  0.2681\n",
      "      9        \u001b[36m4.1833\u001b[0m  0.0000  0.2519\n",
      "     10        \u001b[36m4.1794\u001b[0m  0.0000  0.2519\n",
      "     11        \u001b[36m4.1749\u001b[0m  0.0000  0.2517\n",
      "     12        \u001b[36m4.1694\u001b[0m  0.0000  0.2518\n",
      "     13        \u001b[36m4.1627\u001b[0m  0.0000  0.2524\n",
      "     14        \u001b[36m4.1544\u001b[0m  0.0000  0.2567\n",
      "     15        \u001b[36m4.1441\u001b[0m  0.0000  0.2550\n",
      "     16        \u001b[36m4.1310\u001b[0m  0.0000  0.2531\n",
      "     17        \u001b[36m4.1143\u001b[0m  0.0000  0.2523\n",
      "     18        \u001b[36m4.0927\u001b[0m  0.0000  0.2574\n",
      "     19        \u001b[36m4.0648\u001b[0m  0.0000  0.2553\n",
      "     20        \u001b[36m4.0282\u001b[0m  0.0000  0.2520\n",
      "     21        \u001b[36m3.9801\u001b[0m  0.0000  0.2518\n",
      "     22        \u001b[36m3.9165\u001b[0m  0.0000  0.2551\n",
      "     23        \u001b[36m3.8330\u001b[0m  0.0000  0.2564\n",
      "     24        \u001b[36m3.7268\u001b[0m  0.0000  0.2569\n",
      "     25        \u001b[36m3.6000\u001b[0m  0.0000  0.2544\n",
      "     26        \u001b[36m3.4608\u001b[0m  0.0000  0.2539\n",
      "     27        \u001b[36m3.3192\u001b[0m  0.0000  0.2650\n",
      "     28        \u001b[36m3.1795\u001b[0m  0.0000  0.2590\n",
      "     29        \u001b[36m3.0418\u001b[0m  0.0000  0.2656\n",
      "     30        \u001b[36m2.9085\u001b[0m  0.0000  0.2590\n",
      "     31        \u001b[36m2.7828\u001b[0m  0.0000  0.2585\n",
      "     32        \u001b[36m2.6649\u001b[0m  0.0000  0.2554\n",
      "     33        \u001b[36m2.5526\u001b[0m  0.0000  0.2585\n",
      "     34        \u001b[36m2.4457\u001b[0m  0.0000  0.2564\n",
      "     35        \u001b[36m2.3446\u001b[0m  0.0000  0.2594\n",
      "     36        \u001b[36m2.2486\u001b[0m  0.0000  0.2616\n",
      "     37        \u001b[36m2.1568\u001b[0m  0.0000  0.2575\n",
      "     38        \u001b[36m2.0688\u001b[0m  0.0000  0.2616\n",
      "     39        \u001b[36m1.9841\u001b[0m  0.0000  0.2560\n",
      "     40        \u001b[36m1.9029\u001b[0m  0.0000  0.2596\n",
      "     41        \u001b[36m1.8259\u001b[0m  0.0000  0.2601\n",
      "     42        \u001b[36m1.7523\u001b[0m  0.0000  0.2588\n",
      "     43        \u001b[36m1.6828\u001b[0m  0.0000  0.2503\n",
      "     44        \u001b[36m1.6167\u001b[0m  0.0000  0.2502\n",
      "     45        \u001b[36m1.5532\u001b[0m  0.0000  0.2504\n",
      "     46        \u001b[36m1.4927\u001b[0m  0.0000  0.2503\n",
      "     47        \u001b[36m1.4349\u001b[0m  0.0000  0.2505\n",
      "     48        \u001b[36m1.3797\u001b[0m  0.0000  0.2507\n",
      "     49        \u001b[36m1.3266\u001b[0m  0.0000  0.2513\n",
      "     50        \u001b[36m1.2758\u001b[0m  0.0000  0.2509\n",
      "     51        \u001b[36m1.2273\u001b[0m  0.0000  0.2506\n",
      "     52        \u001b[36m1.1819\u001b[0m  0.0000  0.2519\n",
      "     53        \u001b[36m1.1394\u001b[0m  0.0000  0.2504\n",
      "     54        \u001b[36m1.0995\u001b[0m  0.0000  0.2540\n",
      "     55        \u001b[36m1.0619\u001b[0m  0.0000  0.2516\n",
      "     56        \u001b[36m1.0266\u001b[0m  0.0000  0.2588\n",
      "     57        \u001b[36m0.9932\u001b[0m  0.0000  0.2795\n",
      "     58        \u001b[36m0.9619\u001b[0m  0.0000  0.2527\n",
      "     59        \u001b[36m0.9323\u001b[0m  0.0000  0.2517\n",
      "     60        \u001b[36m0.9045\u001b[0m  0.0000  0.2523\n",
      "     61        \u001b[36m0.8782\u001b[0m  0.0000  0.2519\n",
      "     62        \u001b[36m0.8535\u001b[0m  0.0000  0.2527\n",
      "     63        \u001b[36m0.8302\u001b[0m  0.0000  0.2512\n",
      "     64        \u001b[36m0.8082\u001b[0m  0.0000  0.2525\n",
      "     65        \u001b[36m0.7873\u001b[0m  0.0000  0.2513\n",
      "     66        \u001b[36m0.7676\u001b[0m  0.0000  0.2517\n",
      "     67        \u001b[36m0.7489\u001b[0m  0.0000  0.2520\n",
      "     68        \u001b[36m0.7311\u001b[0m  0.0000  0.2509\n",
      "     69        \u001b[36m0.7142\u001b[0m  0.0000  0.2529\n",
      "     70        \u001b[36m0.6981\u001b[0m  0.0000  0.2510\n",
      "     71        \u001b[36m0.6827\u001b[0m  0.0000  0.2504\n",
      "     72        \u001b[36m0.6681\u001b[0m  0.0000  0.2505\n",
      "     73        \u001b[36m0.6541\u001b[0m  0.0000  0.2504\n",
      "     74        \u001b[36m0.6408\u001b[0m  0.0000  0.2506\n",
      "     75        \u001b[36m0.6280\u001b[0m  0.0000  0.2508\n",
      "     76        \u001b[36m0.6157\u001b[0m  0.0000  0.2566\n",
      "     77        \u001b[36m0.6040\u001b[0m  0.0000  0.2531\n",
      "     78        \u001b[36m0.5927\u001b[0m  0.0000  0.2509\n",
      "     79        \u001b[36m0.5819\u001b[0m  0.0000  0.2512\n",
      "     80        \u001b[36m0.5715\u001b[0m  0.0000  0.2538\n",
      "     81        \u001b[36m0.5615\u001b[0m  0.0000  0.2533\n",
      "     82        \u001b[36m0.5520\u001b[0m  0.0000  0.2561\n",
      "     83        \u001b[36m0.5428\u001b[0m  0.0000  0.2560\n",
      "     84        \u001b[36m0.5339\u001b[0m  0.0000  0.2529\n",
      "     85        \u001b[36m0.5254\u001b[0m  0.0000  0.2573\n",
      "     86        \u001b[36m0.5172\u001b[0m  0.0000  0.2544\n",
      "     87        \u001b[36m0.5093\u001b[0m  0.0000  0.2517\n",
      "     88        \u001b[36m0.5017\u001b[0m  0.0000  0.2517\n",
      "     89        \u001b[36m0.4944\u001b[0m  0.0000  0.2512\n",
      "     90        \u001b[36m0.4873\u001b[0m  0.0000  0.2517\n",
      "     91        \u001b[36m0.4805\u001b[0m  0.0000  0.2615\n",
      "     92        \u001b[36m0.4739\u001b[0m  0.0000  0.2702\n",
      "     93        \u001b[36m0.4676\u001b[0m  0.0000  0.2685\n",
      "     94        \u001b[36m0.4614\u001b[0m  0.0000  0.2680\n",
      "     95        \u001b[36m0.4555\u001b[0m  0.0000  0.2684\n",
      "     96        \u001b[36m0.4497\u001b[0m  0.0000  0.2694\n",
      "     97        \u001b[36m0.4442\u001b[0m  0.0000  0.2688\n",
      "     98        \u001b[36m0.4388\u001b[0m  0.0000  0.2696\n",
      "     99        \u001b[36m0.4336\u001b[0m  0.0000  0.2725\n",
      "    100        \u001b[36m0.4285\u001b[0m  0.0000  0.2759\n",
      "    101        \u001b[36m0.4236\u001b[0m  0.0000  0.2699\n",
      "    102        \u001b[36m0.4189\u001b[0m  0.0000  0.2708\n",
      "    103        \u001b[36m0.4143\u001b[0m  0.0000  0.2720\n",
      "    104        \u001b[36m0.4099\u001b[0m  0.0000  0.2678\n",
      "    105        \u001b[36m0.4056\u001b[0m  0.0000  0.2728\n",
      "    106        \u001b[36m0.4014\u001b[0m  0.0000  0.2684\n",
      "    107        \u001b[36m0.3974\u001b[0m  0.0000  0.2676\n",
      "    108        \u001b[36m0.3934\u001b[0m  0.0000  0.2832\n",
      "    109        \u001b[36m0.3897\u001b[0m  0.0000  0.3009\n",
      "    110        \u001b[36m0.3860\u001b[0m  0.0000  0.2955\n",
      "    111        \u001b[36m0.3824\u001b[0m  0.0000  0.2752\n",
      "    112        \u001b[36m0.3790\u001b[0m  0.0000  0.2714\n",
      "    113        \u001b[36m0.3756\u001b[0m  0.0000  0.2717\n",
      "    114        \u001b[36m0.3724\u001b[0m  0.0000  0.2704\n",
      "    115        \u001b[36m0.3692\u001b[0m  0.0000  0.2718\n",
      "    116        \u001b[36m0.3661\u001b[0m  0.0000  0.2716\n",
      "    117        \u001b[36m0.3632\u001b[0m  0.0000  0.2701\n",
      "    118        \u001b[36m0.3603\u001b[0m  0.0000  0.2691\n",
      "    119        \u001b[36m0.3575\u001b[0m  0.0000  0.2728\n",
      "    120        \u001b[36m0.3548\u001b[0m  0.0000  0.2703\n",
      "    121        \u001b[36m0.3522\u001b[0m  0.0000  0.2682\n",
      "    122        \u001b[36m0.3496\u001b[0m  0.0000  0.2689\n",
      "    123        \u001b[36m0.3471\u001b[0m  0.0000  0.2728\n",
      "    124        \u001b[36m0.3447\u001b[0m  0.0000  0.2696\n",
      "    125        \u001b[36m0.3424\u001b[0m  0.0000  0.2709\n",
      "    126        \u001b[36m0.3402\u001b[0m  0.0000  0.2725\n",
      "    127        \u001b[36m0.3380\u001b[0m  0.0000  0.2701\n",
      "    128        \u001b[36m0.3359\u001b[0m  0.0000  0.2700\n",
      "    129        \u001b[36m0.3338\u001b[0m  0.0000  0.2715\n",
      "    130        \u001b[36m0.3318\u001b[0m  0.0000  0.2710\n",
      "    131        \u001b[36m0.3299\u001b[0m  0.0000  0.2716\n",
      "    132        \u001b[36m0.3280\u001b[0m  0.0000  0.2854\n",
      "    133        \u001b[36m0.3262\u001b[0m  0.0000  0.2706\n",
      "    134        \u001b[36m0.3245\u001b[0m  0.0000  0.2734\n",
      "    135        \u001b[36m0.3228\u001b[0m  0.0000  0.2739\n",
      "    136        \u001b[36m0.3212\u001b[0m  0.0000  0.2677\n",
      "    137        \u001b[36m0.3196\u001b[0m  0.0000  0.2684\n",
      "    138        \u001b[36m0.3181\u001b[0m  0.0000  0.2680\n",
      "    139        \u001b[36m0.3166\u001b[0m  0.0000  0.2675\n",
      "    140        \u001b[36m0.3152\u001b[0m  0.0000  0.2679\n",
      "    141        \u001b[36m0.3138\u001b[0m  0.0000  0.2698\n",
      "    142        \u001b[36m0.3124\u001b[0m  0.0000  0.2680\n",
      "    143        \u001b[36m0.3112\u001b[0m  0.0000  0.2689\n",
      "    144        \u001b[36m0.3099\u001b[0m  0.0000  0.2679\n",
      "    145        \u001b[36m0.3087\u001b[0m  0.0000  0.2683\n",
      "    146        \u001b[36m0.3076\u001b[0m  0.0000  0.2706\n",
      "    147        \u001b[36m0.3065\u001b[0m  0.0000  0.2699\n",
      "    148        \u001b[36m0.3054\u001b[0m  0.0000  0.2706\n",
      "    149        \u001b[36m0.3044\u001b[0m  0.0000  0.2690\n",
      "    150        \u001b[36m0.3034\u001b[0m  0.0000  0.2737\n",
      "    151        \u001b[36m0.3024\u001b[0m  0.0000  0.2691\n",
      "    152        \u001b[36m0.3015\u001b[0m  0.0000  0.2682\n",
      "    153        \u001b[36m0.3006\u001b[0m  0.0000  0.2681\n",
      "    154        \u001b[36m0.2998\u001b[0m  0.0000  0.2680\n",
      "    155        \u001b[36m0.2990\u001b[0m  0.0000  0.2733\n",
      "    156        \u001b[36m0.2982\u001b[0m  0.0000  0.2699\n",
      "    157        \u001b[36m0.2975\u001b[0m  0.0000  0.2676\n",
      "    158        \u001b[36m0.2968\u001b[0m  0.0000  0.2674\n",
      "    159        \u001b[36m0.2961\u001b[0m  0.0000  0.2731\n",
      "    160        \u001b[36m0.2955\u001b[0m  0.0000  0.2702\n",
      "    161        \u001b[36m0.2949\u001b[0m  0.0000  0.2699\n",
      "    162        \u001b[36m0.2943\u001b[0m  0.0000  0.2727\n",
      "    163        \u001b[36m0.2937\u001b[0m  0.0000  0.2685\n",
      "    164        \u001b[36m0.2932\u001b[0m  0.0000  0.2685\n",
      "    165        \u001b[36m0.2927\u001b[0m  0.0000  0.2689\n",
      "    166        \u001b[36m0.2922\u001b[0m  0.0000  0.2699\n",
      "    167        \u001b[36m0.2918\u001b[0m  0.0000  0.2683\n",
      "    168        \u001b[36m0.2914\u001b[0m  0.0000  0.2688\n",
      "    169        \u001b[36m0.2910\u001b[0m  0.0000  0.2714\n",
      "    170        \u001b[36m0.2906\u001b[0m  0.0000  0.2712\n",
      "    171        \u001b[36m0.2902\u001b[0m  0.0000  0.2755\n",
      "    172        \u001b[36m0.2899\u001b[0m  0.0000  0.2708\n",
      "    173        \u001b[36m0.2896\u001b[0m  0.0000  0.2716\n"
     ]
    },
    {
     "name": "stdout",
     "output_type": "stream",
     "text": [
      "    174        \u001b[36m0.2893\u001b[0m  0.0000  0.2716\n",
      "    175        \u001b[36m0.2891\u001b[0m  0.0000  0.2718\n",
      "    176        \u001b[36m0.2888\u001b[0m  0.0000  0.2677\n",
      "    177        \u001b[36m0.2886\u001b[0m  0.0000  0.2704\n",
      "    178        \u001b[36m0.2884\u001b[0m  0.0000  0.2675\n",
      "    179        \u001b[36m0.2882\u001b[0m  0.0000  0.2680\n",
      "    180        \u001b[36m0.2880\u001b[0m  0.0000  0.2673\n",
      "    181        \u001b[36m0.2879\u001b[0m  0.0000  0.2674\n",
      "    182        \u001b[36m0.2877\u001b[0m  0.0000  0.2681\n",
      "    183        \u001b[36m0.2876\u001b[0m  0.0000  0.2687\n",
      "    184        \u001b[36m0.2875\u001b[0m  0.0000  0.2682\n",
      "    185        \u001b[36m0.2874\u001b[0m  0.0000  0.2673\n",
      "    186        \u001b[36m0.2873\u001b[0m  0.0000  0.2680\n",
      "    187        \u001b[36m0.2872\u001b[0m  0.0000  0.2679\n",
      "    188        \u001b[36m0.2871\u001b[0m  0.0000  0.2752\n",
      "    189        \u001b[36m0.2871\u001b[0m  0.0000  0.2680\n",
      "    190        \u001b[36m0.2870\u001b[0m  0.0000  0.2683\n",
      "    191        \u001b[36m0.2870\u001b[0m  0.0000  0.2699\n",
      "    192        \u001b[36m0.2869\u001b[0m  0.0000  0.2710\n",
      "    193        \u001b[36m0.2869\u001b[0m  0.0000  0.2733\n",
      "    194        \u001b[36m0.2869\u001b[0m  0.0000  0.2710\n",
      "    195        \u001b[36m0.2869\u001b[0m  0.0000  0.2687\n",
      "    196        \u001b[36m0.2869\u001b[0m  0.0000  0.2724\n",
      "    197        \u001b[36m0.2868\u001b[0m  0.0000  0.2702\n",
      "    198        \u001b[36m0.2868\u001b[0m  0.0000  0.2697\n",
      "    199        \u001b[36m0.2868\u001b[0m  0.0000  0.2716\n",
      "    200        \u001b[36m0.2868\u001b[0m  0.0000  0.2703\n"
     ]
    },
    {
     "data": {
      "text/plain": [
       "<class 'skorch.classifier.NeuralNetClassifier'>[initialized](\n",
       "  module_=ClassifierModule(\n",
       "    (hidden1): Linear(in_features=2835, out_features=200, bias=True)\n",
       "    (relu1): ReLU()\n",
       "    (hidden2): Linear(in_features=200, out_features=200, bias=True)\n",
       "    (relu2): ReLU()\n",
       "    (hidden3): Linear(in_features=200, out_features=200, bias=True)\n",
       "    (relu3): ReLU()\n",
       "    (output): Linear(in_features=200, out_features=67, bias=True)\n",
       "  ),\n",
       ")"
      ]
     },
     "execution_count": 8,
     "metadata": {},
     "output_type": "execute_result"
    }
   ],
   "source": [
    "#Train the network\n",
    "net.fit(X, y)"
   ]
  },
  {
   "cell_type": "markdown",
   "id": "b874eb50",
   "metadata": {},
   "source": [
    "To confirm this is working as it should, let's compute the training accuracy:"
   ]
  },
  {
   "cell_type": "code",
   "execution_count": 9,
   "id": "7a849dd7",
   "metadata": {},
   "outputs": [
    {
     "data": {
      "text/plain": [
       "0.9185"
      ]
     },
     "execution_count": 9,
     "metadata": {},
     "output_type": "execute_result"
    }
   ],
   "source": [
    "#Convert input np array to torch tensor\n",
    "X_tensor = torch.from_numpy(X).type(torch.FloatTensor)\n",
    "\n",
    "#Apply network to input tensor to get output probabilities\n",
    "y_prob = my_network(X_tensor).detach().numpy()\n",
    "\n",
    "#Classify using most likely label\n",
    "y_pred = np.argmax(y_prob, axis = 1)\n",
    "\n",
    "#Accuracy\n",
    "sum(y_pred == y)/len(y)"
   ]
  },
  {
   "cell_type": "markdown",
   "id": "a9f7a9c7",
   "metadata": {},
   "source": [
    "# Identifying feature importance using integrated gradients"
   ]
  },
  {
   "cell_type": "markdown",
   "id": "d2b0661f",
   "metadata": {},
   "source": [
    "The first method introduced in the Captum tutorial for feature importance is called \"integrated gradients\". I don't know what this is, but it seems like it returns some values for each of the inputs corresponding to a given output label."
   ]
  },
  {
   "cell_type": "code",
   "execution_count": 10,
   "id": "8df35885",
   "metadata": {},
   "outputs": [],
   "source": [
    "from captum.attr import IntegratedGradients"
   ]
  },
  {
   "cell_type": "markdown",
   "id": "87238d56",
   "metadata": {},
   "source": [
    "We need to specify what label we want to examine, so let's look at our dictionary"
   ]
  },
  {
   "cell_type": "code",
   "execution_count": 11,
   "id": "59131367",
   "metadata": {},
   "outputs": [
    {
     "data": {
      "text/html": [
       "<div>\n",
       "<style scoped>\n",
       "    .dataframe tbody tr th:only-of-type {\n",
       "        vertical-align: middle;\n",
       "    }\n",
       "\n",
       "    .dataframe tbody tr th {\n",
       "        vertical-align: top;\n",
       "    }\n",
       "\n",
       "    .dataframe thead th {\n",
       "        text-align: right;\n",
       "    }\n",
       "</style>\n",
       "<table border=\"1\" class=\"dataframe\">\n",
       "  <thead>\n",
       "    <tr style=\"text-align: right;\">\n",
       "      <th></th>\n",
       "      <th>Region67</th>\n",
       "      <th>y</th>\n",
       "    </tr>\n",
       "  </thead>\n",
       "  <tbody>\n",
       "    <tr>\n",
       "      <th>41104</th>\n",
       "      <td>Culmen</td>\n",
       "      <td>13</td>\n",
       "    </tr>\n",
       "    <tr>\n",
       "      <th>6127</th>\n",
       "      <td>Pons</td>\n",
       "      <td>46</td>\n",
       "    </tr>\n",
       "    <tr>\n",
       "      <th>18253</th>\n",
       "      <td>Olfactory areas-other</td>\n",
       "      <td>37</td>\n",
       "    </tr>\n",
       "    <tr>\n",
       "      <th>33205</th>\n",
       "      <td>Caudoputamen</td>\n",
       "      <td>4</td>\n",
       "    </tr>\n",
       "    <tr>\n",
       "      <th>14311</th>\n",
       "      <td>Ectorhinal area</td>\n",
       "      <td>17</td>\n",
       "    </tr>\n",
       "    <tr>\n",
       "      <th>...</th>\n",
       "      <td>...</td>\n",
       "      <td>...</td>\n",
       "    </tr>\n",
       "    <tr>\n",
       "      <th>42787</th>\n",
       "      <td>Declive (VI)</td>\n",
       "      <td>14</td>\n",
       "    </tr>\n",
       "    <tr>\n",
       "      <th>29782</th>\n",
       "      <td>Agranular insular area</td>\n",
       "      <td>1</td>\n",
       "    </tr>\n",
       "    <tr>\n",
       "      <th>18116</th>\n",
       "      <td>Claustrum</td>\n",
       "      <td>7</td>\n",
       "    </tr>\n",
       "    <tr>\n",
       "      <th>9770</th>\n",
       "      <td>Midbrain raphe nuclei</td>\n",
       "      <td>34</td>\n",
       "    </tr>\n",
       "    <tr>\n",
       "      <th>33715</th>\n",
       "      <td>Folium-tuber vermis (VII)</td>\n",
       "      <td>24</td>\n",
       "    </tr>\n",
       "  </tbody>\n",
       "</table>\n",
       "<p>67 rows × 2 columns</p>\n",
       "</div>"
      ],
      "text/plain": [
       "                        Region67   y\n",
       "41104                     Culmen  13\n",
       "6127                        Pons  46\n",
       "18253      Olfactory areas-other  37\n",
       "33205               Caudoputamen   4\n",
       "14311            Ectorhinal area  17\n",
       "...                          ...  ..\n",
       "42787               Declive (VI)  14\n",
       "29782     Agranular insular area   1\n",
       "18116                  Claustrum   7\n",
       "9770       Midbrain raphe nuclei  34\n",
       "33715  Folium-tuber vermis (VII)  24\n",
       "\n",
       "[67 rows x 2 columns]"
      ]
     },
     "execution_count": 11,
     "metadata": {},
     "output_type": "execute_result"
    }
   ],
   "source": [
    "dfLabels['y'] = y\n",
    "dfLabels.drop_duplicates()"
   ]
  },
  {
   "cell_type": "markdown",
   "id": "8d017b80",
   "metadata": {},
   "source": [
    "Let's start by examining the classification of caudoputamen voxels."
   ]
  },
  {
   "cell_type": "code",
   "execution_count": 15,
   "id": "92fd9dd8",
   "metadata": {},
   "outputs": [],
   "source": [
    "#Structure we want to examine\n",
    "target_struct = 'Caudoputamen'\n",
    "\n",
    "#Associated dummy label\n",
    "target_label = int(dfLabels\n",
    "                .loc[dfLabels['Region67'] == target_struct, ['y']]\n",
    "                .drop_duplicates()\n",
    "                .values[0][0])"
   ]
  },
  {
   "cell_type": "markdown",
   "id": "cd6cb948",
   "metadata": {},
   "source": [
    "To use integrated gradients, we first instantiate the relevant class, with our network architecture as input. We then apply the \"attribute\" method, here specifying the label that we want to examine."
   ]
  },
  {
   "cell_type": "code",
   "execution_count": 16,
   "id": "ea709994",
   "metadata": {},
   "outputs": [],
   "source": [
    "#Set up an integrated gradients class\n",
    "ig = IntegratedGradients(my_network)\n",
    "\n",
    "#Compute the attributes tensor for the desired target label\n",
    "X_tensor.requires_grad_()\n",
    "attr = ig.attribute(X_tensor, \n",
    "                    target = target_label, \n",
    "                    internal_batch_size = X.shape[0])\n",
    "\n",
    "#Convert to numpy array\n",
    "attr = attr.detach().numpy()"
   ]
  },
  {
   "cell_type": "markdown",
   "id": "25dc1003",
   "metadata": {},
   "source": [
    "It's unclear to me what this output is, but let's at least examine the shape of it."
   ]
  },
  {
   "cell_type": "code",
   "execution_count": 14,
   "id": "4899de83",
   "metadata": {},
   "outputs": [
    {
     "name": "stdout",
     "output_type": "stream",
     "text": [
      "(10000, 2624)\n"
     ]
    }
   ],
   "source": [
    "print(attr.shape)"
   ]
  },
  {
   "cell_type": "markdown",
   "id": "18ffd4bc",
   "metadata": {},
   "source": [
    "So this thing has the same shape as the input data, meaning rows corresponding to observations and columns to predictors. This gives us one value for each cell entry in our input matrix. Unclear what exactly those values mean...\n",
    "\n",
    "In the Captum tutorial, they take averages over the observations for each of the input features. Let's do that here. We're also going to sort the average values to see which features are most \"important\"."
   ]
  },
  {
   "cell_type": "code",
   "execution_count": 17,
   "id": "bb5e3a74",
   "metadata": {},
   "outputs": [],
   "source": [
    "#Grab the set of genes\n",
    "genes = dfInput.columns.to_numpy()\n",
    "\n",
    "#Array of x values for plotting\n",
    "x_pos = np.arange(len(genes))\n",
    "\n",
    "#Mean integrated gradient attributes over all \n",
    "#observations for each feature\n",
    "attr_mean = np.mean(attr, axis = 0)\n",
    "\n",
    "#Sorted attributes\n",
    "attr_mean_sorted, genes_sorted = zip(*sorted(zip(attr_mean, genes)))"
   ]
  },
  {
   "cell_type": "markdown",
   "id": "5fc3dc34",
   "metadata": {},
   "source": [
    "Now that we have these average feature importances corresponding to classification of the caudoputamen, let's plot them. "
   ]
  },
  {
   "cell_type": "code",
   "execution_count": 16,
   "id": "5b9ca260",
   "metadata": {},
   "outputs": [
    {
     "data": {
      "text/plain": [
       "Text(0.5, 0, 'Gene')"
      ]
     },
     "execution_count": 16,
     "metadata": {},
     "output_type": "execute_result"
    },
    {
     "data": {
      "image/png": "[encoded data removed]",
      "text/plain": [
       "<Figure size 864x864 with 2 Axes>"
      ]
     },
     "metadata": {
      "needs_background": "light"
     },
     "output_type": "display_data"
    }
   ],
   "source": [
    "import matplotlib.pyplot as plt\n",
    "\n",
    "fig, axes = plt.subplots(2, 1, figsize = (12,12))\n",
    "\n",
    "axes[0].grid(zorder = 0, axis = 'y')\n",
    "axes[0].bar(x_pos, attr_mean, zorder = 2)\n",
    "axes[0].set_xticks([])\n",
    "axes[0].set_title('Feature importances for region: {}'.format(target_struct))\n",
    "\n",
    "axes[1].grid(zorder = 0, axis = 'y')\n",
    "axes[1].bar(x_pos, attr_mean_sorted, align = 'center', zorder = 2)\n",
    "axes[1].set_xticks([])\n",
    "axes[1].set_xlabel('Gene')"
   ]
  },
  {
   "cell_type": "markdown",
   "id": "4adf4bce",
   "metadata": {},
   "source": [
    "Not super informative at this scale since there are so many inputs, but let's zoom in to take a look at what genes have the high attribute values."
   ]
  },
  {
   "cell_type": "code",
   "execution_count": 17,
   "id": "eb4d9789",
   "metadata": {},
   "outputs": [
    {
     "data": {
      "image/png": "[encoded data removed]",
      "text/plain": [
       "<Figure size 864x432 with 1 Axes>"
      ]
     },
     "metadata": {
      "needs_background": "light"
     },
     "output_type": "display_data"
    }
   ],
   "source": [
    "fig, ax = plt.subplots(figsize = (12,6))\n",
    "ax.grid(zorder = 0, axis = 'y')\n",
    "ax.bar(x_pos[-10:], attr_mean_sorted[-10:], align = 'center', zorder = 2)\n",
    "ax.set_xticks(x_pos[-10:], genes_sorted[-10:])\n",
    "ax.set_xlabel('Gene')\n",
    "ax.set_title('Feature importances for region: {}'.format(target_struct))\n",
    "plt.show()"
   ]
  },
  {
   "cell_type": "markdown",
   "id": "244e19d7",
   "metadata": {},
   "source": [
    "Looks like CD4 is the most importance feature, followed by RASD2. What do these gene maps look like?"
   ]
  },
  {
   "cell_type": "code",
   "execution_count": 18,
   "id": "bd0ebb81",
   "metadata": {},
   "outputs": [],
   "source": [
    "from pyminc.volumes.factory import volumeFromFile\n",
    "\n",
    "#Anatomy and mask files\n",
    "maskfile = 'AMBA/data/imaging/coronal_200um_coverage_bin0.8.mnc'\n",
    "anatfile = 'AMBA/data/imaging/DSURQE_CCFv3_average_200um.mnc'\n",
    "\n",
    "#Import volumes\n",
    "mask = volumeFromFile(maskfile)\n",
    "anat = volumeFromFile(anatfile)\n",
    "\n",
    "#Convert to numpy\n",
    "mask = np.array(mask.data)\n",
    "anat = np.array(anat.data)\n",
    "\n",
    "#Mask anatomy \n",
    "anat[mask == 0] = np.nan"
   ]
  },
  {
   "cell_type": "code",
   "execution_count": 19,
   "id": "4ebe85c4",
   "metadata": {},
   "outputs": [],
   "source": [
    "#ISH files for genes mentioned above\n",
    "exprfile1 = 'AMBA/data/expression/coronal/Cd4_74819249.mnc'\n",
    "exprfile2 = 'AMBA/data/expression/coronal/Rasd2_73636089.mnc'\n",
    "\n",
    "#Import\n",
    "expr1 = volumeFromFile(exprfile1)\n",
    "expr2 = volumeFromFile(exprfile2)\n",
    "\n",
    "#Convert to numpy\n",
    "expr1 = np.array(expr1.data)\n",
    "expr2 = np.array(expr2.data)\n",
    "\n",
    "#Mask\n",
    "expr1[mask == 0] = np.nan\n",
    "expr2[mask == 0] = np.nan"
   ]
  },
  {
   "cell_type": "code",
   "execution_count": 20,
   "id": "3224d361",
   "metadata": {},
   "outputs": [
    {
     "data": {
      "text/plain": [
       "Text(0.5, 1.0, 'AMBA/data/expression/coronal/Rasd2_73636089.mnc')"
      ]
     },
     "execution_count": 20,
     "metadata": {},
     "output_type": "execute_result"
    },
    {
     "data": {
      "image/png": "[encoded data removed]",
      "text/plain": [
       "<Figure size 1440x440.597 with 2 Axes>"
      ]
     },
     "metadata": {
      "needs_background": "light"
     },
     "output_type": "display_data"
    }
   ],
   "source": [
    "slc = 42\n",
    "asp = anat.shape[1]/anat.shape[0]\n",
    "\n",
    "anat_slice = anat[:,slc,:]\n",
    "expr1_slice = expr1[:,slc,:]\n",
    "expr2_slice = expr2[:,slc,:]\n",
    "\n",
    "anat_slice = np.flip(anat_slice, axis = 0)\n",
    "expr1_slice = np.flip(expr1_slice, axis = 0)\n",
    "expr2_slice = np.flip(expr2_slice, axis = 0)\n",
    "\n",
    "fig, axes = plt.subplots(1, 2, figsize = (2*10, 10/asp))\n",
    "\n",
    "axes[0].imshow(anat_slice, cmap = plt.get_cmap('binary'))\n",
    "axes[0].imshow(expr1_slice, cmap = plt.get_cmap('OrRd'), alpha = 0.4)\n",
    "axes[0].set_title(exprfile1)\n",
    "\n",
    "axes[1].imshow(anat_slice, cmap = plt.get_cmap('binary'))\n",
    "axes[1].imshow(expr2_slice, cmap = plt.get_cmap('OrRd'), alpha = 0.4)\n",
    "axes[1].set_title(exprfile2)"
   ]
  },
  {
   "cell_type": "markdown",
   "id": "a3fa0eb3",
   "metadata": {},
   "source": [
    "The two genes with the largest \"importances\" based on the integrated gradients method seem to have expression profiles that are localized to the caudoputamen. \n",
    "\n",
    "We know from this project that the striatum has really strong gene expression similarity between the mouse and human. What about a region that isn't as obvious? Let's look at the primary motor area. "
   ]
  },
  {
   "cell_type": "code",
   "execution_count": 28,
   "id": "6b091487",
   "metadata": {},
   "outputs": [],
   "source": [
    "target_struct = 'Primary motor area'\n",
    "target_label = int(dfLabels\n",
    "                .loc[dfLabels['Region67'] == target_struct, ['y']]\n",
    "                .drop_duplicates()\n",
    "                .values[0][0])"
   ]
  },
  {
   "cell_type": "code",
   "execution_count": 29,
   "id": "bdcfc7d7",
   "metadata": {},
   "outputs": [],
   "source": [
    "attr = ig.attribute(X_tensor, \n",
    "                    target = target_label, \n",
    "                    internal_batch_size = X.shape[0])\n",
    "\n",
    "#Convert to numpy array\n",
    "attr = attr.detach().numpy()\n",
    "\n",
    "attr_mean = np.mean(attr, axis = 0)"
   ]
  },
  {
   "cell_type": "code",
   "execution_count": 30,
   "id": "678b654e",
   "metadata": {},
   "outputs": [],
   "source": [
    "x_pos = np.arange(len(genes))\n",
    "attr_mean_sorted, genes_sorted = zip(*sorted(zip(attr_mean, genes)))"
   ]
  },
  {
   "cell_type": "code",
   "execution_count": 31,
   "id": "00a1edae",
   "metadata": {},
   "outputs": [
    {
     "data": {
      "text/plain": [
       "Text(0.5, 0, 'Gene')"
      ]
     },
     "execution_count": 31,
     "metadata": {},
     "output_type": "execute_result"
    },
    {
     "data": {
      "image/png": "[encoded data removed]",
      "text/plain": [
       "<Figure size 864x864 with 2 Axes>"
      ]
     },
     "metadata": {
      "needs_background": "light"
     },
     "output_type": "display_data"
    }
   ],
   "source": [
    "fig, axes = plt.subplots(2, 1, figsize = (12,12))\n",
    "\n",
    "axes[0].grid(zorder = 0, axis = 'y')\n",
    "axes[0].bar(x_pos, attr_mean, zorder = 2)\n",
    "axes[0].set_xticks([])\n",
    "axes[0].set_title('Feature importances for region: {}'.format(target_struct))\n",
    "\n",
    "axes[1].grid(zorder = 0, axis = 'y')\n",
    "axes[1].bar(x_pos, attr_mean_sorted, align = 'center', zorder = 2)\n",
    "axes[1].set_xticks([])\n",
    "axes[1].set_xlabel('Gene')"
   ]
  },
  {
   "cell_type": "markdown",
   "id": "eba99183",
   "metadata": {},
   "source": [
    "In this case, there isn't any one gene that is standing out above the rest. Regardless, what are the top genes here? "
   ]
  },
  {
   "cell_type": "code",
   "execution_count": 32,
   "id": "c2f34c6d",
   "metadata": {},
   "outputs": [
    {
     "data": {
      "image/png": "[encoded data removed]",
      "text/plain": [
       "<Figure size 864x432 with 1 Axes>"
      ]
     },
     "metadata": {
      "needs_background": "light"
     },
     "output_type": "display_data"
    }
   ],
   "source": [
    "fig, ax = plt.subplots(figsize = (12,6))\n",
    "ax.grid(zorder = 0, axis = 'y')\n",
    "ax.bar(x_pos[-10:], attr_mean_sorted[-10:], align = 'center', zorder = 2)\n",
    "ax.set_xticks(x_pos[-10:], genes_sorted[-10:])\n",
    "ax.set_xlabel('Gene')\n",
    "ax.set_title('Feature importances for region: {}'.format(target_struct))\n",
    "plt.show()"
   ]
  },
  {
   "cell_type": "markdown",
   "id": "eaee89c5",
   "metadata": {},
   "source": [
    "More of a plateau here, but with 10,000 input observations, we find that RYK and N4BP2 are the top genes.\n",
    "\n",
    "What do these look like? "
   ]
  },
  {
   "cell_type": "code",
   "execution_count": 33,
   "id": "6e608e49",
   "metadata": {},
   "outputs": [],
   "source": [
    "exprfile1 = 'AMBA/data/expression/coronal/Ryk_2541.mnc'\n",
    "exprfile2 = 'AMBA/data/expression/coronal/N4bp2_74363354.mnc'\n",
    "\n",
    "expr1 = volumeFromFile(exprfile1)\n",
    "expr2 = volumeFromFile(exprfile2)\n",
    "\n",
    "expr1 = np.array(expr1.data)\n",
    "expr2 = np.array(expr2.data)\n",
    "\n",
    "expr1[mask == 0] = np.nan\n",
    "expr2[mask == 0] = np.nan"
   ]
  },
  {
   "cell_type": "code",
   "execution_count": 34,
   "id": "878df96b",
   "metadata": {},
   "outputs": [
    {
     "data": {
      "text/plain": [
       "Text(0.5, 1.0, 'AMBA/data/expression/coronal/N4bp2_74363354.mnc')"
      ]
     },
     "execution_count": 34,
     "metadata": {},
     "output_type": "execute_result"
    },
    {
     "data": {
      "image/png": "[encoded data removed]",
      "text/plain": [
       "<Figure size 1440x440.597 with 2 Axes>"
      ]
     },
     "metadata": {
      "needs_background": "light"
     },
     "output_type": "display_data"
    }
   ],
   "source": [
    "slc = 47\n",
    "\n",
    "anat_slice = anat[:,slc,:]\n",
    "expr1_slice = expr1[:,slc,:]\n",
    "expr2_slice = expr2[:,slc,:]\n",
    "\n",
    "anat_slice = np.flip(anat_slice, axis = 0)\n",
    "expr1_slice = np.flip(expr1_slice, axis = 0)\n",
    "expr2_slice = np.flip(expr2_slice, axis = 0)\n",
    "\n",
    "fig, axes = plt.subplots(1, 2, figsize = (2*10, 10/asp))\n",
    "\n",
    "axes[0].imshow(anat_slice, cmap = plt.get_cmap('binary'))\n",
    "axes[0].imshow(expr1_slice, cmap = plt.get_cmap('OrRd'), alpha = 0.4)\n",
    "axes[0].set_title(exprfile1)\n",
    "\n",
    "axes[1].imshow(anat_slice, cmap = plt.get_cmap('binary'))\n",
    "axes[1].imshow(expr2_slice, cmap = plt.get_cmap('OrRd'), alpha = 0.4)\n",
    "axes[1].set_title(exprfile2)"
   ]
  },
  {
   "cell_type": "markdown",
   "id": "3df608c5",
   "metadata": {},
   "source": [
    "Unclear how this relates to M1. Would need a better slice series. This is also probably a regime where we don't have a small set of genes contributing to the classification. "
   ]
  }
 ],
 "metadata": {
  "kernelspec": {
   "display_name": "Python 3 (ipykernel)",
   "language": "python",
   "name": "python3"
  },
  "language_info": {
   "codemirror_mode": {
    "name": "ipython",
    "version": 3
   },
   "file_extension": ".py",
   "mimetype": "text/x-python",
   "name": "python",
   "nbconvert_exporter": "python",
   "pygments_lexer": "ipython3",
   "version": "3.8.10"
  }
 },
 "nbformat": 4,
 "nbformat_minor": 5
}
