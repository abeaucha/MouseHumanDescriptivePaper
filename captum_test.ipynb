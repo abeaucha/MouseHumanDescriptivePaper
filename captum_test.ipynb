{
 "cells": [
  {
   "cell_type": "markdown",
   "id": "f353a841",
   "metadata": {},
   "source": [
    "# Packages"
   ]
  },
  {
   "cell_type": "code",
   "execution_count": 1,
   "id": "781070d2",
   "metadata": {},
   "outputs": [
    {
     "data": {
      "text/html": [
       "<style type='text/css'>\n",
       ".datatable table.frame { margin-bottom: 0; }\n",
       ".datatable table.frame thead { border-bottom: none; }\n",
       ".datatable table.frame tr.coltypes td {  color: #FFFFFF;  line-height: 6px;  padding: 0 0.5em;}\n",
       ".datatable .bool    { background: #DDDD99; }\n",
       ".datatable .object  { background: #565656; }\n",
       ".datatable .int     { background: #5D9E5D; }\n",
       ".datatable .float   { background: #4040CC; }\n",
       ".datatable .str     { background: #CC4040; }\n",
       ".datatable .time    { background: #40CC40; }\n",
       ".datatable .row_index {  background: var(--jp-border-color3);  border-right: 1px solid var(--jp-border-color0);  color: var(--jp-ui-font-color3);  font-size: 9px;}\n",
       ".datatable .frame tbody td { text-align: left; }\n",
       ".datatable .frame tr.coltypes .row_index {  background: var(--jp-border-color0);}\n",
       ".datatable th:nth-child(2) { padding-left: 12px; }\n",
       ".datatable .hellipsis {  color: var(--jp-cell-editor-border-color);}\n",
       ".datatable .vellipsis {  background: var(--jp-layout-color0);  color: var(--jp-cell-editor-border-color);}\n",
       ".datatable .na {  color: var(--jp-cell-editor-border-color);  font-size: 80%;}\n",
       ".datatable .sp {  opacity: 0.25;}\n",
       ".datatable .footer { font-size: 9px; }\n",
       ".datatable .frame_dimensions {  background: var(--jp-border-color3);  border-top: 1px solid var(--jp-border-color0);  color: var(--jp-ui-font-color3);  display: inline-block;  opacity: 0.6;  padding: 1px 10px 1px 5px;}\n",
       "</style>\n"
      ],
      "text/plain": [
       "<IPython.core.display.HTML object>"
      ]
     },
     "metadata": {},
     "output_type": "display_data"
    }
   ],
   "source": [
    "import pandas as pd\n",
    "import numpy as np\n",
    "import random\n",
    "import os\n",
    "from datatable import fread\n",
    "\n",
    "import torch\n",
    "import torch.nn.functional as F\n",
    "from torch                    import nn\n",
    "from torch.optim              import AdamW\n",
    "from torch.optim.lr_scheduler import OneCycleLR\n",
    "\n",
    "from skorch                   import NeuralNetClassifier\n",
    "from skorch.callbacks         import LRScheduler\n",
    "from skorch.helper            import DataFrameTransformer"
   ]
  },
  {
   "cell_type": "markdown",
   "id": "eeb664db",
   "metadata": {},
   "source": [
    "# Import"
   ]
  },
  {
   "cell_type": "code",
   "execution_count": 2,
   "id": "685b9e8b",
   "metadata": {},
   "outputs": [],
   "source": [
    "#Data directory\n",
    "datadir = 'data/'\n",
    "\n",
    "#Import mouse voxelwise data to use for training\n",
    "file_voxel = \"MouseExpressionMatrix_voxel_coronal_maskcoronal_log2_grouped_imputed_labelled_scaled.csv\"\n",
    "filepath_voxel = os.path.join(datadir, file_voxel)\n",
    "\n",
    "#Import expression matrix\n",
    "dfExprVoxel = (fread(filepath_voxel, header = True)\n",
    "               .to_pandas())"
   ]
  },
  {
   "cell_type": "markdown",
   "id": "9b2a3403",
   "metadata": {},
   "source": [
    "# Data preparation"
   ]
  },
  {
   "cell_type": "markdown",
   "id": "0becb1cf",
   "metadata": {},
   "source": [
    "Let's start by sampling a subset of voxels. Ultimately this isn't necessary, but the methods used for feature importance take some time to run, so as a proof of concept we'll use fewer data points."
   ]
  },
  {
   "cell_type": "code",
   "execution_count": 3,
   "id": "33dad8be",
   "metadata": {},
   "outputs": [],
   "source": [
    "#Sample some observations for training\n",
    "dfExprVoxel = dfExprVoxel.sample(n = 10000, axis = 0, random_state = 1).copy()"
   ]
  },
  {
   "cell_type": "markdown",
   "id": "9126add4",
   "metadata": {},
   "source": [
    "Next we prepare the data for training, mainly by separating labels and inputs, and converting to numpy arrays."
   ]
  },
  {
   "cell_type": "code",
   "execution_count": 4,
   "id": "476303bd",
   "metadata": {},
   "outputs": [],
   "source": [
    "#Sample 5000 observations for training\n",
    "dfExprVoxel = dfExprVoxel.sample(n = 10000, axis = 0, random_state = 1).copy()\n",
    "\n",
    "#Identify which columns contain labels\n",
    "indLabels = dfExprVoxel.columns.str.match('Region')\n",
    "\n",
    "#Extract matrix of gene expression values\n",
    "dfInput = dfExprVoxel.loc[:,~indLabels]\n",
    "\n",
    "#Column containing training labels\n",
    "labelcol = 'Region67'\n",
    "\n",
    "#Create a new data frame containing training labels\n",
    "dfLabels = dfExprVoxel[[labelcol]].copy()\n",
    "\n",
    "#Convert labels to category type\n",
    "dfLabels.loc[:,labelcol] = dfLabels.loc[:,labelcol].astype('category')\n",
    "\n",
    "# Create an instance of the data transformer\n",
    "dftx = DataFrameTransformer()\n",
    "\n",
    "# Fit and transform the input and label data frames\n",
    "X_temp = dftx.fit_transform(dfInput)\n",
    "y_temp = dftx.fit_transform(dfLabels)\n",
    "\n",
    "# Extract the arrays from the dictionaries.\n",
    "X = X_temp['X']\n",
    "y = y_temp[labelcol]"
   ]
  },
  {
   "cell_type": "markdown",
   "id": "34488b97",
   "metadata": {},
   "source": [
    "# Training the network"
   ]
  },
  {
   "cell_type": "markdown",
   "id": "85d9def9",
   "metadata": {},
   "source": [
    "First we specify some of the hyperparameters of the perceptron."
   ]
  },
  {
   "cell_type": "code",
   "execution_count": 5,
   "id": "213ca9f2",
   "metadata": {},
   "outputs": [],
   "source": [
    "#Specify network parameters\n",
    "hidden_units = 200\n",
    "weight_decay = 1e-6\n",
    "max_epochs = 200\n",
    "learning_rate = 1e-5\n",
    "device = 'cpu'\n",
    "seed = 1"
   ]
  },
  {
   "cell_type": "markdown",
   "id": "5cf2b0bd",
   "metadata": {},
   "source": [
    "Next, define the architecture of neural network, and initialize an instance of it with the desired number of input units, hidden units, and output units."
   ]
  },
  {
   "cell_type": "code",
   "execution_count": 6,
   "id": "c0787749",
   "metadata": {},
   "outputs": [],
   "source": [
    "#Set seed\n",
    "np.random.seed(seed)\n",
    "torch.manual_seed(seed)\n",
    "random.seed(seed)\n",
    "\n",
    "#Define network architecture\n",
    "class ClassifierModule(nn.Module):\n",
    "    def __init__(\n",
    "        self,\n",
    "        input_units,\n",
    "        output_units,\n",
    "        hidden_units,\n",
    "        apply_output_layer = True #Flag to apply output layer\n",
    "    ):\n",
    "        super(ClassifierModule, self).__init__()\n",
    "\n",
    "        self.apply_output_layer = apply_output_layer\n",
    "\n",
    "        self.hidden1 = nn.Linear(input_units, hidden_units)\n",
    "        self.relu1 = nn.ReLU()\n",
    "        self.hidden2 = nn.Linear(hidden_units, hidden_units)\n",
    "        self.relu2 = nn.ReLU()\n",
    "        self.hidden3 = nn.Linear(hidden_units, hidden_units)\n",
    "        self.relu3 = nn.ReLU()\n",
    "        self.output = nn.Linear(hidden_units, output_units)\n",
    "\n",
    "#         self.hidden1 = nn.Linear(input_units, hidden_units)\n",
    "#         self.hidden2 = nn.Linear(hidden_units, hidden_units)\n",
    "#         self.hidden3 = nn.Linear(hidden_units, hidden_units)\n",
    "#         self.output = nn.Linear(hidden_units, output_units)\n",
    "\n",
    "\n",
    "    def forward(self, X, **kwargs):\n",
    "        \n",
    "        X = self.relu1(self.hidden1(X))\n",
    "        X = self.relu2(self.hidden2(X))\n",
    "        X = self.relu3(self.hidden3(X))\n",
    "        \n",
    "#         X = F.relu(self.hidden1(X))\n",
    "#         X = F.relu(self.hidden2(X))\n",
    "#         X = F.relu(self.hidden3(X))\n",
    "\n",
    "        #If flag is True, apply output layer\n",
    "        if self.apply_output_layer is True:\n",
    "            X = F.softmax(self.output(X), dim = -1)\n",
    "\n",
    "        return X\n",
    "\n",
    "#Initialize network class with desired architecture\n",
    "my_network = ClassifierModule(input_units = X.shape[1],\n",
    "                              output_units = len(np.unique(y)),\n",
    "                              hidden_units = hidden_units)\n",
    "    "
   ]
  },
  {
   "cell_type": "markdown",
   "id": "873eff1c",
   "metadata": {},
   "source": [
    "With the architecture specified, we now specify the optimization routine."
   ]
  },
  {
   "cell_type": "code",
   "execution_count": 7,
   "id": "0245031f",
   "metadata": {},
   "outputs": [],
   "source": [
    "#Specify the optimization routine\n",
    "net = NeuralNetClassifier(my_network,\n",
    "                          train_split = None,\n",
    "                          optimizer = AdamW,\n",
    "                          optimizer__weight_decay = weight_decay,\n",
    "                          max_epochs = max_epochs,\n",
    "                          callbacks = [('lr_scheduler',\n",
    "                                        LRScheduler(policy=OneCycleLR,\n",
    "                                                    total_steps=max_epochs,\n",
    "                                                    cycle_momentum=False,  \n",
    "                                                    max_lr=learning_rate))],\n",
    "                          device = device)"
   ]
  },
  {
   "cell_type": "markdown",
   "id": "86f1153f",
   "metadata": {},
   "source": [
    "And finally we can fit the model."
   ]
  },
  {
   "cell_type": "code",
   "execution_count": 8,
   "id": "9080b37a",
   "metadata": {},
   "outputs": [
    {
     "name": "stdout",
     "output_type": "stream",
     "text": [
      "  epoch    train_loss      lr     dur\n",
      "-------  ------------  ------  ------\n",
      "      1        \u001b[36m4.1945\u001b[0m  0.0000  0.4529\n",
      "      2        \u001b[36m4.1930\u001b[0m  0.0000  0.4488\n",
      "      3        \u001b[36m4.1914\u001b[0m  0.0000  0.4503\n",
      "      4        \u001b[36m4.1897\u001b[0m  0.0000  0.4499\n",
      "      5        \u001b[36m4.1879\u001b[0m  0.0000  0.4483\n",
      "      6        \u001b[36m4.1859\u001b[0m  0.0000  0.4517\n",
      "      7        \u001b[36m4.1836\u001b[0m  0.0000  0.4496\n",
      "      8        \u001b[36m4.1809\u001b[0m  0.0000  0.4499\n",
      "      9        \u001b[36m4.1778\u001b[0m  0.0000  0.4487\n",
      "     10        \u001b[36m4.1742\u001b[0m  0.0000  0.4554\n",
      "     11        \u001b[36m4.1699\u001b[0m  0.0000  0.4513\n",
      "     12        \u001b[36m4.1648\u001b[0m  0.0000  0.4497\n",
      "     13        \u001b[36m4.1587\u001b[0m  0.0000  0.4497\n",
      "     14        \u001b[36m4.1513\u001b[0m  0.0000  0.4503\n",
      "     15        \u001b[36m4.1421\u001b[0m  0.0000  0.4507\n",
      "     16        \u001b[36m4.1306\u001b[0m  0.0000  0.4520\n",
      "     17        \u001b[36m4.1160\u001b[0m  0.0000  0.4501\n",
      "     18        \u001b[36m4.0973\u001b[0m  0.0000  0.4505\n",
      "     19        \u001b[36m4.0728\u001b[0m  0.0000  0.4520\n",
      "     20        \u001b[36m4.0402\u001b[0m  0.0000  0.4741\n",
      "     21        \u001b[36m3.9969\u001b[0m  0.0000  0.4543\n",
      "     22        \u001b[36m3.9399\u001b[0m  0.0000  0.4508\n",
      "     23        \u001b[36m3.8663\u001b[0m  0.0000  0.4505\n",
      "     24        \u001b[36m3.7736\u001b[0m  0.0000  0.4557\n",
      "     25        \u001b[36m3.6619\u001b[0m  0.0000  0.4507\n",
      "     26        \u001b[36m3.5356\u001b[0m  0.0000  0.4535\n",
      "     27        \u001b[36m3.3976\u001b[0m  0.0000  0.4487\n",
      "     28        \u001b[36m3.2467\u001b[0m  0.0000  0.4534\n",
      "     29        \u001b[36m3.0869\u001b[0m  0.0000  0.4520\n",
      "     30        \u001b[36m2.9260\u001b[0m  0.0000  0.4519\n",
      "     31        \u001b[36m2.7734\u001b[0m  0.0000  0.4502\n",
      "     32        \u001b[36m2.6360\u001b[0m  0.0000  0.4522\n",
      "     33        \u001b[36m2.5156\u001b[0m  0.0000  0.4531\n",
      "     34        \u001b[36m2.4086\u001b[0m  0.0000  0.4501\n",
      "     35        \u001b[36m2.3118\u001b[0m  0.0000  0.4533\n",
      "     36        \u001b[36m2.2231\u001b[0m  0.0000  0.4878\n",
      "     37        \u001b[36m2.1406\u001b[0m  0.0000  0.4536\n",
      "     38        \u001b[36m2.0625\u001b[0m  0.0000  0.4520\n",
      "     39        \u001b[36m1.9876\u001b[0m  0.0000  0.4519\n",
      "     40        \u001b[36m1.9153\u001b[0m  0.0000  0.4517\n",
      "     41        \u001b[36m1.8456\u001b[0m  0.0000  0.4534\n",
      "     42        \u001b[36m1.7783\u001b[0m  0.0000  0.4539\n",
      "     43        \u001b[36m1.7137\u001b[0m  0.0000  0.4553\n",
      "     44        \u001b[36m1.6519\u001b[0m  0.0000  0.4558\n",
      "     45        \u001b[36m1.5929\u001b[0m  0.0000  0.4573\n",
      "     46        \u001b[36m1.5362\u001b[0m  0.0000  0.4553\n",
      "     47        \u001b[36m1.4818\u001b[0m  0.0000  0.4565\n",
      "     48        \u001b[36m1.4295\u001b[0m  0.0000  0.4556\n",
      "     49        \u001b[36m1.3795\u001b[0m  0.0000  0.4566\n",
      "     50        \u001b[36m1.3317\u001b[0m  0.0000  0.4561\n",
      "     51        \u001b[36m1.2863\u001b[0m  0.0000  0.4781\n",
      "     52        \u001b[36m1.2433\u001b[0m  0.0000  0.4561\n",
      "     53        \u001b[36m1.2025\u001b[0m  0.0000  0.4564\n",
      "     54        \u001b[36m1.1639\u001b[0m  0.0000  0.4595\n",
      "     55        \u001b[36m1.1272\u001b[0m  0.0000  0.4616\n",
      "     56        \u001b[36m1.0921\u001b[0m  0.0000  0.4652\n",
      "     57        \u001b[36m1.0591\u001b[0m  0.0000  0.4566\n",
      "     58        \u001b[36m1.0277\u001b[0m  0.0000  0.4573\n",
      "     59        \u001b[36m0.9980\u001b[0m  0.0000  0.4561\n",
      "     60        \u001b[36m0.9698\u001b[0m  0.0000  0.4578\n",
      "     61        \u001b[36m0.9430\u001b[0m  0.0000  0.4541\n",
      "     62        \u001b[36m0.9175\u001b[0m  0.0000  0.4579\n",
      "     63        \u001b[36m0.8932\u001b[0m  0.0000  0.4563\n",
      "     64        \u001b[36m0.8700\u001b[0m  0.0000  0.4570\n",
      "     65        \u001b[36m0.8478\u001b[0m  0.0000  0.4583\n",
      "     66        \u001b[36m0.8266\u001b[0m  0.0000  0.4571\n",
      "     67        \u001b[36m0.8065\u001b[0m  0.0000  0.4714\n",
      "     68        \u001b[36m0.7872\u001b[0m  0.0000  0.4562\n",
      "     69        \u001b[36m0.7688\u001b[0m  0.0000  0.4570\n",
      "     70        \u001b[36m0.7512\u001b[0m  0.0000  0.4565\n",
      "     71        \u001b[36m0.7343\u001b[0m  0.0000  0.4566\n",
      "     72        \u001b[36m0.7182\u001b[0m  0.0000  0.4590\n",
      "     73        \u001b[36m0.7028\u001b[0m  0.0000  0.4572\n",
      "     74        \u001b[36m0.6880\u001b[0m  0.0000  0.4574\n",
      "     75        \u001b[36m0.6738\u001b[0m  0.0000  0.4581\n",
      "     76        \u001b[36m0.6602\u001b[0m  0.0000  0.4567\n",
      "     77        \u001b[36m0.6471\u001b[0m  0.0000  0.4561\n",
      "     78        \u001b[36m0.6345\u001b[0m  0.0000  0.4581\n",
      "     79        \u001b[36m0.6224\u001b[0m  0.0000  0.4561\n",
      "     80        \u001b[36m0.6108\u001b[0m  0.0000  0.4567\n",
      "     81        \u001b[36m0.5996\u001b[0m  0.0000  0.4532\n",
      "     82        \u001b[36m0.5889\u001b[0m  0.0000  0.4727\n",
      "     83        \u001b[36m0.5786\u001b[0m  0.0000  0.4561\n",
      "     84        \u001b[36m0.5687\u001b[0m  0.0000  0.4584\n",
      "     85        \u001b[36m0.5591\u001b[0m  0.0000  0.4574\n",
      "     86        \u001b[36m0.5500\u001b[0m  0.0000  0.4562\n",
      "     87        \u001b[36m0.5412\u001b[0m  0.0000  0.4564\n",
      "     88        \u001b[36m0.5326\u001b[0m  0.0000  0.4563\n",
      "     89        \u001b[36m0.5244\u001b[0m  0.0000  0.4560\n",
      "     90        \u001b[36m0.5165\u001b[0m  0.0000  0.4567\n",
      "     91        \u001b[36m0.5088\u001b[0m  0.0000  0.4575\n",
      "     92        \u001b[36m0.5015\u001b[0m  0.0000  0.4586\n",
      "     93        \u001b[36m0.4945\u001b[0m  0.0000  0.4203\n",
      "     94        \u001b[36m0.4876\u001b[0m  0.0000  0.3075\n",
      "     95        \u001b[36m0.4811\u001b[0m  0.0000  0.2902\n",
      "     96        \u001b[36m0.4747\u001b[0m  0.0000  0.2901\n",
      "     97        \u001b[36m0.4686\u001b[0m  0.0000  0.2769\n",
      "     98        \u001b[36m0.4627\u001b[0m  0.0000  0.2769\n",
      "     99        \u001b[36m0.4570\u001b[0m  0.0000  0.2721\n",
      "    100        \u001b[36m0.4515\u001b[0m  0.0000  0.2916\n",
      "    101        \u001b[36m0.4462\u001b[0m  0.0000  0.3410\n",
      "    102        \u001b[36m0.4411\u001b[0m  0.0000  0.3075\n",
      "    103        \u001b[36m0.4361\u001b[0m  0.0000  0.6693\n",
      "    104        \u001b[36m0.4313\u001b[0m  0.0000  0.3623\n",
      "    105        \u001b[36m0.4266\u001b[0m  0.0000  0.3349\n",
      "    106        \u001b[36m0.4221\u001b[0m  0.0000  0.5056\n",
      "    107        \u001b[36m0.4178\u001b[0m  0.0000  0.5188\n",
      "    108        \u001b[36m0.4135\u001b[0m  0.0000  0.5198\n",
      "    109        \u001b[36m0.4095\u001b[0m  0.0000  0.5192\n",
      "    110        \u001b[36m0.4055\u001b[0m  0.0000  0.5189\n",
      "    111        \u001b[36m0.4016\u001b[0m  0.0000  0.5197\n",
      "    112        \u001b[36m0.3979\u001b[0m  0.0000  0.5186\n",
      "    113        \u001b[36m0.3943\u001b[0m  0.0000  0.5196\n",
      "    114        \u001b[36m0.3908\u001b[0m  0.0000  0.5209\n",
      "    115        \u001b[36m0.3874\u001b[0m  0.0000  0.5196\n",
      "    116        \u001b[36m0.3841\u001b[0m  0.0000  0.5178\n",
      "    117        \u001b[36m0.3810\u001b[0m  0.0000  0.5190\n",
      "    118        \u001b[36m0.3779\u001b[0m  0.0000  0.5204\n",
      "    119        \u001b[36m0.3749\u001b[0m  0.0000  0.5189\n",
      "    120        \u001b[36m0.3721\u001b[0m  0.0000  0.5200\n",
      "    121        \u001b[36m0.3693\u001b[0m  0.0000  0.5193\n",
      "    122        \u001b[36m0.3666\u001b[0m  0.0000  0.5204\n",
      "    123        \u001b[36m0.3639\u001b[0m  0.0000  0.5257\n",
      "    124        \u001b[36m0.3614\u001b[0m  0.0000  0.5186\n",
      "    125        \u001b[36m0.3590\u001b[0m  0.0000  0.5209\n",
      "    126        \u001b[36m0.3566\u001b[0m  0.0000  0.5178\n",
      "    127        \u001b[36m0.3543\u001b[0m  0.0000  0.5186\n",
      "    128        \u001b[36m0.3520\u001b[0m  0.0000  0.5200\n",
      "    129        \u001b[36m0.3499\u001b[0m  0.0000  0.5184\n",
      "    130        \u001b[36m0.3478\u001b[0m  0.0000  0.5183\n",
      "    131        \u001b[36m0.3458\u001b[0m  0.0000  0.5207\n",
      "    132        \u001b[36m0.3438\u001b[0m  0.0000  0.5177\n",
      "    133        \u001b[36m0.3419\u001b[0m  0.0000  0.5206\n",
      "    134        \u001b[36m0.3401\u001b[0m  0.0000  0.5199\n",
      "    135        \u001b[36m0.3383\u001b[0m  0.0000  0.5201\n",
      "    136        \u001b[36m0.3366\u001b[0m  0.0000  0.5210\n",
      "    137        \u001b[36m0.3349\u001b[0m  0.0000  0.5188\n",
      "    138        \u001b[36m0.3333\u001b[0m  0.0000  0.5190\n",
      "    139        \u001b[36m0.3318\u001b[0m  0.0000  0.5201\n",
      "    140        \u001b[36m0.3303\u001b[0m  0.0000  0.5190\n",
      "    141        \u001b[36m0.3288\u001b[0m  0.0000  0.5169\n",
      "    142        \u001b[36m0.3274\u001b[0m  0.0000  0.5198\n",
      "    143        \u001b[36m0.3261\u001b[0m  0.0000  0.5197\n",
      "    144        \u001b[36m0.3248\u001b[0m  0.0000  0.5180\n",
      "    145        \u001b[36m0.3235\u001b[0m  0.0000  0.5175\n",
      "    146        \u001b[36m0.3223\u001b[0m  0.0000  0.5180\n",
      "    147        \u001b[36m0.3211\u001b[0m  0.0000  0.5185\n",
      "    148        \u001b[36m0.3200\u001b[0m  0.0000  0.5182\n",
      "    149        \u001b[36m0.3189\u001b[0m  0.0000  0.5194\n",
      "    150        \u001b[36m0.3179\u001b[0m  0.0000  0.5192\n",
      "    151        \u001b[36m0.3169\u001b[0m  0.0000  0.5219\n",
      "    152        \u001b[36m0.3160\u001b[0m  0.0000  0.5190\n",
      "    153        \u001b[36m0.3150\u001b[0m  0.0000  0.5169\n",
      "    154        \u001b[36m0.3142\u001b[0m  0.0000  0.5182\n",
      "    155        \u001b[36m0.3133\u001b[0m  0.0000  0.5210\n",
      "    156        \u001b[36m0.3125\u001b[0m  0.0000  0.5172\n",
      "    157        \u001b[36m0.3117\u001b[0m  0.0000  0.5201\n",
      "    158        \u001b[36m0.3110\u001b[0m  0.0000  0.5197\n",
      "    159        \u001b[36m0.3103\u001b[0m  0.0000  0.5197\n",
      "    160        \u001b[36m0.3096\u001b[0m  0.0000  0.5207\n",
      "    161        \u001b[36m0.3090\u001b[0m  0.0000  0.5204\n",
      "    162        \u001b[36m0.3084\u001b[0m  0.0000  0.5209\n",
      "    163        \u001b[36m0.3078\u001b[0m  0.0000  0.5212\n",
      "    164        \u001b[36m0.3073\u001b[0m  0.0000  0.5182\n",
      "    165        \u001b[36m0.3068\u001b[0m  0.0000  0.5207\n",
      "    166        \u001b[36m0.3063\u001b[0m  0.0000  0.5201\n",
      "    167        \u001b[36m0.3058\u001b[0m  0.0000  0.5185\n",
      "    168        \u001b[36m0.3054\u001b[0m  0.0000  0.5188\n",
      "    169        \u001b[36m0.3050\u001b[0m  0.0000  0.5191\n",
      "    170        \u001b[36m0.3046\u001b[0m  0.0000  0.5211\n",
      "    171        \u001b[36m0.3042\u001b[0m  0.0000  0.5210\n",
      "    172        \u001b[36m0.3039\u001b[0m  0.0000  0.5198\n",
      "    173        \u001b[36m0.3036\u001b[0m  0.0000  0.5188\n"
     ]
    },
    {
     "name": "stdout",
     "output_type": "stream",
     "text": [
      "    174        \u001b[36m0.3033\u001b[0m  0.0000  0.5203\n",
      "    175        \u001b[36m0.3030\u001b[0m  0.0000  0.5185\n",
      "    176        \u001b[36m0.3027\u001b[0m  0.0000  0.5192\n",
      "    177        \u001b[36m0.3025\u001b[0m  0.0000  0.5201\n",
      "    178        \u001b[36m0.3023\u001b[0m  0.0000  0.5257\n",
      "    179        \u001b[36m0.3021\u001b[0m  0.0000  0.5200\n",
      "    180        \u001b[36m0.3019\u001b[0m  0.0000  0.5173\n",
      "    181        \u001b[36m0.3017\u001b[0m  0.0000  0.5203\n",
      "    182        \u001b[36m0.3016\u001b[0m  0.0000  0.5228\n",
      "    183        \u001b[36m0.3015\u001b[0m  0.0000  0.5190\n",
      "    184        \u001b[36m0.3013\u001b[0m  0.0000  0.5225\n",
      "    185        \u001b[36m0.3012\u001b[0m  0.0000  0.5201\n",
      "    186        \u001b[36m0.3011\u001b[0m  0.0000  0.5173\n",
      "    187        \u001b[36m0.3011\u001b[0m  0.0000  0.5215\n",
      "    188        \u001b[36m0.3010\u001b[0m  0.0000  0.5209\n",
      "    189        \u001b[36m0.3009\u001b[0m  0.0000  0.5209\n",
      "    190        \u001b[36m0.3009\u001b[0m  0.0000  0.5223\n",
      "    191        \u001b[36m0.3008\u001b[0m  0.0000  0.5219\n",
      "    192        \u001b[36m0.3008\u001b[0m  0.0000  0.5206\n",
      "    193        \u001b[36m0.3008\u001b[0m  0.0000  0.5216\n",
      "    194        \u001b[36m0.3007\u001b[0m  0.0000  0.5229\n",
      "    195        \u001b[36m0.3007\u001b[0m  0.0000  0.5235\n",
      "    196        \u001b[36m0.3007\u001b[0m  0.0000  0.5204\n",
      "    197        \u001b[36m0.3007\u001b[0m  0.0000  0.5211\n",
      "    198        \u001b[36m0.3007\u001b[0m  0.0000  0.5202\n",
      "    199        \u001b[36m0.3007\u001b[0m  0.0000  0.5210\n",
      "    200        \u001b[36m0.3007\u001b[0m  0.0000  0.5181\n"
     ]
    },
    {
     "data": {
      "text/plain": [
       "<class 'skorch.classifier.NeuralNetClassifier'>[initialized](\n",
       "  module_=ClassifierModule(\n",
       "    (hidden1): Linear(in_features=2624, out_features=200, bias=True)\n",
       "    (relu1): ReLU()\n",
       "    (hidden2): Linear(in_features=200, out_features=200, bias=True)\n",
       "    (relu2): ReLU()\n",
       "    (hidden3): Linear(in_features=200, out_features=200, bias=True)\n",
       "    (relu3): ReLU()\n",
       "    (output): Linear(in_features=200, out_features=67, bias=True)\n",
       "  ),\n",
       ")"
      ]
     },
     "execution_count": 8,
     "metadata": {},
     "output_type": "execute_result"
    }
   ],
   "source": [
    "#Train the network\n",
    "net.fit(X, y)"
   ]
  },
  {
   "cell_type": "markdown",
   "id": "b874eb50",
   "metadata": {},
   "source": [
    "To confirm this is working as it should, let's compute the training accuracy:"
   ]
  },
  {
   "cell_type": "code",
   "execution_count": 9,
   "id": "7a849dd7",
   "metadata": {},
   "outputs": [
    {
     "data": {
      "text/plain": [
       "0.9148"
      ]
     },
     "execution_count": 9,
     "metadata": {},
     "output_type": "execute_result"
    }
   ],
   "source": [
    "#Convert input np array to torch tensor\n",
    "X_tensor = torch.from_numpy(X).type(torch.FloatTensor)\n",
    "\n",
    "#Apply network to input tensor to get output probabilities\n",
    "y_prob = my_network(X_tensor).detach().numpy()\n",
    "\n",
    "#Classify using most likely label\n",
    "y_pred = np.argmax(y_prob, axis = 1)\n",
    "\n",
    "#Accuracy\n",
    "sum(y_pred == y)/len(y)"
   ]
  },
  {
   "cell_type": "markdown",
   "id": "a9f7a9c7",
   "metadata": {},
   "source": [
    "# Identifying feature importance using integrated gradients"
   ]
  },
  {
   "cell_type": "markdown",
   "id": "d2b0661f",
   "metadata": {},
   "source": [
    "The first method introduced in the Captum tutorial for feature importance is called \"integrated gradients\". I don't know what this is, but it seems like it returns some values for each of the inputs corresponding to a given output label."
   ]
  },
  {
   "cell_type": "code",
   "execution_count": 10,
   "id": "8df35885",
   "metadata": {},
   "outputs": [],
   "source": [
    "from captum.attr import IntegratedGradients"
   ]
  },
  {
   "cell_type": "markdown",
   "id": "87238d56",
   "metadata": {},
   "source": [
    "We need to specify what label we want to examine, so let's look at our dictionary"
   ]
  },
  {
   "cell_type": "code",
   "execution_count": 11,
   "id": "59131367",
   "metadata": {},
   "outputs": [
    {
     "data": {
      "text/html": [
       "<div>\n",
       "<style scoped>\n",
       "    .dataframe tbody tr th:only-of-type {\n",
       "        vertical-align: middle;\n",
       "    }\n",
       "\n",
       "    .dataframe tbody tr th {\n",
       "        vertical-align: top;\n",
       "    }\n",
       "\n",
       "    .dataframe thead th {\n",
       "        text-align: right;\n",
       "    }\n",
       "</style>\n",
       "<table border=\"1\" class=\"dataframe\">\n",
       "  <thead>\n",
       "    <tr style=\"text-align: right;\">\n",
       "      <th></th>\n",
       "      <th>Region67</th>\n",
       "      <th>y</th>\n",
       "    </tr>\n",
       "  </thead>\n",
       "  <tbody>\n",
       "    <tr>\n",
       "      <th>41104</th>\n",
       "      <td>Culmen</td>\n",
       "      <td>13</td>\n",
       "    </tr>\n",
       "    <tr>\n",
       "      <th>6127</th>\n",
       "      <td>Pons</td>\n",
       "      <td>46</td>\n",
       "    </tr>\n",
       "    <tr>\n",
       "      <th>18253</th>\n",
       "      <td>Olfactory areas-other</td>\n",
       "      <td>37</td>\n",
       "    </tr>\n",
       "    <tr>\n",
       "      <th>33205</th>\n",
       "      <td>Caudoputamen</td>\n",
       "      <td>4</td>\n",
       "    </tr>\n",
       "    <tr>\n",
       "      <th>14311</th>\n",
       "      <td>Ectorhinal area</td>\n",
       "      <td>17</td>\n",
       "    </tr>\n",
       "    <tr>\n",
       "      <th>...</th>\n",
       "      <td>...</td>\n",
       "      <td>...</td>\n",
       "    </tr>\n",
       "    <tr>\n",
       "      <th>42787</th>\n",
       "      <td>Declive (VI)</td>\n",
       "      <td>14</td>\n",
       "    </tr>\n",
       "    <tr>\n",
       "      <th>29782</th>\n",
       "      <td>Agranular insular area</td>\n",
       "      <td>1</td>\n",
       "    </tr>\n",
       "    <tr>\n",
       "      <th>18116</th>\n",
       "      <td>Claustrum</td>\n",
       "      <td>7</td>\n",
       "    </tr>\n",
       "    <tr>\n",
       "      <th>9770</th>\n",
       "      <td>Midbrain raphe nuclei</td>\n",
       "      <td>34</td>\n",
       "    </tr>\n",
       "    <tr>\n",
       "      <th>33715</th>\n",
       "      <td>Folium-tuber vermis (VII)</td>\n",
       "      <td>24</td>\n",
       "    </tr>\n",
       "  </tbody>\n",
       "</table>\n",
       "<p>67 rows × 2 columns</p>\n",
       "</div>"
      ],
      "text/plain": [
       "                        Region67   y\n",
       "41104                     Culmen  13\n",
       "6127                        Pons  46\n",
       "18253      Olfactory areas-other  37\n",
       "33205               Caudoputamen   4\n",
       "14311            Ectorhinal area  17\n",
       "...                          ...  ..\n",
       "42787               Declive (VI)  14\n",
       "29782     Agranular insular area   1\n",
       "18116                  Claustrum   7\n",
       "9770       Midbrain raphe nuclei  34\n",
       "33715  Folium-tuber vermis (VII)  24\n",
       "\n",
       "[67 rows x 2 columns]"
      ]
     },
     "execution_count": 11,
     "metadata": {},
     "output_type": "execute_result"
    }
   ],
   "source": [
    "dfLabels['y'] = y\n",
    "dfLabels.drop_duplicates()"
   ]
  },
  {
   "cell_type": "markdown",
   "id": "8d017b80",
   "metadata": {},
   "source": [
    "Let's start by examining the classification of caudoputamen voxels."
   ]
  },
  {
   "cell_type": "code",
   "execution_count": 12,
   "id": "92fd9dd8",
   "metadata": {},
   "outputs": [],
   "source": [
    "#Structure we want to examine\n",
    "target_struct = 'Caudoputamen'\n",
    "\n",
    "#Associated dummy label\n",
    "target_label = int(dfLabels\n",
    "                .loc[dfLabels['Region67'] == target_struct, ['y']]\n",
    "                .drop_duplicates()\n",
    "                .values[0][0])"
   ]
  },
  {
   "cell_type": "markdown",
   "id": "cd6cb948",
   "metadata": {},
   "source": [
    "To use integrated gradients, we first instantiate the relevant class, with our network architecture as input. We then apply the \"attribute\" method, here specifying the label that we want to examine."
   ]
  },
  {
   "cell_type": "code",
   "execution_count": 13,
   "id": "ea709994",
   "metadata": {},
   "outputs": [],
   "source": [
    "#Set up an integrated gradients class\n",
    "ig = IntegratedGradients(my_network)\n",
    "\n",
    "#Compute the attributes tensor for the desired target label\n",
    "X_tensor.requires_grad_()\n",
    "attr = ig.attribute(X_tensor, \n",
    "                    target = target_label, \n",
    "                    internal_batch_size = X.shape[0])\n",
    "\n",
    "#Convert to numpy array\n",
    "attr = attr.detach().numpy()"
   ]
  },
  {
   "cell_type": "markdown",
   "id": "25dc1003",
   "metadata": {},
   "source": [
    "It's unclear to me what this output is, but let's at least examine the shape of it."
   ]
  },
  {
   "cell_type": "code",
   "execution_count": 14,
   "id": "4899de83",
   "metadata": {},
   "outputs": [
    {
     "name": "stdout",
     "output_type": "stream",
     "text": [
      "(10000, 2624)\n"
     ]
    }
   ],
   "source": [
    "print(attr.shape)"
   ]
  },
  {
   "cell_type": "markdown",
   "id": "18ffd4bc",
   "metadata": {},
   "source": [
    "So this thing has the same shape as the input data, meaning rows corresponding to observations and columns to predictors. This gives us one value for each cell entry in our input matrix. Unclear what exactly those values mean...\n",
    "\n",
    "In the Captum tutorial, they take averages over the observations for each of the input features. Let's do that here. We're also going to sort the average values to see which features are most \"important\"."
   ]
  },
  {
   "cell_type": "code",
   "execution_count": 15,
   "id": "bb5e3a74",
   "metadata": {},
   "outputs": [],
   "source": [
    "#Grab the set of genes\n",
    "genes = dfInput.columns.to_numpy()\n",
    "\n",
    "#Array of x values for plotting\n",
    "x_pos = np.arange(len(genes))\n",
    "\n",
    "#Mean integrated gradient attributes over all \n",
    "#observations for each feature\n",
    "attr_mean = np.mean(attr, axis = 0)\n",
    "\n",
    "#Sorted attributes\n",
    "attr_mean_sorted, genes_sorted = zip(*sorted(zip(attr_mean, genes)))"
   ]
  },
  {
   "cell_type": "markdown",
   "id": "5fc3dc34",
   "metadata": {},
   "source": [
    "Now that we have these average feature importances corresponding to classification of the caudoputamen, let's plot them. "
   ]
  },
  {
   "cell_type": "code",
   "execution_count": 16,
   "id": "5b9ca260",
   "metadata": {},
   "outputs": [
    {
     "data": {
      "text/plain": [
       "Text(0.5, 0, 'Gene')"
      ]
     },
     "execution_count": 16,
     "metadata": {},
     "output_type": "execute_result"
    },
    {
     "data": {
      "image/png": "[encoded data removed]",
      "text/plain": [
       "<Figure size 864x864 with 2 Axes>"
      ]
     },
     "metadata": {
      "needs_background": "light"
     },
     "output_type": "display_data"
    }
   ],
   "source": [
    "import matplotlib.pyplot as plt\n",
    "\n",
    "fig, axes = plt.subplots(2, 1, figsize = (12,12))\n",
    "\n",
    "axes[0].grid(zorder = 0, axis = 'y')\n",
    "axes[0].bar(x_pos, attr_mean, zorder = 2)\n",
    "axes[0].set_xticks([])\n",
    "axes[0].set_title('Feature importances for region: {}'.format(target_struct))\n",
    "\n",
    "axes[1].grid(zorder = 0, axis = 'y')\n",
    "axes[1].bar(x_pos, attr_mean_sorted, align = 'center', zorder = 2)\n",
    "axes[1].set_xticks([])\n",
    "axes[1].set_xlabel('Gene')"
   ]
  },
  {
   "cell_type": "markdown",
   "id": "4adf4bce",
   "metadata": {},
   "source": [
    "Not super informative at this scale since there are so many inputs, but let's zoom in to take a look at what genes have the high attribute values."
   ]
  },
  {
   "cell_type": "code",
   "execution_count": 17,
   "id": "eb4d9789",
   "metadata": {},
   "outputs": [
    {
     "data": {
      "image/png": "[encoded data removed]",
      "text/plain": [
       "<Figure size 864x432 with 1 Axes>"
      ]
     },
     "metadata": {
      "needs_background": "light"
     },
     "output_type": "display_data"
    }
   ],
   "source": [
    "fig, ax = plt.subplots(figsize = (12,6))\n",
    "ax.grid(zorder = 0, axis = 'y')\n",
    "ax.bar(x_pos[-10:], attr_mean_sorted[-10:], align = 'center', zorder = 2)\n",
    "ax.set_xticks(x_pos[-10:], genes_sorted[-10:])\n",
    "ax.set_xlabel('Gene')\n",
    "ax.set_title('Feature importances for region: {}'.format(target_struct))\n",
    "plt.show()"
   ]
  },
  {
   "cell_type": "markdown",
   "id": "244e19d7",
   "metadata": {},
   "source": [
    "Looks like CD4 is the most importance feature, followed by RASD2. What do these gene maps look like?"
   ]
  },
  {
   "cell_type": "code",
   "execution_count": 18,
   "id": "bd0ebb81",
   "metadata": {},
   "outputs": [],
   "source": [
    "from pyminc.volumes.factory import volumeFromFile\n",
    "\n",
    "#Anatomy and mask files\n",
    "maskfile = 'AMBA/data/imaging/coronal_200um_coverage_bin0.8.mnc'\n",
    "anatfile = 'AMBA/data/imaging/DSURQE_CCFv3_average_200um.mnc'\n",
    "\n",
    "#Import volumes\n",
    "mask = volumeFromFile(maskfile)\n",
    "anat = volumeFromFile(anatfile)\n",
    "\n",
    "#Convert to numpy\n",
    "mask = np.array(mask.data)\n",
    "anat = np.array(anat.data)\n",
    "\n",
    "#Mask anatomy \n",
    "anat[mask == 0] = np.nan"
   ]
  },
  {
   "cell_type": "code",
   "execution_count": 19,
   "id": "4ebe85c4",
   "metadata": {},
   "outputs": [],
   "source": [
    "#ISH files for genes mentioned above\n",
    "exprfile1 = 'AMBA/data/expression/coronal/Cd4_74819249.mnc'\n",
    "exprfile2 = 'AMBA/data/expression/coronal/Rasd2_73636089.mnc'\n",
    "\n",
    "#Import\n",
    "expr1 = volumeFromFile(exprfile1)\n",
    "expr2 = volumeFromFile(exprfile2)\n",
    "\n",
    "#Convert to numpy\n",
    "expr1 = np.array(expr1.data)\n",
    "expr2 = np.array(expr2.data)\n",
    "\n",
    "#Mask\n",
    "expr1[mask == 0] = np.nan\n",
    "expr2[mask == 0] = np.nan"
   ]
  },
  {
   "cell_type": "code",
   "execution_count": 20,
   "id": "3224d361",
   "metadata": {},
   "outputs": [
    {
     "data": {
      "text/plain": [
       "Text(0.5, 1.0, 'AMBA/data/expression/coronal/Rasd2_73636089.mnc')"
      ]
     },
     "execution_count": 20,
     "metadata": {},
     "output_type": "execute_result"
    },
    {
     "data": {
      "image/png": "[encoded data removed]",
      "text/plain": [
       "<Figure size 1440x440.597 with 2 Axes>"
      ]
     },
     "metadata": {
      "needs_background": "light"
     },
     "output_type": "display_data"
    }
   ],
   "source": [
    "slc = 42\n",
    "asp = anat.shape[1]/anat.shape[0]\n",
    "\n",
    "anat_slice = anat[:,slc,:]\n",
    "expr1_slice = expr1[:,slc,:]\n",
    "expr2_slice = expr2[:,slc,:]\n",
    "\n",
    "anat_slice = np.flip(anat_slice, axis = 0)\n",
    "expr1_slice = np.flip(expr1_slice, axis = 0)\n",
    "expr2_slice = np.flip(expr2_slice, axis = 0)\n",
    "\n",
    "fig, axes = plt.subplots(1, 2, figsize = (2*10, 10/asp))\n",
    "\n",
    "axes[0].imshow(anat_slice, cmap = plt.get_cmap('binary'))\n",
    "axes[0].imshow(expr1_slice, cmap = plt.get_cmap('OrRd'), alpha = 0.4)\n",
    "axes[0].set_title(exprfile1)\n",
    "\n",
    "axes[1].imshow(anat_slice, cmap = plt.get_cmap('binary'))\n",
    "axes[1].imshow(expr2_slice, cmap = plt.get_cmap('OrRd'), alpha = 0.4)\n",
    "axes[1].set_title(exprfile2)"
   ]
  },
  {
   "cell_type": "markdown",
   "id": "a3fa0eb3",
   "metadata": {},
   "source": [
    "The two genes with the largest \"importances\" based on the integrated gradients method seem to have expression profiles that are localized to the caudoputamen. \n",
    "\n",
    "We know from this project that the striatum has really strong gene expression similarity between the mouse and human. What about a region that isn't as obvious? Let's look at the primary motor area. "
   ]
  },
  {
   "cell_type": "code",
   "execution_count": 21,
   "id": "6b091487",
   "metadata": {},
   "outputs": [],
   "source": [
    "target_struct = 'Primary motor area'\n",
    "target_label = int(dfLabels\n",
    "                .loc[dfLabels['Region67'] == target_struct, ['y']]\n",
    "                .drop_duplicates()\n",
    "                .values[0][0])"
   ]
  },
  {
   "cell_type": "code",
   "execution_count": 22,
   "id": "bdcfc7d7",
   "metadata": {},
   "outputs": [],
   "source": [
    "attr = ig.attribute(X_tensor, \n",
    "                    target = target_label, \n",
    "                    internal_batch_size = X.shape[0])\n",
    "\n",
    "#Convert to numpy array\n",
    "attr = attr.detach().numpy()\n",
    "\n",
    "attr_mean = np.mean(attr, axis = 0)"
   ]
  },
  {
   "cell_type": "code",
   "execution_count": 23,
   "id": "678b654e",
   "metadata": {},
   "outputs": [],
   "source": [
    "x_pos = np.arange(len(genes))\n",
    "attr_mean_sorted, genes_sorted = zip(*sorted(zip(attr_mean, genes)))"
   ]
  },
  {
   "cell_type": "code",
   "execution_count": 24,
   "id": "00a1edae",
   "metadata": {},
   "outputs": [
    {
     "data": {
      "text/plain": [
       "Text(0.5, 0, 'Gene')"
      ]
     },
     "execution_count": 24,
     "metadata": {},
     "output_type": "execute_result"
    },
    {
     "data": {
      "image/png": "[encoded data removed]",
      "text/plain": [
       "<Figure size 864x864 with 2 Axes>"
      ]
     },
     "metadata": {
      "needs_background": "light"
     },
     "output_type": "display_data"
    }
   ],
   "source": [
    "fig, axes = plt.subplots(2, 1, figsize = (12,12))\n",
    "\n",
    "axes[0].grid(zorder = 0, axis = 'y')\n",
    "axes[0].bar(x_pos, attr_mean, zorder = 2)\n",
    "axes[0].set_xticks([])\n",
    "axes[0].set_title('Feature importances for region: {}'.format(target_struct))\n",
    "\n",
    "axes[1].grid(zorder = 0, axis = 'y')\n",
    "axes[1].bar(x_pos, attr_mean_sorted, align = 'center', zorder = 2)\n",
    "axes[1].set_xticks([])\n",
    "axes[1].set_xlabel('Gene')"
   ]
  },
  {
   "cell_type": "markdown",
   "id": "eba99183",
   "metadata": {},
   "source": [
    "In this case, there isn't any one gene that is standing out above the rest. Regardless, what are the top genes here? "
   ]
  },
  {
   "cell_type": "code",
   "execution_count": 25,
   "id": "c2f34c6d",
   "metadata": {},
   "outputs": [
    {
     "data": {
      "image/png": "[encoded data removed]",
      "text/plain": [
       "<Figure size 864x432 with 1 Axes>"
      ]
     },
     "metadata": {
      "needs_background": "light"
     },
     "output_type": "display_data"
    }
   ],
   "source": [
    "fig, ax = plt.subplots(figsize = (12,6))\n",
    "ax.grid(zorder = 0, axis = 'y')\n",
    "ax.bar(x_pos[-10:], attr_mean_sorted[-10:], align = 'center', zorder = 2)\n",
    "ax.set_xticks(x_pos[-10:], genes_sorted[-10:])\n",
    "ax.set_xlabel('Gene')\n",
    "ax.set_title('Feature importances for region: {}'.format(target_struct))\n",
    "plt.show()"
   ]
  },
  {
   "cell_type": "markdown",
   "id": "eaee89c5",
   "metadata": {},
   "source": [
    "More of a plateau here, but with 10,000 input observations, we find that RYK and N4BP2 are the top genes.\n",
    "\n",
    "What do these look like? "
   ]
  },
  {
   "cell_type": "code",
   "execution_count": 26,
   "id": "6e608e49",
   "metadata": {},
   "outputs": [],
   "source": [
    "exprfile1 = 'AMBA/data/expression/coronal/Ryk_2541.mnc'\n",
    "exprfile2 = 'AMBA/data/expression/coronal/N4bp2_74363354.mnc'\n",
    "\n",
    "expr1 = volumeFromFile(exprfile1)\n",
    "expr2 = volumeFromFile(exprfile2)\n",
    "\n",
    "expr1 = np.array(expr1.data)\n",
    "expr2 = np.array(expr2.data)\n",
    "\n",
    "expr1[mask == 0] = np.nan\n",
    "expr2[mask == 0] = np.nan"
   ]
  },
  {
   "cell_type": "code",
   "execution_count": 27,
   "id": "878df96b",
   "metadata": {},
   "outputs": [
    {
     "data": {
      "text/plain": [
       "Text(0.5, 1.0, 'AMBA/data/expression/coronal/N4bp2_74363354.mnc')"
      ]
     },
     "execution_count": 27,
     "metadata": {},
     "output_type": "execute_result"
    },
    {
     "data": {
      "image/png": "[encoded data removed]",
      "text/plain": [
       "<Figure size 1440x440.597 with 2 Axes>"
      ]
     },
     "metadata": {
      "needs_background": "light"
     },
     "output_type": "display_data"
    }
   ],
   "source": [
    "slc = 47\n",
    "\n",
    "anat_slice = anat[:,slc,:]\n",
    "expr1_slice = expr1[:,slc,:]\n",
    "expr2_slice = expr2[:,slc,:]\n",
    "\n",
    "anat_slice = np.flip(anat_slice, axis = 0)\n",
    "expr1_slice = np.flip(expr1_slice, axis = 0)\n",
    "expr2_slice = np.flip(expr2_slice, axis = 0)\n",
    "\n",
    "fig, axes = plt.subplots(1, 2, figsize = (2*10, 10/asp))\n",
    "\n",
    "axes[0].imshow(anat_slice, cmap = plt.get_cmap('binary'))\n",
    "axes[0].imshow(expr1_slice, cmap = plt.get_cmap('OrRd'), alpha = 0.4)\n",
    "axes[0].set_title(exprfile1)\n",
    "\n",
    "axes[1].imshow(anat_slice, cmap = plt.get_cmap('binary'))\n",
    "axes[1].imshow(expr2_slice, cmap = plt.get_cmap('OrRd'), alpha = 0.4)\n",
    "axes[1].set_title(exprfile2)"
   ]
  },
  {
   "cell_type": "markdown",
   "id": "3df608c5",
   "metadata": {},
   "source": [
    "Unclear if this is really localized to M1 or not. Would need a better slice series. This is also probably a regime where we don't have a small set of genes contributing to the classification. "
   ]
  },
  {
   "cell_type": "markdown",
   "id": "b592fef9",
   "metadata": {},
   "source": [
    "***"
   ]
  },
  {
   "cell_type": "markdown",
   "id": "eccccbb0",
   "metadata": {},
   "source": [
    "What the hell am I trying to do? \n",
    "\n",
    "We run our similarity analysis. Find that region X in the mouse is similar to region Y in the human. We want to know what drives that? That association is driven by the correlation over hidden neurons. That means that no one hidden neuron is responsible for this association. Rather the combination of the weights of the neurons. Then I guess the question is how do those weights relate back to the input genes? "
   ]
  },
  {
   "cell_type": "markdown",
   "id": "b41edb68",
   "metadata": {},
   "source": [
    "What else can we learn in the context of our usual analysis? "
   ]
  },
  {
   "cell_type": "markdown",
   "id": "ce7e453f",
   "metadata": {},
   "source": [
    "***"
   ]
  },
  {
   "cell_type": "markdown",
   "id": "7990b2ba",
   "metadata": {},
   "source": [
    "Let's begin by importing the region-aggregated mouse and human expression data. "
   ]
  },
  {
   "cell_type": "code",
   "execution_count": 42,
   "id": "afbdb85d",
   "metadata": {},
   "outputs": [],
   "source": [
    "# Mouse and human data to pass to network\n",
    "file_mouse = 'MouseExpressionMatrix_ROI_Region67_scaled.csv'\n",
    "file_human = 'HumanExpressionMatrix_ROI_Region88_scaled.csv'\n",
    "\n",
    "#Attach paths\n",
    "filepath_mouse = os.path.join(datadir, file_mouse) \n",
    "filepath_human = os.path.join(datadir, file_human)\n",
    "\n",
    "# Import data\n",
    "dfExprMouse = (fread(filepath_mouse, header = True)\n",
    "               .to_pandas())\n",
    "dfExprHuman = (fread(filepath_human, header = True)\n",
    "               .to_pandas())\n",
    "\n",
    "#Remove labels\n",
    "dfInputMouse = dfExprMouse.loc[:, dfExprMouse.columns.isin(dfInput.columns)]\n",
    "dfInputHuman = dfExprHuman.loc[:, dfExprHuman.columns.isin(dfInput.columns)]"
   ]
  },
  {
   "cell_type": "markdown",
   "id": "7a544113",
   "metadata": {},
   "source": [
    "Next we want to switch the mode of the neural network so that the output layer is the penultimate hidden layer rather than the probabililty layer."
   ]
  },
  {
   "cell_type": "code",
   "execution_count": 43,
   "id": "47fc9fa7",
   "metadata": {},
   "outputs": [],
   "source": [
    "net.module_.apply_output_layer = False"
   ]
  },
  {
   "cell_type": "markdown",
   "id": "b859af49",
   "metadata": {},
   "source": [
    "With the network configured the way we want, we want pass the mouse and human region aggregates through to get the latent space representations."
   ]
  },
  {
   "cell_type": "code",
   "execution_count": 44,
   "id": "39568e55",
   "metadata": {},
   "outputs": [
    {
     "data": {
      "text/plain": [
       "(67, 200)"
      ]
     },
     "execution_count": 44,
     "metadata": {},
     "output_type": "execute_result"
    }
   ],
   "source": [
    "#Put mouse/human data into appropriate format for network        \n",
    "X_Mouse = dftx.fit_transform(dfInputMouse)['X']\n",
    "X_Human = dftx.fit_transform(dfInputHuman)['X']\n",
    "\n",
    "#Apply the modified network to the mouse and human data to get the\n",
    "#hidden units\n",
    "dfMouseTransformed = pd.DataFrame(net.predict_proba(X_Mouse))\n",
    "dfHumanTransformed = pd.DataFrame(net.predict_proba(X_Human))\n",
    "\n",
    "dfMouseTransformed.shape"
   ]
  },
  {
   "cell_type": "markdown",
   "id": "50938bba",
   "metadata": {},
   "source": [
    "There are 200 values for 67 regions, so this worked as intended. \n",
    "\n",
    "With our latent space representations, we can compute the correlation matrix. "
   ]
  },
  {
   "cell_type": "code",
   "execution_count": 45,
   "id": "f628b259",
   "metadata": {},
   "outputs": [
    {
     "data": {
      "text/html": [
       "<div>\n",
       "<style scoped>\n",
       "    .dataframe tbody tr th:only-of-type {\n",
       "        vertical-align: middle;\n",
       "    }\n",
       "\n",
       "    .dataframe tbody tr th {\n",
       "        vertical-align: top;\n",
       "    }\n",
       "\n",
       "    .dataframe thead th {\n",
       "        text-align: right;\n",
       "    }\n",
       "</style>\n",
       "<table border=\"1\" class=\"dataframe\">\n",
       "  <thead>\n",
       "    <tr style=\"text-align: right;\">\n",
       "      <th>Region</th>\n",
       "      <th>Accessory olfactory bulb</th>\n",
       "      <th>Agranular insular area</th>\n",
       "      <th>Anterior cingulate area</th>\n",
       "      <th>Anterior olfactory nucleus</th>\n",
       "      <th>Caudoputamen</th>\n",
       "      <th>Central lobule</th>\n",
       "      <th>Cerebellar nuclei</th>\n",
       "      <th>Claustrum</th>\n",
       "      <th>Copula pyramidis</th>\n",
       "      <th>Cortical amygdalar area</th>\n",
       "      <th>...</th>\n",
       "      <th>Striatum ventral region</th>\n",
       "      <th>Subiculum</th>\n",
       "      <th>Superior colliculus, sensory related</th>\n",
       "      <th>Supplemental somatosensory area</th>\n",
       "      <th>Taenia tecta</th>\n",
       "      <th>Temporal association areas</th>\n",
       "      <th>Thalamus</th>\n",
       "      <th>Uvula (IX)</th>\n",
       "      <th>Ventral auditory area</th>\n",
       "      <th>Visual areas</th>\n",
       "    </tr>\n",
       "    <tr>\n",
       "      <th>Region</th>\n",
       "      <th></th>\n",
       "      <th></th>\n",
       "      <th></th>\n",
       "      <th></th>\n",
       "      <th></th>\n",
       "      <th></th>\n",
       "      <th></th>\n",
       "      <th></th>\n",
       "      <th></th>\n",
       "      <th></th>\n",
       "      <th></th>\n",
       "      <th></th>\n",
       "      <th></th>\n",
       "      <th></th>\n",
       "      <th></th>\n",
       "      <th></th>\n",
       "      <th></th>\n",
       "      <th></th>\n",
       "      <th></th>\n",
       "      <th></th>\n",
       "      <th></th>\n",
       "    </tr>\n",
       "  </thead>\n",
       "  <tbody>\n",
       "    <tr>\n",
       "      <th>amygdala</th>\n",
       "      <td>0.303690</td>\n",
       "      <td>0.503126</td>\n",
       "      <td>0.143495</td>\n",
       "      <td>0.683955</td>\n",
       "      <td>0.622075</td>\n",
       "      <td>-0.144127</td>\n",
       "      <td>-0.216056</td>\n",
       "      <td>0.662519</td>\n",
       "      <td>-0.145508</td>\n",
       "      <td>0.889725</td>\n",
       "      <td>...</td>\n",
       "      <td>0.791736</td>\n",
       "      <td>0.432747</td>\n",
       "      <td>-0.062316</td>\n",
       "      <td>0.161671</td>\n",
       "      <td>0.669603</td>\n",
       "      <td>0.443157</td>\n",
       "      <td>0.156638</td>\n",
       "      <td>-0.251350</td>\n",
       "      <td>0.270414</td>\n",
       "      <td>0.004337</td>\n",
       "    </tr>\n",
       "    <tr>\n",
       "      <th>anterior orbital gyrus</th>\n",
       "      <td>0.501748</td>\n",
       "      <td>0.796397</td>\n",
       "      <td>0.904002</td>\n",
       "      <td>0.411942</td>\n",
       "      <td>0.287773</td>\n",
       "      <td>0.019888</td>\n",
       "      <td>0.019457</td>\n",
       "      <td>0.750380</td>\n",
       "      <td>-0.067510</td>\n",
       "      <td>0.210442</td>\n",
       "      <td>...</td>\n",
       "      <td>0.174726</td>\n",
       "      <td>0.430974</td>\n",
       "      <td>0.021768</td>\n",
       "      <td>0.876802</td>\n",
       "      <td>0.329686</td>\n",
       "      <td>0.880628</td>\n",
       "      <td>0.073614</td>\n",
       "      <td>-0.055420</td>\n",
       "      <td>0.895704</td>\n",
       "      <td>0.824612</td>\n",
       "    </tr>\n",
       "    <tr>\n",
       "      <th>CA1 field</th>\n",
       "      <td>0.484316</td>\n",
       "      <td>0.738147</td>\n",
       "      <td>0.640247</td>\n",
       "      <td>0.599005</td>\n",
       "      <td>0.422664</td>\n",
       "      <td>-0.065566</td>\n",
       "      <td>-0.129086</td>\n",
       "      <td>0.721939</td>\n",
       "      <td>-0.106239</td>\n",
       "      <td>0.579569</td>\n",
       "      <td>...</td>\n",
       "      <td>0.435582</td>\n",
       "      <td>0.608258</td>\n",
       "      <td>-0.046181</td>\n",
       "      <td>0.546919</td>\n",
       "      <td>0.536434</td>\n",
       "      <td>0.771357</td>\n",
       "      <td>0.124435</td>\n",
       "      <td>-0.214818</td>\n",
       "      <td>0.661499</td>\n",
       "      <td>0.498325</td>\n",
       "    </tr>\n",
       "    <tr>\n",
       "      <th>CA2 field</th>\n",
       "      <td>0.469426</td>\n",
       "      <td>0.697827</td>\n",
       "      <td>0.528166</td>\n",
       "      <td>0.632665</td>\n",
       "      <td>0.447842</td>\n",
       "      <td>-0.060916</td>\n",
       "      <td>-0.152501</td>\n",
       "      <td>0.697413</td>\n",
       "      <td>-0.089286</td>\n",
       "      <td>0.655183</td>\n",
       "      <td>...</td>\n",
       "      <td>0.504134</td>\n",
       "      <td>0.543278</td>\n",
       "      <td>-0.079875</td>\n",
       "      <td>0.447923</td>\n",
       "      <td>0.579760</td>\n",
       "      <td>0.680350</td>\n",
       "      <td>0.175797</td>\n",
       "      <td>-0.226500</td>\n",
       "      <td>0.555328</td>\n",
       "      <td>0.342653</td>\n",
       "    </tr>\n",
       "    <tr>\n",
       "      <th>CA3 field</th>\n",
       "      <td>0.460967</td>\n",
       "      <td>0.681875</td>\n",
       "      <td>0.526169</td>\n",
       "      <td>0.616504</td>\n",
       "      <td>0.444276</td>\n",
       "      <td>-0.049692</td>\n",
       "      <td>-0.143725</td>\n",
       "      <td>0.683419</td>\n",
       "      <td>-0.084426</td>\n",
       "      <td>0.652695</td>\n",
       "      <td>...</td>\n",
       "      <td>0.497823</td>\n",
       "      <td>0.557134</td>\n",
       "      <td>-0.065847</td>\n",
       "      <td>0.438855</td>\n",
       "      <td>0.570626</td>\n",
       "      <td>0.675784</td>\n",
       "      <td>0.189572</td>\n",
       "      <td>-0.221195</td>\n",
       "      <td>0.551237</td>\n",
       "      <td>0.347943</td>\n",
       "    </tr>\n",
       "  </tbody>\n",
       "</table>\n",
       "<p>5 rows × 67 columns</p>\n",
       "</div>"
      ],
      "text/plain": [
       "Region                  Accessory olfactory bulb  Agranular insular area  \\\n",
       "Region                                                                     \n",
       "amygdala                                0.303690                0.503126   \n",
       "anterior orbital gyrus                  0.501748                0.796397   \n",
       "CA1 field                               0.484316                0.738147   \n",
       "CA2 field                               0.469426                0.697827   \n",
       "CA3 field                               0.460967                0.681875   \n",
       "\n",
       "Region                  Anterior cingulate area  Anterior olfactory nucleus  \\\n",
       "Region                                                                        \n",
       "amygdala                               0.143495                    0.683955   \n",
       "anterior orbital gyrus                 0.904002                    0.411942   \n",
       "CA1 field                              0.640247                    0.599005   \n",
       "CA2 field                              0.528166                    0.632665   \n",
       "CA3 field                              0.526169                    0.616504   \n",
       "\n",
       "Region                  Caudoputamen  Central lobule  Cerebellar nuclei  \\\n",
       "Region                                                                    \n",
       "amygdala                    0.622075       -0.144127          -0.216056   \n",
       "anterior orbital gyrus      0.287773        0.019888           0.019457   \n",
       "CA1 field                   0.422664       -0.065566          -0.129086   \n",
       "CA2 field                   0.447842       -0.060916          -0.152501   \n",
       "CA3 field                   0.444276       -0.049692          -0.143725   \n",
       "\n",
       "Region                  Claustrum  Copula pyramidis  Cortical amygdalar area  \\\n",
       "Region                                                                         \n",
       "amygdala                 0.662519         -0.145508                 0.889725   \n",
       "anterior orbital gyrus   0.750380         -0.067510                 0.210442   \n",
       "CA1 field                0.721939         -0.106239                 0.579569   \n",
       "CA2 field                0.697413         -0.089286                 0.655183   \n",
       "CA3 field                0.683419         -0.084426                 0.652695   \n",
       "\n",
       "Region                  ...  Striatum ventral region  Subiculum  \\\n",
       "Region                  ...                                       \n",
       "amygdala                ...                 0.791736   0.432747   \n",
       "anterior orbital gyrus  ...                 0.174726   0.430974   \n",
       "CA1 field               ...                 0.435582   0.608258   \n",
       "CA2 field               ...                 0.504134   0.543278   \n",
       "CA3 field               ...                 0.497823   0.557134   \n",
       "\n",
       "Region                  Superior colliculus, sensory related  \\\n",
       "Region                                                         \n",
       "amygdala                                           -0.062316   \n",
       "anterior orbital gyrus                              0.021768   \n",
       "CA1 field                                          -0.046181   \n",
       "CA2 field                                          -0.079875   \n",
       "CA3 field                                          -0.065847   \n",
       "\n",
       "Region                  Supplemental somatosensory area  Taenia tecta  \\\n",
       "Region                                                                  \n",
       "amygdala                                       0.161671      0.669603   \n",
       "anterior orbital gyrus                         0.876802      0.329686   \n",
       "CA1 field                                      0.546919      0.536434   \n",
       "CA2 field                                      0.447923      0.579760   \n",
       "CA3 field                                      0.438855      0.570626   \n",
       "\n",
       "Region                  Temporal association areas  Thalamus  Uvula (IX)  \\\n",
       "Region                                                                     \n",
       "amygdala                                  0.443157  0.156638   -0.251350   \n",
       "anterior orbital gyrus                    0.880628  0.073614   -0.055420   \n",
       "CA1 field                                 0.771357  0.124435   -0.214818   \n",
       "CA2 field                                 0.680350  0.175797   -0.226500   \n",
       "CA3 field                                 0.675784  0.189572   -0.221195   \n",
       "\n",
       "Region                  Ventral auditory area  Visual areas  \n",
       "Region                                                       \n",
       "amygdala                             0.270414      0.004337  \n",
       "anterior orbital gyrus               0.895704      0.824612  \n",
       "CA1 field                            0.661499      0.498325  \n",
       "CA2 field                            0.555328      0.342653  \n",
       "CA3 field                            0.551237      0.347943  \n",
       "\n",
       "[5 rows x 67 columns]"
      ]
     },
     "execution_count": 45,
     "metadata": {},
     "output_type": "execute_result"
    }
   ],
   "source": [
    "#Extract region names\n",
    "mouse_regions = dfExprMouse['Region']\n",
    "human_regions = dfExprHuman['Region']\n",
    "\n",
    "#Convert latent space data to matrices\n",
    "mat_mouse = dfMouseTransformed.to_numpy()\n",
    "mat_human = dfHumanTransformed.to_numpy()\n",
    "\n",
    "#Compute region-by-region correlations\n",
    "mat_sim = np.corrcoef(mat_human, mat_mouse)\n",
    "mat_sim = mat_sim[:len(human_regions), len(human_regions):]\n",
    "\n",
    "#Store correlation in data frame\n",
    "df_sim = pd.DataFrame(mat_sim,\n",
    "                     index = human_regions,\n",
    "                     columns = mouse_regions)\n",
    "\n",
    "df_sim.head()"
   ]
  },
  {
   "cell_type": "markdown",
   "id": "7e66a3d6",
   "metadata": {},
   "source": [
    "Now that we've got our correlation matrix, we can take a look at the association between regions. Let's look at the caudoputamen again. Which human regions are most similar to the mouse caudoputamen?"
   ]
  },
  {
   "cell_type": "code",
   "execution_count": 39,
   "id": "502124d5",
   "metadata": {},
   "outputs": [
    {
     "data": {
      "text/plain": [
       "Region\n",
       "caudate nucleus          0.990312\n",
       "putamen                  0.981042\n",
       "nucleus accumbens        0.944501\n",
       "septal nuclei            0.703712\n",
       "substantia innominata    0.687868\n",
       "Name: Caudoputamen, dtype: float64"
      ]
     },
     "execution_count": 39,
     "metadata": {},
     "output_type": "execute_result"
    }
   ],
   "source": [
    "df_sim['Caudoputamen'].sort_values(ascending = False).head()"
   ]
  },
  {
   "cell_type": "markdown",
   "id": "e19921a4",
   "metadata": {},
   "source": [
    "Evidently we find that the caudate and putamen are the top hits, with near-perfect correlation. \n",
    "\n",
    "Now I guess the question we want to answer is what is driving these correlations?\n",
    "\n",
    "A first step might be to take a look how these regions are represented in the latent space. "
   ]
  },
  {
   "cell_type": "code",
   "execution_count": 49,
   "id": "a19b5462",
   "metadata": {},
   "outputs": [
    {
     "data": {
      "text/plain": [
       "Text(0.5, 1.0, 'Correlation of mouse caudoputamen to human caudate')"
      ]
     },
     "execution_count": 49,
     "metadata": {},
     "output_type": "execute_result"
    },
    {
     "data": {
      "image/png": "[encoded data removed]",
      "text/plain": [
       "<Figure size 864x432 with 1 Axes>"
      ]
     },
     "metadata": {
      "needs_background": "light"
     },
     "output_type": "display_data"
    }
   ],
   "source": [
    "dfMouseTransformed.index = mouse_regions\n",
    "dfHumanTransformed.index = human_regions\n",
    "\n",
    "mouse_weights = dfMouseTransformed.loc['Caudoputamen'].to_numpy()\n",
    "human_weights = dfHumanTransformed.loc['caudate nucleus'].to_numpy()\n",
    "x_pos = np.arange(len(mouse_weights))\n",
    "\n",
    "fig, ax = plt.subplots(figsize = (12,6))\n",
    "\n",
    "ax.grid(zorder = 0, axis = 'y')\n",
    "ax.scatter(mouse_weights, human_weights)\n",
    "ax.set_xlabel('Mouse latent space weights')\n",
    "ax.set_ylabel('Human latent space weights')\n",
    "ax.set_title('Correlation of mouse caudoputamen to human caudate')"
   ]
  },
  {
   "cell_type": "markdown",
   "id": "9a88d4d6",
   "metadata": {},
   "source": [
    "Evidently the mouse and human latent space vectors are very well aligned.\n",
    "\n",
    "We can also take a look at the weights of the individual hidden neurons for one of these ROIs. "
   ]
  },
  {
   "cell_type": "code",
   "execution_count": 51,
   "id": "d70767ed",
   "metadata": {},
   "outputs": [
    {
     "data": {
      "text/plain": [
       "Text(0.5, 1.0, 'Neuron weights of mouse caudoputamen')"
      ]
     },
     "execution_count": 51,
     "metadata": {},
     "output_type": "execute_result"
    },
    {
     "data": {
      "image/png": "[encoded data removed]",
      "text/plain": [
       "<Figure size 864x432 with 1 Axes>"
      ]
     },
     "metadata": {
      "needs_background": "light"
     },
     "output_type": "display_data"
    }
   ],
   "source": [
    "fig, ax = plt.subplots(figsize = (12,6))\n",
    "\n",
    "ax.grid(zorder = 0, axis = 'y')\n",
    "ax.bar(x_pos, mouse_weights)\n",
    "ax.set_xlabel('Hidden neuron')\n",
    "ax.set_ylabel('Weight')\n",
    "ax.set_title('Neuron weights of mouse caudoputamen')"
   ]
  },
  {
   "cell_type": "markdown",
   "id": "2f81cc32",
   "metadata": {},
   "source": [
    "So the gene expression of the mouse caudoputamen isn't being projected onto one specific axis in the latent space. "
   ]
  },
  {
   "cell_type": "markdown",
   "id": "6ce37545",
   "metadata": {},
   "source": [
    "***"
   ]
  },
  {
   "cell_type": "code",
   "execution_count": 56,
   "id": "d094ed3c",
   "metadata": {},
   "outputs": [],
   "source": [
    "from captum.attr import LayerConductance"
   ]
  },
  {
   "cell_type": "code",
   "execution_count": 83,
   "id": "8185fcc9",
   "metadata": {},
   "outputs": [],
   "source": [
    "mat_mouse_cp = mat_mouse[mouse_regions == 'Caudoputamen',]\n",
    "X_mouse_cp_tensor = torch.from_numpy(mat_mouse_cp).type(torch.FloatTensor)"
   ]
  },
  {
   "cell_type": "code",
   "execution_count": 84,
   "id": "b5e51b03",
   "metadata": {},
   "outputs": [],
   "source": [
    "net.module_.apply_output_layer = False"
   ]
  },
  {
   "cell_type": "code",
   "execution_count": 85,
   "id": "ad18e220",
   "metadata": {},
   "outputs": [],
   "source": [
    "cond = LayerConductance(my_network, my_network.relu3)"
   ]
  },
  {
   "cell_type": "code",
   "execution_count": 86,
   "id": "57fe356a",
   "metadata": {},
   "outputs": [
    {
     "ename": "AssertionError",
     "evalue": "Tensor target dimension torch.Size([2, 200]) is not valid. torch.Size([20000, 200])",
     "output_type": "error",
     "traceback": [
      "\u001b[0;31m---------------------------------------------------------------------------\u001b[0m",
      "\u001b[0;31mAssertionError\u001b[0m                            Traceback (most recent call last)",
      "Input \u001b[0;32mIn [86]\u001b[0m, in \u001b[0;36m<cell line: 1>\u001b[0;34m()\u001b[0m\n\u001b[0;32m----> 1\u001b[0m cond_vals \u001b[38;5;241m=\u001b[39m \u001b[43mcond\u001b[49m\u001b[38;5;241;43m.\u001b[39;49m\u001b[43mattribute\u001b[49m\u001b[43m(\u001b[49m\u001b[43mX_tensor\u001b[49m\u001b[43m,\u001b[49m\n\u001b[1;32m      2\u001b[0m \u001b[38;5;66;43;03m#                            target = 4,\u001b[39;49;00m\n\u001b[1;32m      3\u001b[0m \u001b[43m                           \u001b[49m\u001b[43mtarget\u001b[49m\u001b[43m \u001b[49m\u001b[38;5;241;43m=\u001b[39;49m\u001b[43m \u001b[49m\u001b[43mX_mouse_cp_tensor\u001b[49m\u001b[43m,\u001b[49m\n\u001b[1;32m      4\u001b[0m \u001b[43m                           \u001b[49m\u001b[43minternal_batch_size\u001b[49m\u001b[43m \u001b[49m\u001b[38;5;241;43m=\u001b[39;49m\u001b[43m \u001b[49m\u001b[38;5;241;43m2\u001b[39;49m\u001b[38;5;241;43m*\u001b[39;49m\u001b[43mX\u001b[49m\u001b[38;5;241;43m.\u001b[39;49m\u001b[43mshape\u001b[49m\u001b[43m[\u001b[49m\u001b[38;5;241;43m0\u001b[39;49m\u001b[43m]\u001b[49m\u001b[43m)\u001b[49m\n\u001b[1;32m      5\u001b[0m cond_vals \u001b[38;5;241m=\u001b[39m cond_vals\u001b[38;5;241m.\u001b[39mdetach()\u001b[38;5;241m.\u001b[39mnumpy()\n",
      "File \u001b[0;32m/projects/abeauchamp/Projects/MouseHumanMapping/Paper_TranscriptomicSimilarity/mlp_captum/.venv/lib/python3.8/site-packages/captum/log/__init__.py:35\u001b[0m, in \u001b[0;36mlog_usage.<locals>._log_usage.<locals>.wrapper\u001b[0;34m(*args, **kwargs)\u001b[0m\n\u001b[1;32m     33\u001b[0m \u001b[38;5;129m@wraps\u001b[39m(func)\n\u001b[1;32m     34\u001b[0m \u001b[38;5;28;01mdef\u001b[39;00m \u001b[38;5;21mwrapper\u001b[39m(\u001b[38;5;241m*\u001b[39margs, \u001b[38;5;241m*\u001b[39m\u001b[38;5;241m*\u001b[39mkwargs):\n\u001b[0;32m---> 35\u001b[0m     \u001b[38;5;28;01mreturn\u001b[39;00m \u001b[43mfunc\u001b[49m\u001b[43m(\u001b[49m\u001b[38;5;241;43m*\u001b[39;49m\u001b[43margs\u001b[49m\u001b[43m,\u001b[49m\u001b[43m \u001b[49m\u001b[38;5;241;43m*\u001b[39;49m\u001b[38;5;241;43m*\u001b[39;49m\u001b[43mkwargs\u001b[49m\u001b[43m)\u001b[49m\n",
      "File \u001b[0;32m/projects/abeauchamp/Projects/MouseHumanMapping/Paper_TranscriptomicSimilarity/mlp_captum/.venv/lib/python3.8/site-packages/captum/attr/_core/layer/layer_conductance.py:276\u001b[0m, in \u001b[0;36mLayerConductance.attribute\u001b[0;34m(self, inputs, baselines, target, additional_forward_args, n_steps, method, internal_batch_size, return_convergence_delta, attribute_to_layer_input)\u001b[0m\n\u001b[1;32m    274\u001b[0m \u001b[38;5;28;01mif\u001b[39;00m internal_batch_size \u001b[38;5;129;01mis\u001b[39;00m \u001b[38;5;129;01mnot\u001b[39;00m \u001b[38;5;28;01mNone\u001b[39;00m:\n\u001b[1;32m    275\u001b[0m     num_examples \u001b[38;5;241m=\u001b[39m inputs[\u001b[38;5;241m0\u001b[39m]\u001b[38;5;241m.\u001b[39mshape[\u001b[38;5;241m0\u001b[39m]\n\u001b[0;32m--> 276\u001b[0m     attrs \u001b[38;5;241m=\u001b[39m \u001b[43m_batch_attribution\u001b[49m\u001b[43m(\u001b[49m\n\u001b[1;32m    277\u001b[0m \u001b[43m        \u001b[49m\u001b[38;5;28;43mself\u001b[39;49m\u001b[43m,\u001b[49m\n\u001b[1;32m    278\u001b[0m \u001b[43m        \u001b[49m\u001b[43mnum_examples\u001b[49m\u001b[43m,\u001b[49m\n\u001b[1;32m    279\u001b[0m \u001b[43m        \u001b[49m\u001b[43minternal_batch_size\u001b[49m\u001b[43m,\u001b[49m\n\u001b[1;32m    280\u001b[0m \u001b[43m        \u001b[49m\u001b[43mn_steps\u001b[49m\u001b[43m \u001b[49m\u001b[38;5;241;43m+\u001b[39;49m\u001b[43m \u001b[49m\u001b[38;5;241;43m1\u001b[39;49m\u001b[43m,\u001b[49m\n\u001b[1;32m    281\u001b[0m \u001b[43m        \u001b[49m\u001b[43minclude_endpoint\u001b[49m\u001b[38;5;241;43m=\u001b[39;49m\u001b[38;5;28;43;01mTrue\u001b[39;49;00m\u001b[43m,\u001b[49m\n\u001b[1;32m    282\u001b[0m \u001b[43m        \u001b[49m\u001b[43minputs\u001b[49m\u001b[38;5;241;43m=\u001b[39;49m\u001b[43minputs\u001b[49m\u001b[43m,\u001b[49m\n\u001b[1;32m    283\u001b[0m \u001b[43m        \u001b[49m\u001b[43mbaselines\u001b[49m\u001b[38;5;241;43m=\u001b[39;49m\u001b[43mbaselines\u001b[49m\u001b[43m,\u001b[49m\n\u001b[1;32m    284\u001b[0m \u001b[43m        \u001b[49m\u001b[43mtarget\u001b[49m\u001b[38;5;241;43m=\u001b[39;49m\u001b[43mtarget\u001b[49m\u001b[43m,\u001b[49m\n\u001b[1;32m    285\u001b[0m \u001b[43m        \u001b[49m\u001b[43madditional_forward_args\u001b[49m\u001b[38;5;241;43m=\u001b[39;49m\u001b[43madditional_forward_args\u001b[49m\u001b[43m,\u001b[49m\n\u001b[1;32m    286\u001b[0m \u001b[43m        \u001b[49m\u001b[43mmethod\u001b[49m\u001b[38;5;241;43m=\u001b[39;49m\u001b[43mmethod\u001b[49m\u001b[43m,\u001b[49m\n\u001b[1;32m    287\u001b[0m \u001b[43m        \u001b[49m\u001b[43mattribute_to_layer_input\u001b[49m\u001b[38;5;241;43m=\u001b[39;49m\u001b[43mattribute_to_layer_input\u001b[49m\u001b[43m,\u001b[49m\n\u001b[1;32m    288\u001b[0m \u001b[43m    \u001b[49m\u001b[43m)\u001b[49m\n\u001b[1;32m    290\u001b[0m \u001b[38;5;28;01melse\u001b[39;00m:\n\u001b[1;32m    291\u001b[0m     attrs \u001b[38;5;241m=\u001b[39m \u001b[38;5;28mself\u001b[39m\u001b[38;5;241m.\u001b[39m_attribute(\n\u001b[1;32m    292\u001b[0m         inputs\u001b[38;5;241m=\u001b[39minputs,\n\u001b[1;32m    293\u001b[0m         baselines\u001b[38;5;241m=\u001b[39mbaselines,\n\u001b[0;32m   (...)\u001b[0m\n\u001b[1;32m    298\u001b[0m         attribute_to_layer_input\u001b[38;5;241m=\u001b[39mattribute_to_layer_input,\n\u001b[1;32m    299\u001b[0m     )\n",
      "File \u001b[0;32m/projects/abeauchamp/Projects/MouseHumanMapping/Paper_TranscriptomicSimilarity/mlp_captum/.venv/lib/python3.8/site-packages/captum/attr/_utils/batching.py:78\u001b[0m, in \u001b[0;36m_batch_attribution\u001b[0;34m(attr_method, num_examples, internal_batch_size, n_steps, include_endpoint, **kwargs)\u001b[0m\n\u001b[1;32m     76\u001b[0m step_sizes \u001b[38;5;241m=\u001b[39m full_step_sizes[start_step:end_step]\n\u001b[1;32m     77\u001b[0m alphas \u001b[38;5;241m=\u001b[39m full_alphas[start_step:end_step]\n\u001b[0;32m---> 78\u001b[0m current_attr \u001b[38;5;241m=\u001b[39m \u001b[43mattr_method\u001b[49m\u001b[38;5;241;43m.\u001b[39;49m\u001b[43m_attribute\u001b[49m\u001b[43m(\u001b[49m\n\u001b[1;32m     79\u001b[0m \u001b[43m    \u001b[49m\u001b[38;5;241;43m*\u001b[39;49m\u001b[38;5;241;43m*\u001b[39;49m\u001b[43mkwargs\u001b[49m\u001b[43m,\u001b[49m\u001b[43m \u001b[49m\u001b[43mn_steps\u001b[49m\u001b[38;5;241;43m=\u001b[39;49m\u001b[43mbatch_steps\u001b[49m\u001b[43m,\u001b[49m\u001b[43m \u001b[49m\u001b[43mstep_sizes_and_alphas\u001b[49m\u001b[38;5;241;43m=\u001b[39;49m\u001b[43m(\u001b[49m\u001b[43mstep_sizes\u001b[49m\u001b[43m,\u001b[49m\u001b[43m \u001b[49m\u001b[43malphas\u001b[49m\u001b[43m)\u001b[49m\n\u001b[1;32m     80\u001b[0m \u001b[43m\u001b[49m\u001b[43m)\u001b[49m\n\u001b[1;32m     82\u001b[0m \u001b[38;5;28;01mif\u001b[39;00m total_attr \u001b[38;5;129;01mis\u001b[39;00m \u001b[38;5;28;01mNone\u001b[39;00m:\n\u001b[1;32m     83\u001b[0m     total_attr \u001b[38;5;241m=\u001b[39m current_attr\n",
      "File \u001b[0;32m/projects/abeauchamp/Projects/MouseHumanMapping/Paper_TranscriptomicSimilarity/mlp_captum/.venv/lib/python3.8/site-packages/captum/attr/_core/layer/layer_conductance.py:359\u001b[0m, in \u001b[0;36mLayerConductance._attribute\u001b[0;34m(self, inputs, baselines, target, additional_forward_args, n_steps, method, attribute_to_layer_input, step_sizes_and_alphas)\u001b[0m\n\u001b[1;32m    355\u001b[0m expanded_target \u001b[38;5;241m=\u001b[39m _expand_target(target, n_steps \u001b[38;5;241m+\u001b[39m \u001b[38;5;241m1\u001b[39m)\n\u001b[1;32m    357\u001b[0m \u001b[38;5;66;03m# Conductance Gradients - Returns gradient of output with respect to\u001b[39;00m\n\u001b[1;32m    358\u001b[0m \u001b[38;5;66;03m# hidden layer and hidden layer evaluated at each input.\u001b[39;00m\n\u001b[0;32m--> 359\u001b[0m (layer_gradients, layer_evals,) \u001b[38;5;241m=\u001b[39m \u001b[43mcompute_layer_gradients_and_eval\u001b[49m\u001b[43m(\u001b[49m\n\u001b[1;32m    360\u001b[0m \u001b[43m    \u001b[49m\u001b[43mforward_fn\u001b[49m\u001b[38;5;241;43m=\u001b[39;49m\u001b[38;5;28;43mself\u001b[39;49m\u001b[38;5;241;43m.\u001b[39;49m\u001b[43mforward_func\u001b[49m\u001b[43m,\u001b[49m\n\u001b[1;32m    361\u001b[0m \u001b[43m    \u001b[49m\u001b[43mlayer\u001b[49m\u001b[38;5;241;43m=\u001b[39;49m\u001b[38;5;28;43mself\u001b[39;49m\u001b[38;5;241;43m.\u001b[39;49m\u001b[43mlayer\u001b[49m\u001b[43m,\u001b[49m\n\u001b[1;32m    362\u001b[0m \u001b[43m    \u001b[49m\u001b[43minputs\u001b[49m\u001b[38;5;241;43m=\u001b[39;49m\u001b[43mscaled_features_tpl\u001b[49m\u001b[43m,\u001b[49m\n\u001b[1;32m    363\u001b[0m \u001b[43m    \u001b[49m\u001b[43madditional_forward_args\u001b[49m\u001b[38;5;241;43m=\u001b[39;49m\u001b[43minput_additional_args\u001b[49m\u001b[43m,\u001b[49m\n\u001b[1;32m    364\u001b[0m \u001b[43m    \u001b[49m\u001b[43mtarget_ind\u001b[49m\u001b[38;5;241;43m=\u001b[39;49m\u001b[43mexpanded_target\u001b[49m\u001b[43m,\u001b[49m\n\u001b[1;32m    365\u001b[0m \u001b[43m    \u001b[49m\u001b[43mdevice_ids\u001b[49m\u001b[38;5;241;43m=\u001b[39;49m\u001b[38;5;28;43mself\u001b[39;49m\u001b[38;5;241;43m.\u001b[39;49m\u001b[43mdevice_ids\u001b[49m\u001b[43m,\u001b[49m\n\u001b[1;32m    366\u001b[0m \u001b[43m    \u001b[49m\u001b[43mattribute_to_layer_input\u001b[49m\u001b[38;5;241;43m=\u001b[39;49m\u001b[43mattribute_to_layer_input\u001b[49m\u001b[43m,\u001b[49m\n\u001b[1;32m    367\u001b[0m \u001b[43m\u001b[49m\u001b[43m)\u001b[49m\n\u001b[1;32m    369\u001b[0m \u001b[38;5;66;03m# Compute differences between consecutive evaluations of layer_eval.\u001b[39;00m\n\u001b[1;32m    370\u001b[0m \u001b[38;5;66;03m# This approximates the total input gradient of each step multiplied\u001b[39;00m\n\u001b[1;32m    371\u001b[0m \u001b[38;5;66;03m# by the step size.\u001b[39;00m\n\u001b[1;32m    372\u001b[0m grad_diffs \u001b[38;5;241m=\u001b[39m \u001b[38;5;28mtuple\u001b[39m(\n\u001b[1;32m    373\u001b[0m     layer_eval[num_examples:] \u001b[38;5;241m-\u001b[39m layer_eval[:\u001b[38;5;241m-\u001b[39mnum_examples]\n\u001b[1;32m    374\u001b[0m     \u001b[38;5;28;01mfor\u001b[39;00m layer_eval \u001b[38;5;129;01min\u001b[39;00m layer_evals\n\u001b[1;32m    375\u001b[0m )\n",
      "File \u001b[0;32m/projects/abeauchamp/Projects/MouseHumanMapping/Paper_TranscriptomicSimilarity/mlp_captum/.venv/lib/python3.8/site-packages/captum/_utils/gradient.py:592\u001b[0m, in \u001b[0;36mcompute_layer_gradients_and_eval\u001b[0;34m(forward_fn, layer, inputs, target_ind, additional_forward_args, gradient_neuron_selector, device_ids, attribute_to_layer_input, output_fn)\u001b[0m\n\u001b[1;32m    541\u001b[0m \u001b[38;5;124mr\u001b[39m\u001b[38;5;124;03m\"\"\"\u001b[39;00m\n\u001b[1;32m    542\u001b[0m \u001b[38;5;124;03mComputes gradients of the output with respect to a given layer as well\u001b[39;00m\n\u001b[1;32m    543\u001b[0m \u001b[38;5;124;03mas the output evaluation of the layer for an arbitrary forward function\u001b[39;00m\n\u001b[0;32m   (...)\u001b[0m\n\u001b[1;32m    587\u001b[0m \u001b[38;5;124;03m        Target layer output for given input.\u001b[39;00m\n\u001b[1;32m    588\u001b[0m \u001b[38;5;124;03m\"\"\"\u001b[39;00m\n\u001b[1;32m    589\u001b[0m \u001b[38;5;28;01mwith\u001b[39;00m torch\u001b[38;5;241m.\u001b[39mautograd\u001b[38;5;241m.\u001b[39mset_grad_enabled(\u001b[38;5;28;01mTrue\u001b[39;00m):\n\u001b[1;32m    590\u001b[0m     \u001b[38;5;66;03m# saved_layer is a dictionary mapping device to a tuple of\u001b[39;00m\n\u001b[1;32m    591\u001b[0m     \u001b[38;5;66;03m# layer evaluations on that device.\u001b[39;00m\n\u001b[0;32m--> 592\u001b[0m     saved_layer, output \u001b[38;5;241m=\u001b[39m \u001b[43m_forward_layer_distributed_eval\u001b[49m\u001b[43m(\u001b[49m\n\u001b[1;32m    593\u001b[0m \u001b[43m        \u001b[49m\u001b[43mforward_fn\u001b[49m\u001b[43m,\u001b[49m\n\u001b[1;32m    594\u001b[0m \u001b[43m        \u001b[49m\u001b[43minputs\u001b[49m\u001b[43m,\u001b[49m\n\u001b[1;32m    595\u001b[0m \u001b[43m        \u001b[49m\u001b[43mlayer\u001b[49m\u001b[43m,\u001b[49m\n\u001b[1;32m    596\u001b[0m \u001b[43m        \u001b[49m\u001b[43mtarget_ind\u001b[49m\u001b[38;5;241;43m=\u001b[39;49m\u001b[43mtarget_ind\u001b[49m\u001b[43m,\u001b[49m\n\u001b[1;32m    597\u001b[0m \u001b[43m        \u001b[49m\u001b[43madditional_forward_args\u001b[49m\u001b[38;5;241;43m=\u001b[39;49m\u001b[43madditional_forward_args\u001b[49m\u001b[43m,\u001b[49m\n\u001b[1;32m    598\u001b[0m \u001b[43m        \u001b[49m\u001b[43mattribute_to_layer_input\u001b[49m\u001b[38;5;241;43m=\u001b[39;49m\u001b[43mattribute_to_layer_input\u001b[49m\u001b[43m,\u001b[49m\n\u001b[1;32m    599\u001b[0m \u001b[43m        \u001b[49m\u001b[43mforward_hook_with_return\u001b[49m\u001b[38;5;241;43m=\u001b[39;49m\u001b[38;5;28;43;01mTrue\u001b[39;49;00m\u001b[43m,\u001b[49m\n\u001b[1;32m    600\u001b[0m \u001b[43m        \u001b[49m\u001b[43mrequire_layer_grads\u001b[49m\u001b[38;5;241;43m=\u001b[39;49m\u001b[38;5;28;43;01mTrue\u001b[39;49;00m\u001b[43m,\u001b[49m\n\u001b[1;32m    601\u001b[0m \u001b[43m    \u001b[49m\u001b[43m)\u001b[49m\n\u001b[1;32m    602\u001b[0m     \u001b[38;5;28;01massert\u001b[39;00m output[\u001b[38;5;241m0\u001b[39m]\u001b[38;5;241m.\u001b[39mnumel() \u001b[38;5;241m==\u001b[39m \u001b[38;5;241m1\u001b[39m, (\n\u001b[1;32m    603\u001b[0m         \u001b[38;5;124m\"\u001b[39m\u001b[38;5;124mTarget not provided when necessary, cannot\u001b[39m\u001b[38;5;124m\"\u001b[39m\n\u001b[1;32m    604\u001b[0m         \u001b[38;5;124m\"\u001b[39m\u001b[38;5;124m take gradient with respect to multiple outputs.\u001b[39m\u001b[38;5;124m\"\u001b[39m\n\u001b[1;32m    605\u001b[0m     )\n\u001b[1;32m    607\u001b[0m     device_ids \u001b[38;5;241m=\u001b[39m _extract_device_ids(forward_fn, saved_layer, device_ids)\n",
      "File \u001b[0;32m/projects/abeauchamp/Projects/MouseHumanMapping/Paper_TranscriptomicSimilarity/mlp_captum/.venv/lib/python3.8/site-packages/captum/_utils/gradient.py:294\u001b[0m, in \u001b[0;36m_forward_layer_distributed_eval\u001b[0;34m(forward_fn, inputs, layer, target_ind, additional_forward_args, attribute_to_layer_input, forward_hook_with_return, require_layer_grads)\u001b[0m\n\u001b[1;32m    290\u001b[0m         \u001b[38;5;28;01melse\u001b[39;00m:\n\u001b[1;32m    291\u001b[0m             all_hooks\u001b[38;5;241m.\u001b[39mappend(\n\u001b[1;32m    292\u001b[0m                 single_layer\u001b[38;5;241m.\u001b[39mregister_forward_hook(hook_wrapper(single_layer))\n\u001b[1;32m    293\u001b[0m             )\n\u001b[0;32m--> 294\u001b[0m     output \u001b[38;5;241m=\u001b[39m \u001b[43m_run_forward\u001b[49m\u001b[43m(\u001b[49m\n\u001b[1;32m    295\u001b[0m \u001b[43m        \u001b[49m\u001b[43mforward_fn\u001b[49m\u001b[43m,\u001b[49m\n\u001b[1;32m    296\u001b[0m \u001b[43m        \u001b[49m\u001b[43minputs\u001b[49m\u001b[43m,\u001b[49m\n\u001b[1;32m    297\u001b[0m \u001b[43m        \u001b[49m\u001b[43mtarget\u001b[49m\u001b[38;5;241;43m=\u001b[39;49m\u001b[43mtarget_ind\u001b[49m\u001b[43m,\u001b[49m\n\u001b[1;32m    298\u001b[0m \u001b[43m        \u001b[49m\u001b[43madditional_forward_args\u001b[49m\u001b[38;5;241;43m=\u001b[39;49m\u001b[43madditional_forward_args\u001b[49m\u001b[43m,\u001b[49m\n\u001b[1;32m    299\u001b[0m \u001b[43m    \u001b[49m\u001b[43m)\u001b[49m\n\u001b[1;32m    300\u001b[0m \u001b[38;5;28;01mfinally\u001b[39;00m:\n\u001b[1;32m    301\u001b[0m     \u001b[38;5;28;01mfor\u001b[39;00m hook \u001b[38;5;129;01min\u001b[39;00m all_hooks:\n",
      "File \u001b[0;32m/projects/abeauchamp/Projects/MouseHumanMapping/Paper_TranscriptomicSimilarity/mlp_captum/.venv/lib/python3.8/site-packages/captum/_utils/common.py:461\u001b[0m, in \u001b[0;36m_run_forward\u001b[0;34m(forward_func, inputs, target, additional_forward_args)\u001b[0m\n\u001b[1;32m    454\u001b[0m additional_forward_args \u001b[38;5;241m=\u001b[39m _format_additional_forward_args(additional_forward_args)\n\u001b[1;32m    456\u001b[0m output \u001b[38;5;241m=\u001b[39m forward_func(\n\u001b[1;32m    457\u001b[0m     \u001b[38;5;241m*\u001b[39m(\u001b[38;5;241m*\u001b[39minputs, \u001b[38;5;241m*\u001b[39madditional_forward_args)\n\u001b[1;32m    458\u001b[0m     \u001b[38;5;28;01mif\u001b[39;00m additional_forward_args \u001b[38;5;129;01mis\u001b[39;00m \u001b[38;5;129;01mnot\u001b[39;00m \u001b[38;5;28;01mNone\u001b[39;00m\n\u001b[1;32m    459\u001b[0m     \u001b[38;5;28;01melse\u001b[39;00m inputs\n\u001b[1;32m    460\u001b[0m )\n\u001b[0;32m--> 461\u001b[0m \u001b[38;5;28;01mreturn\u001b[39;00m \u001b[43m_select_targets\u001b[49m\u001b[43m(\u001b[49m\u001b[43moutput\u001b[49m\u001b[43m,\u001b[49m\u001b[43m \u001b[49m\u001b[43mtarget\u001b[49m\u001b[43m)\u001b[49m\n",
      "File \u001b[0;32m/projects/abeauchamp/Projects/MouseHumanMapping/Paper_TranscriptomicSimilarity/mlp_captum/.venv/lib/python3.8/site-packages/captum/_utils/common.py:480\u001b[0m, in \u001b[0;36m_select_targets\u001b[0;34m(output, target)\u001b[0m\n\u001b[1;32m    478\u001b[0m         \u001b[38;5;28;01mreturn\u001b[39;00m torch\u001b[38;5;241m.\u001b[39mgather(output, \u001b[38;5;241m1\u001b[39m, target\u001b[38;5;241m.\u001b[39mreshape(\u001b[38;5;28mlen\u001b[39m(output), \u001b[38;5;241m1\u001b[39m))\n\u001b[1;32m    479\u001b[0m     \u001b[38;5;28;01melse\u001b[39;00m:\n\u001b[0;32m--> 480\u001b[0m         \u001b[38;5;28;01mraise\u001b[39;00m \u001b[38;5;167;01mAssertionError\u001b[39;00m(\n\u001b[1;32m    481\u001b[0m             \u001b[38;5;124m\"\u001b[39m\u001b[38;5;124mTensor target dimension \u001b[39m\u001b[38;5;132;01m%r\u001b[39;00m\u001b[38;5;124m is not valid. \u001b[39m\u001b[38;5;132;01m%r\u001b[39;00m\u001b[38;5;124m\"\u001b[39m\n\u001b[1;32m    482\u001b[0m             \u001b[38;5;241m%\u001b[39m (target\u001b[38;5;241m.\u001b[39mshape, output\u001b[38;5;241m.\u001b[39mshape)\n\u001b[1;32m    483\u001b[0m         )\n\u001b[1;32m    484\u001b[0m \u001b[38;5;28;01melif\u001b[39;00m \u001b[38;5;28misinstance\u001b[39m(target, \u001b[38;5;28mlist\u001b[39m):\n\u001b[1;32m    485\u001b[0m     \u001b[38;5;28;01massert\u001b[39;00m \u001b[38;5;28mlen\u001b[39m(target) \u001b[38;5;241m==\u001b[39m num_examples, \u001b[38;5;124m\"\u001b[39m\u001b[38;5;124mTarget list length does not match output!\u001b[39m\u001b[38;5;124m\"\u001b[39m\n",
      "\u001b[0;31mAssertionError\u001b[0m: Tensor target dimension torch.Size([2, 200]) is not valid. torch.Size([20000, 200])"
     ]
    }
   ],
   "source": [
    "cond_vals = cond.attribute(X_tensor,\n",
    "#                            target = 4,\n",
    "                           target = X_mouse_cp_tensor,\n",
    "                           internal_batch_size = 2*X.shape[0])\n",
    "cond_vals = cond_vals.detach().numpy()"
   ]
  },
  {
   "cell_type": "code",
   "execution_count": 61,
   "id": "10647de1",
   "metadata": {},
   "outputs": [],
   "source": [
    "cond_mean = np.mean(cond_vals, axis = 0)\n",
    "x_pos = np.arange(len(cond_mean))"
   ]
  },
  {
   "cell_type": "code",
   "execution_count": 62,
   "id": "9cb69a53",
   "metadata": {},
   "outputs": [
    {
     "data": {
      "text/plain": [
       "<BarContainer object of 200 artists>"
      ]
     },
     "execution_count": 62,
     "metadata": {},
     "output_type": "execute_result"
    },
    {
     "data": {
      "image/png": "[encoded data removed]",
      "text/plain": [
       "<Figure size 864x432 with 1 Axes>"
      ]
     },
     "metadata": {
      "needs_background": "light"
     },
     "output_type": "display_data"
    }
   ],
   "source": [
    "fig, ax = plt.subplots(figsize = (12,6))\n",
    "\n",
    "ax.grid(zorder = 0, axis = 'y')\n",
    "ax.bar(x_pos, cond_mean)"
   ]
  },
  {
   "cell_type": "code",
   "execution_count": 198,
   "id": "3c950da5",
   "metadata": {},
   "outputs": [
    {
     "data": {
      "text/plain": [
       "<BarContainer object of 10 artists>"
      ]
     },
     "execution_count": 198,
     "metadata": {},
     "output_type": "execute_result"
    },
    {
     "data": {
      "image/png": "[encoded data removed]",
      "text/plain": [
       "<Figure size 864x432 with 1 Axes>"
      ]
     },
     "metadata": {
      "needs_background": "light"
     },
     "output_type": "display_data"
    }
   ],
   "source": [
    "fig, ax = plt.subplots(figsize = (12,6))\n",
    "\n",
    "ax.grid(zorder = 0, axis = 'y')\n",
    "ax.bar(x_pos[:10], cond_mean[:10])"
   ]
  },
  {
   "cell_type": "code",
   "execution_count": 195,
   "id": "66737286",
   "metadata": {},
   "outputs": [],
   "source": [
    "from captum.attr import NeuronConductance"
   ]
  },
  {
   "cell_type": "code",
   "execution_count": 196,
   "id": "462029c1",
   "metadata": {},
   "outputs": [],
   "source": [
    "neuron_cond = NeuronConductance(my_network, my_network.relu3)"
   ]
  },
  {
   "cell_type": "code",
   "execution_count": 199,
   "id": "da9a7ad3",
   "metadata": {},
   "outputs": [],
   "source": [
    "neuron_cond_vals = neuron_cond.attribute(X_tensor, \n",
    "                                         neuron_selector = 4,\n",
    "                                         target = 4, \n",
    "                                         internal_batch_size = 2*X.shape[0])"
   ]
  },
  {
   "cell_type": "code",
   "execution_count": 206,
   "id": "9c01243e",
   "metadata": {},
   "outputs": [],
   "source": [
    "neuron_cond_vals = neuron_cond_vals.detach().numpy()\n",
    "neuron_cond_mean = np.mean(neuron_cond_vals, axis = 0)\n",
    "x_pos = np.arange(len(neuron_cond_mean))"
   ]
  },
  {
   "cell_type": "code",
   "execution_count": 207,
   "id": "2ab30184",
   "metadata": {},
   "outputs": [
    {
     "data": {
      "text/plain": [
       "<BarContainer object of 2624 artists>"
      ]
     },
     "execution_count": 207,
     "metadata": {},
     "output_type": "execute_result"
    },
    {
     "data": {
      "image/png": "[encoded data removed]",
      "text/plain": [
       "<Figure size 864x432 with 1 Axes>"
      ]
     },
     "metadata": {
      "needs_background": "light"
     },
     "output_type": "display_data"
    }
   ],
   "source": [
    "fig, ax = plt.subplots(figsize = (12,6))\n",
    "\n",
    "ax.grid(zorder = 0, axis = 'y')\n",
    "ax.bar(x_pos, neuron_cond_mean)"
   ]
  }
 ],
 "metadata": {
  "kernelspec": {
   "display_name": "Python 3 (ipykernel)",
   "language": "python",
   "name": "python3"
  },
  "language_info": {
   "codemirror_mode": {
    "name": "ipython",
    "version": 3
   },
   "file_extension": ".py",
   "mimetype": "text/x-python",
   "name": "python",
   "nbconvert_exporter": "python",
   "pygments_lexer": "ipython3",
   "version": "3.8.10"
  }
 },
 "nbformat": 4,
 "nbformat_minor": 5
}
