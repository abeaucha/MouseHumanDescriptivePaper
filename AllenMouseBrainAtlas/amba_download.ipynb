{
 "cells": [
  {
   "cell_type": "markdown",
   "id": "923c3057",
   "metadata": {},
   "source": [
    "Allen Institute resources for API access:\n",
    "- http://help.brain-map.org/display/api/Allen+Brain+Atlas+API\n",
    "- http://help.brain-map.org/display/api/Downloading+3-D+Expression+Grid+Data\n",
    "- http://help.brain-map.org/display/api/Example+Queries+for+Experiment+Metadata\n",
    "- http://help.brain-map.org/pages/viewpage.action?pageId=5308449\n",
    "\n",
    "XML parsing:\n",
    "- https://www.datacamp.com/community/tutorials/python-xml-elementtree\n",
    "- https://www.kite.com/python/answers/how-to-download-a-csv-file-from-a-url-in-python\n"
   ]
  },
  {
   "cell_type": "code",
   "execution_count": 1,
   "id": "7dd8a761",
   "metadata": {},
   "outputs": [],
   "source": [
    "import requests\n",
    "import xml.etree.ElementTree as ET"
   ]
  },
  {
   "cell_type": "code",
   "execution_count": 29,
   "id": "ca8c2e28",
   "metadata": {},
   "outputs": [],
   "source": [
    "# url = \"http://api.brain-map.org/api/v2/data/query.csv?criteria=model::SectionDataSet,rma::criteria,[failed$eqfalse],products[abbreviation$eq'Mouse'],treatments[name$eq'ISH'],genes,plane_of_section,rma::options,[tabular$eq'plane_of_sections.name+as+plane','genes.acronym+as+gene','data_sets.id+as+section_data_set_id'],[order$eq'plane_of_sections.name,genes.acronym,data_sets.id']&num_rows=50&start_row=0\"\n",
    "url = \"http://api.brain-map.org/api/v2/data/query.xml?criteria=model::SectionDataSet,rma::criteria,[failed$eqfalse],products[abbreviation$eq'Mouse'],treatments[name$eq'ISH'],rma::include,genes,specimen(donor(age)),plane_of_section&num_rows=200&start_row=0\""
   ]
  },
  {
   "cell_type": "code",
   "execution_count": null,
   "id": "32e2e602",
   "metadata": {},
   "outputs": [],
   "source": [
    "#This XML query gets the 4345 experiments in the coronal data set\n",
    "\"http://api.brain-map.org/api/v2/data/SectionDataSet/query.xml?criteria=[failed$eqfalse],plane_of_section[name$eqcoronal],products[abbreviation$eqMouse],treatments[name$eqISH]\"\n",
    "\n",
    "#This one gets the 21733 experiments in the sagittal data set\n",
    "\"http://api.brain-map.org/api/v2/data/SectionDataSet/query.xml?criteria=[failed$eqfalse],plane_of_section[name$eqsagittal],products[abbreviation$eqMouse],treatments[name$eqISH]\""
   ]
  },
  {
   "cell_type": "code",
   "execution_count": null,
   "id": "42279e88",
   "metadata": {},
   "outputs": [],
   "source": [
    "# abi_brainmap_base = \"http://api.brain-map.org/api/v2/data\"\n",
    "# abi_brainmap_model = \"/SectionDataSet\"\n",
    "# abi_brainmap_queryxml = \"/query.xml?\"\n",
    "# abi_brainmap_criteria = {}"
   ]
  },
  {
   "cell_type": "code",
   "execution_count": 13,
   "id": "5ab03180",
   "metadata": {},
   "outputs": [],
   "source": [
    "root = ET.fromstring(r.content)"
   ]
  },
  {
   "cell_type": "code",
   "execution_count": 10,
   "id": "d926b4aa",
   "metadata": {},
   "outputs": [
    {
     "data": {
      "text/plain": [
       "'Response'"
      ]
     },
     "execution_count": 10,
     "metadata": {},
     "output_type": "execute_result"
    }
   ],
   "source": [
    "root.tag"
   ]
  },
  {
   "cell_type": "code",
   "execution_count": 14,
   "id": "73415f0f",
   "metadata": {},
   "outputs": [
    {
     "data": {
      "text/plain": [
       "{'success': 'true', 'start_row': '0', 'num_rows': '1', 'total_rows': '4345'}"
      ]
     },
     "execution_count": 14,
     "metadata": {},
     "output_type": "execute_result"
    }
   ],
   "source": [
    "root.attrib"
   ]
  },
  {
   "cell_type": "code",
   "execution_count": 16,
   "id": "3377e1a0",
   "metadata": {},
   "outputs": [
    {
     "data": {
      "text/plain": [
       "4345"
      ]
     },
     "execution_count": 16,
     "metadata": {},
     "output_type": "execute_result"
    }
   ],
   "source": [
    "int(root.attrib['total_rows'])"
   ]
  },
  {
   "cell_type": "code",
   "execution_count": null,
   "id": "874bd538",
   "metadata": {},
   "outputs": [],
   "source": []
  },
  {
   "cell_type": "code",
   "execution_count": 18,
   "id": "5aacd78c",
   "metadata": {},
   "outputs": [],
   "source": [
    "abi_brainmap_query_init = \"http://api.brain-map.org/api/v2/data/SectionDataSet/query.xml?criteria=[failed$eqfalse],plane_of_section[name$eqcoronal],products[abbreviation$eqMouse],treatments[name$eqISH]&start_row=0&num_rows=1\"\n",
    "\n",
    "r = requests.get(abi_brainmap_query_init)\n",
    "\n",
    "root = ET.fromstring(r.content)\n",
    "nfiles = int(root.attrib['total_rows'])"
   ]
  },
  {
   "cell_type": "code",
   "execution_count": null,
   "id": "a0e89938",
   "metadata": {},
   "outputs": [],
   "source": [
    "url = \"http://api.brain-map.org/api/v2/data/SectionDataSet/query.xml?criteria=[failed$eqfalse],products[abbreviation$eqMouse],treatments[name$eqISH],plane_of_section[name$eqcoronal],genes&tabular=plane_of_sections.name+as+plane,genes.acronym+as+gene\n",
    "\n",
    "\n",
    "%20rma::options,%20[tabular$eq%27plane_of_sections.name+as+plane%27,%27genes.acronym+as+gene%27,%27data_sets.id+as+section_data_set_id%27],%20[order$eq%27plane_of_sections.name,genes.acronym,data_sets.id%27]%20&num_rows=50&start_row=0\""
   ]
  },
  {
   "cell_type": "code",
   "execution_count": 20,
   "id": "280bb675",
   "metadata": {},
   "outputs": [
    {
     "ename": "ImportError",
     "evalue": "Unable to import required dependencies:\nnumpy: \n\nIMPORTANT: PLEASE READ THIS FOR ADVICE ON HOW TO SOLVE THIS ISSUE!\n\nImporting the numpy C-extensions failed. This error can happen for\nmany reasons, often due to issues with your setup or how NumPy was\ninstalled.\n\nWe have compiled some common reasons and troubleshooting tips at:\n\n    https://numpy.org/devdocs/user/troubleshooting-importerror.html\n\nPlease note and check the following:\n\n  * The Python version is: Python3.8 from \"/projects/abeauchamp/Projects/MouseHumanMapping/Paper_TranscriptomicSimilarity/AllenMouseBrainAtlas/AMBAEnv/bin/python3\"\n  * The NumPy version is: \"1.21.5\"\n\nand make sure that they are the versions you expect.\nPlease carefully study the documentation linked above for further help.\n\nOriginal error was: No module named 'numpy.core._multiarray_umath'\n",
     "output_type": "error",
     "traceback": [
      "\u001b[0;31m---------------------------------------------------------------------------\u001b[0m",
      "\u001b[0;31mImportError\u001b[0m                               Traceback (most recent call last)",
      "\u001b[0;32m/tmp/ipykernel_3099553/4080736814.py\u001b[0m in \u001b[0;36m<module>\u001b[0;34m\u001b[0m\n\u001b[0;32m----> 1\u001b[0;31m \u001b[0;32mimport\u001b[0m \u001b[0mpandas\u001b[0m \u001b[0;32mas\u001b[0m \u001b[0mpd\u001b[0m\u001b[0;34m\u001b[0m\u001b[0;34m\u001b[0m\u001b[0m\n\u001b[0m",
      "\u001b[0;32m/projects/tools/programs/ubuntu-20.04/spack/opt/spack/linux-ubuntu20.04-ivybridge/gcc-9.3.0/py-pandas-1.4.0-dptsprz2x5vwypzkduzlyy6lyj2ok7cv/lib/python3.9/site-packages/pandas/__init__.py\u001b[0m in \u001b[0;36m<module>\u001b[0;34m\u001b[0m\n\u001b[1;32m     14\u001b[0m \u001b[0;34m\u001b[0m\u001b[0m\n\u001b[1;32m     15\u001b[0m \u001b[0;32mif\u001b[0m \u001b[0mmissing_dependencies\u001b[0m\u001b[0;34m:\u001b[0m\u001b[0;34m\u001b[0m\u001b[0;34m\u001b[0m\u001b[0m\n\u001b[0;32m---> 16\u001b[0;31m     raise ImportError(\n\u001b[0m\u001b[1;32m     17\u001b[0m         \u001b[0;34m\"Unable to import required dependencies:\\n\"\u001b[0m \u001b[0;34m+\u001b[0m \u001b[0;34m\"\\n\"\u001b[0m\u001b[0;34m.\u001b[0m\u001b[0mjoin\u001b[0m\u001b[0;34m(\u001b[0m\u001b[0mmissing_dependencies\u001b[0m\u001b[0;34m)\u001b[0m\u001b[0;34m\u001b[0m\u001b[0;34m\u001b[0m\u001b[0m\n\u001b[1;32m     18\u001b[0m     )\n",
      "\u001b[0;31mImportError\u001b[0m: Unable to import required dependencies:\nnumpy: \n\nIMPORTANT: PLEASE READ THIS FOR ADVICE ON HOW TO SOLVE THIS ISSUE!\n\nImporting the numpy C-extensions failed. This error can happen for\nmany reasons, often due to issues with your setup or how NumPy was\ninstalled.\n\nWe have compiled some common reasons and troubleshooting tips at:\n\n    https://numpy.org/devdocs/user/troubleshooting-importerror.html\n\nPlease note and check the following:\n\n  * The Python version is: Python3.8 from \"/projects/abeauchamp/Projects/MouseHumanMapping/Paper_TranscriptomicSimilarity/AllenMouseBrainAtlas/AMBAEnv/bin/python3\"\n  * The NumPy version is: \"1.21.5\"\n\nand make sure that they are the versions you expect.\nPlease carefully study the documentation linked above for further help.\n\nOriginal error was: No module named 'numpy.core._multiarray_umath'\n"
     ]
    }
   ],
   "source": [
    "import pandas as pd"
   ]
  },
  {
   "cell_type": "code",
   "execution_count": null,
   "id": "12ada7d3",
   "metadata": {},
   "outputs": [],
   "source": []
  }
 ],
 "metadata": {
  "kernelspec": {
   "display_name": "Python 3 (ipykernel)",
   "language": "python",
   "name": "python3"
  },
  "language_info": {
   "codemirror_mode": {
    "name": "ipython",
    "version": 3
   },
   "file_extension": ".py",
   "mimetype": "text/x-python",
   "name": "python",
   "nbconvert_exporter": "python",
   "pygments_lexer": "ipython3",
   "version": "3.8.10"
  }
 },
 "nbformat": 4,
 "nbformat_minor": 5
}
