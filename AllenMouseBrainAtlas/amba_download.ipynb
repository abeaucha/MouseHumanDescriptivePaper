{
 "cells": [
  {
   "cell_type": "markdown",
   "id": "923c3057",
   "metadata": {},
   "source": [
    "Allen Institute resources for API access:\n",
    "- http://help.brain-map.org/display/api/Allen+Brain+Atlas+API\n",
    "- http://help.brain-map.org/display/api/Downloading+3-D+Expression+Grid+Data\n",
    "- http://help.brain-map.org/display/api/Example+Queries+for+Experiment+Metadata\n",
    "- http://help.brain-map.org/pages/viewpage.action?pageId=5308449\n",
    "\n",
    "XML parsing:\n",
    "- https://www.datacamp.com/community/tutorials/python-xml-elementtree\n",
    "- https://www.kite.com/python/answers/how-to-download-a-csv-file-from-a-url-in-python\n"
   ]
  },
  {
   "cell_type": "code",
   "execution_count": 2,
   "id": "7dd8a761",
   "metadata": {},
   "outputs": [],
   "source": [
    "import requests\n",
    "import xml.etree.ElementTree as ET"
   ]
  },
  {
   "cell_type": "code",
   "execution_count": 29,
   "id": "ca8c2e28",
   "metadata": {},
   "outputs": [],
   "source": [
    "# url = \"http://api.brain-map.org/api/v2/data/query.csv?criteria=model::SectionDataSet,rma::criteria,[failed$eqfalse],products[abbreviation$eq'Mouse'],treatments[name$eq'ISH'],genes,plane_of_section,rma::options,[tabular$eq'plane_of_sections.name+as+plane','genes.acronym+as+gene','data_sets.id+as+section_data_set_id'],[order$eq'plane_of_sections.name,genes.acronym,data_sets.id']&num_rows=50&start_row=0\"\n",
    "url = \"http://api.brain-map.org/api/v2/data/query.xml?criteria=model::SectionDataSet,rma::criteria,[failed$eqfalse],products[abbreviation$eq'Mouse'],treatments[name$eq'ISH'],rma::include,genes,specimen(donor(age)),plane_of_section&num_rows=200&start_row=0\""
   ]
  },
  {
   "cell_type": "code",
   "execution_count": null,
   "id": "32e2e602",
   "metadata": {},
   "outputs": [],
   "source": [
    "#This XML query gets the 4345 experiments in the coronal data set\n",
    "\"http://api.brain-map.org/api/v2/data/SectionDataSet/query.xml?criteria=[failed$eqfalse],plane_of_section[name$eqcoronal],products[abbreviation$eqMouse],treatments[name$eqISH]\"\n",
    "\n",
    "#This one gets the 21733 experiments in the sagittal data set\n",
    "\"http://api.brain-map.org/api/v2/data/SectionDataSet/query.xml?criteria=[failed$eqfalse],plane_of_section[name$eqsagittal],products[abbreviation$eqMouse],treatments[name$eqISH]\""
   ]
  },
  {
   "cell_type": "code",
   "execution_count": null,
   "id": "42279e88",
   "metadata": {},
   "outputs": [],
   "source": [
    "# abi_brainmap_base = \"http://api.brain-map.org/api/v2/data\"\n",
    "# abi_brainmap_model = \"/SectionDataSet\"\n",
    "# abi_brainmap_queryxml = \"/query.xml?\"\n",
    "# abi_brainmap_criteria = {}"
   ]
  },
  {
   "cell_type": "code",
   "execution_count": 13,
   "id": "5ab03180",
   "metadata": {},
   "outputs": [],
   "source": [
    "root = ET.fromstring(r.content)"
   ]
  },
  {
   "cell_type": "code",
   "execution_count": 10,
   "id": "d926b4aa",
   "metadata": {},
   "outputs": [
    {
     "data": {
      "text/plain": [
       "'Response'"
      ]
     },
     "execution_count": 10,
     "metadata": {},
     "output_type": "execute_result"
    }
   ],
   "source": [
    "root.tag"
   ]
  },
  {
   "cell_type": "code",
   "execution_count": 14,
   "id": "73415f0f",
   "metadata": {},
   "outputs": [
    {
     "data": {
      "text/plain": [
       "{'success': 'true', 'start_row': '0', 'num_rows': '1', 'total_rows': '4345'}"
      ]
     },
     "execution_count": 14,
     "metadata": {},
     "output_type": "execute_result"
    }
   ],
   "source": [
    "root.attrib"
   ]
  },
  {
   "cell_type": "code",
   "execution_count": 15,
   "id": "5aacd78c",
   "metadata": {},
   "outputs": [],
   "source": [
    "abi_brainmap_query_init = \"http://api.brain-map.org/api/v2/data/SectionDataSet/query.xml?criteria=[failed$eqfalse],plane_of_section[name$eqcoronal],products[abbreviation$eqMouse],treatments[name$eqISH]&start_row=0&num_rows=1\"\n",
    "\n",
    "r = requests.get(abi_brainmap_query_init)\n",
    "\n",
    "root = ET.fromstring(r.content)\n",
    "nfiles = int(root.attrib['total_rows'])"
   ]
  },
  {
   "cell_type": "code",
   "execution_count": 18,
   "id": "a0e89938",
   "metadata": {},
   "outputs": [],
   "source": [
    "url = \"http://api.brain-map.org/api/v2/data/SectionDataSet/query.csv?criteria=[failed$eqfalse],products[abbreviation$eqMouse],treatments[name$eqISH],plane_of_section[name$eqcoronal],genes&tabular=genes.acronym+as+gene,data_sets.id+as+ExperimentID,plane_of_sections.name+as+plane&start_row=4340&num_rows=10\"\n",
    "\n",
    "\n",
    "# %20rma::options,%20[tabular$eq%27plane_of_sections.name+as+plane%27,%27genes.acronym+as+gene%27,%27data_sets.id+as+section_data_set_id%27],%20[order$eq%27plane_of_sections.name,genes.acronym,data_sets.id%27]%20&num_rows=50&start_row=0\""
   ]
  },
  {
   "cell_type": "code",
   "execution_count": 3,
   "id": "280bb675",
   "metadata": {},
   "outputs": [],
   "source": [
    "import pandas as pd"
   ]
  },
  {
   "cell_type": "code",
   "execution_count": 19,
   "id": "12ada7d3",
   "metadata": {},
   "outputs": [
    {
     "data": {
      "text/html": [
       "<div>\n",
       "<style scoped>\n",
       "    .dataframe tbody tr th:only-of-type {\n",
       "        vertical-align: middle;\n",
       "    }\n",
       "\n",
       "    .dataframe tbody tr th {\n",
       "        vertical-align: top;\n",
       "    }\n",
       "\n",
       "    .dataframe thead th {\n",
       "        text-align: right;\n",
       "    }\n",
       "</style>\n",
       "<table border=\"1\" class=\"dataframe\">\n",
       "  <thead>\n",
       "    <tr style=\"text-align: right;\">\n",
       "      <th></th>\n",
       "      <th>gene</th>\n",
       "      <th>experimentid</th>\n",
       "      <th>plane</th>\n",
       "    </tr>\n",
       "  </thead>\n",
       "  <tbody>\n",
       "    <tr>\n",
       "      <th>0</th>\n",
       "      <td>Cyp26b1</td>\n",
       "      <td>72081548</td>\n",
       "      <td>coronal</td>\n",
       "    </tr>\n",
       "    <tr>\n",
       "      <th>1</th>\n",
       "      <td>Kcng4</td>\n",
       "      <td>72081560</td>\n",
       "      <td>coronal</td>\n",
       "    </tr>\n",
       "    <tr>\n",
       "      <th>2</th>\n",
       "      <td>Glra1</td>\n",
       "      <td>72108824</td>\n",
       "      <td>coronal</td>\n",
       "    </tr>\n",
       "    <tr>\n",
       "      <th>3</th>\n",
       "      <td>Ace</td>\n",
       "      <td>72109489</td>\n",
       "      <td>coronal</td>\n",
       "    </tr>\n",
       "    <tr>\n",
       "      <th>4</th>\n",
       "      <td>Rnf13</td>\n",
       "      <td>72109423</td>\n",
       "      <td>coronal</td>\n",
       "    </tr>\n",
       "  </tbody>\n",
       "</table>\n",
       "</div>"
      ],
      "text/plain": [
       "      gene  experimentid    plane\n",
       "0  Cyp26b1      72081548  coronal\n",
       "1    Kcng4      72081560  coronal\n",
       "2    Glra1      72108824  coronal\n",
       "3      Ace      72109489  coronal\n",
       "4    Rnf13      72109423  coronal"
      ]
     },
     "execution_count": 19,
     "metadata": {},
     "output_type": "execute_result"
    }
   ],
   "source": [
    "pd.read_csv(url)"
   ]
  },
  {
   "cell_type": "code",
   "execution_count": 27,
   "id": "4b57d364",
   "metadata": {},
   "outputs": [],
   "source": [
    "abi_query_base = \"http://api.brain-map.org/api/v2/data/SectionDataSet/query.csv?\"+\\\n",
    "\"criteria=[failed$eqfalse],products[abbreviation$eqMouse],treatments[name$eqISH],plane_of_section[name$eqcoronal],genes&\"+\\\n",
    "\"tabular=genes.acronym+as+gene,data_sets.id+as+ExperimentID,plane_of_sections.name+as+plane&\"\n",
    "\n",
    "# start_row=4340&num_rows=10\"\n",
    "\n",
    "num_rows = 100\n",
    "start_row = 0\n",
    "end_row = start_row + num_rows - 1\n",
    "flag = 1"
   ]
  },
  {
   "cell_type": "code",
   "execution_count": 28,
   "id": "976bd71b",
   "metadata": {},
   "outputs": [],
   "source": [
    "abi_query = abi_query_base+\"start_row={}&num_rows={}\".format(start_row, num_rows)"
   ]
  },
  {
   "cell_type": "code",
   "execution_count": 16,
   "id": "cbfd0e68",
   "metadata": {},
   "outputs": [
    {
     "data": {
      "text/plain": [
       "4345"
      ]
     },
     "execution_count": 16,
     "metadata": {},
     "output_type": "execute_result"
    }
   ],
   "source": [
    "nfiles = 5"
   ]
  },
  {
   "cell_type": "code",
   "execution_count": 17,
   "id": "5357f766",
   "metadata": {},
   "outputs": [
    {
     "data": {
      "text/plain": [
       "True"
      ]
     },
     "execution_count": 17,
     "metadata": {},
     "output_type": "execute_result"
    }
   ],
   "source": [
    "while flag == 1:\n",
    "    abi_query = abi_query_base+\"start_row={}&num_rows={}\".format(start_row, num_rows)\n",
    "    \n",
    "    "
   ]
  },
  {
   "cell_type": "code",
   "execution_count": 41,
   "id": "488eafe4",
   "metadata": {},
   "outputs": [],
   "source": [
    "abi_query_base = \"http://api.brain-map.org/api/v2/data/SectionDataSet/query.csv?\"+\\\n",
    "\"criteria=[failed$eqfalse],products[abbreviation$eqMouse],treatments[name$eqISH],plane_of_section[name$eqcoronal],genes&\"+\\\n",
    "\"tabular=genes.acronym+as+gene,data_sets.id+as+ExperimentID,plane_of_sections.name+as+plane&\"\n",
    "\n",
    "num_rows = 'all'\n",
    "abi_query = abi_query_base+\"start_row={}&num_rows={}\".format(start_row, num_rows)\n",
    "temp = pd.read_csv(abi_query)"
   ]
  },
  {
   "cell_type": "code",
   "execution_count": 42,
   "id": "a29d6138",
   "metadata": {},
   "outputs": [
    {
     "data": {
      "text/html": [
       "<div>\n",
       "<style scoped>\n",
       "    .dataframe tbody tr th:only-of-type {\n",
       "        vertical-align: middle;\n",
       "    }\n",
       "\n",
       "    .dataframe tbody tr th {\n",
       "        vertical-align: top;\n",
       "    }\n",
       "\n",
       "    .dataframe thead th {\n",
       "        text-align: right;\n",
       "    }\n",
       "</style>\n",
       "<table border=\"1\" class=\"dataframe\">\n",
       "  <thead>\n",
       "    <tr style=\"text-align: right;\">\n",
       "      <th></th>\n",
       "      <th>gene</th>\n",
       "      <th>experimentid</th>\n",
       "      <th>plane</th>\n",
       "    </tr>\n",
       "  </thead>\n",
       "  <tbody>\n",
       "    <tr>\n",
       "      <th>0</th>\n",
       "      <td>Nr2f2</td>\n",
       "      <td>112646890</td>\n",
       "      <td>coronal</td>\n",
       "    </tr>\n",
       "    <tr>\n",
       "      <th>1</th>\n",
       "      <td>Tbc1d8</td>\n",
       "      <td>71836747</td>\n",
       "      <td>coronal</td>\n",
       "    </tr>\n",
       "    <tr>\n",
       "      <th>2</th>\n",
       "      <td>Kcng3</td>\n",
       "      <td>71717451</td>\n",
       "      <td>coronal</td>\n",
       "    </tr>\n",
       "    <tr>\n",
       "      <th>3</th>\n",
       "      <td>Phox2b</td>\n",
       "      <td>2480</td>\n",
       "      <td>coronal</td>\n",
       "    </tr>\n",
       "    <tr>\n",
       "      <th>4</th>\n",
       "      <td>Thbs2</td>\n",
       "      <td>73929578</td>\n",
       "      <td>coronal</td>\n",
       "    </tr>\n",
       "    <tr>\n",
       "      <th>...</th>\n",
       "      <td>...</td>\n",
       "      <td>...</td>\n",
       "      <td>...</td>\n",
       "    </tr>\n",
       "    <tr>\n",
       "      <th>4340</th>\n",
       "      <td>Cyp26b1</td>\n",
       "      <td>72081548</td>\n",
       "      <td>coronal</td>\n",
       "    </tr>\n",
       "    <tr>\n",
       "      <th>4341</th>\n",
       "      <td>Kcng4</td>\n",
       "      <td>72081560</td>\n",
       "      <td>coronal</td>\n",
       "    </tr>\n",
       "    <tr>\n",
       "      <th>4342</th>\n",
       "      <td>Glra1</td>\n",
       "      <td>72108824</td>\n",
       "      <td>coronal</td>\n",
       "    </tr>\n",
       "    <tr>\n",
       "      <th>4343</th>\n",
       "      <td>Ace</td>\n",
       "      <td>72109489</td>\n",
       "      <td>coronal</td>\n",
       "    </tr>\n",
       "    <tr>\n",
       "      <th>4344</th>\n",
       "      <td>Rnf13</td>\n",
       "      <td>72109423</td>\n",
       "      <td>coronal</td>\n",
       "    </tr>\n",
       "  </tbody>\n",
       "</table>\n",
       "<p>4345 rows × 3 columns</p>\n",
       "</div>"
      ],
      "text/plain": [
       "         gene  experimentid    plane\n",
       "0       Nr2f2     112646890  coronal\n",
       "1      Tbc1d8      71836747  coronal\n",
       "2       Kcng3      71717451  coronal\n",
       "3      Phox2b          2480  coronal\n",
       "4       Thbs2      73929578  coronal\n",
       "...       ...           ...      ...\n",
       "4340  Cyp26b1      72081548  coronal\n",
       "4341    Kcng4      72081560  coronal\n",
       "4342    Glra1      72108824  coronal\n",
       "4343      Ace      72109489  coronal\n",
       "4344    Rnf13      72109423  coronal\n",
       "\n",
       "[4345 rows x 3 columns]"
      ]
     },
     "execution_count": 42,
     "metadata": {},
     "output_type": "execute_result"
    }
   ],
   "source": [
    "temp"
   ]
  },
  {
   "cell_type": "code",
   "execution_count": 45,
   "id": "1f6165ec",
   "metadata": {},
   "outputs": [],
   "source": [
    "temp_id = temp.loc[0, 'experimentid']"
   ]
  },
  {
   "cell_type": "code",
   "execution_count": 51,
   "id": "01b24c13",
   "metadata": {},
   "outputs": [
    {
     "data": {
      "text/plain": [
       "'http://api.brain-map.org/grid_data/download/112646890'"
      ]
     },
     "execution_count": 51,
     "metadata": {},
     "output_type": "execute_result"
    }
   ],
   "source": [
    "url = 'http://api.brain-map.org/grid_data/download/{}'.format(temp_id)\n",
    "url"
   ]
  },
  {
   "cell_type": "code",
   "execution_count": 52,
   "id": "af53e584",
   "metadata": {},
   "outputs": [],
   "source": [
    "r = requests.get(url)\n"
   ]
  },
  {
   "cell_type": "code",
   "execution_count": 54,
   "id": "5974a95b",
   "metadata": {},
   "outputs": [],
   "source": [
    "outfile = 'Data/Expression/temp.zip'\n",
    "with open(outfile, 'wb') as file:\n",
    "    file.write(r.content)"
   ]
  },
  {
   "cell_type": "code",
   "execution_count": null,
   "id": "6db6cb06",
   "metadata": {},
   "outputs": [],
   "source": []
  }
 ],
 "metadata": {
  "kernelspec": {
   "display_name": "Python 3 (ipykernel)",
   "language": "python",
   "name": "python3"
  },
  "language_info": {
   "codemirror_mode": {
    "name": "ipython",
    "version": 3
   },
   "file_extension": ".py",
   "mimetype": "text/x-python",
   "name": "python",
   "nbconvert_exporter": "python",
   "pygments_lexer": "ipython3",
   "version": "3.8.10"
  }
 },
 "nbformat": 4,
 "nbformat_minor": 5
}
