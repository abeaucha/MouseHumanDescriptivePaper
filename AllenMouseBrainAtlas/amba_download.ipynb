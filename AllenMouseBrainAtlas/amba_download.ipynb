{
 "cells": [
  {
   "cell_type": "markdown",
   "id": "923c3057",
   "metadata": {},
   "source": [
    "Allen Institute resources for API access:\n",
    "- http://help.brain-map.org/display/api/Allen+Brain+Atlas+API\n",
    "- http://help.brain-map.org/display/api/Downloading+3-D+Expression+Grid+Data\n",
    "- http://help.brain-map.org/display/api/Example+Queries+for+Experiment+Metadata\n",
    "- http://help.brain-map.org/pages/viewpage.action?pageId=5308449\n",
    "\n",
    "XML parsing:\n",
    "- https://www.datacamp.com/community/tutorials/python-xml-elementtree\n",
    "- https://www.kite.com/python/answers/how-to-download-a-csv-file-from-a-url-in-python\n",
    "\n",
    "Python parallel processing:\n",
    "- https://www.machinelearningplus.com/python/parallel-processing-python\n"
   ]
  },
  {
   "cell_type": "code",
   "execution_count": 65,
   "id": "7dd8a761",
   "metadata": {},
   "outputs": [],
   "source": [
    "import os\n",
    "import pandas as pd\n",
    "import requests\n",
    "# import xml.etree.ElementTree as ET"
   ]
  },
  {
   "cell_type": "code",
   "execution_count": 66,
   "id": "bd5a8f5e",
   "metadata": {},
   "outputs": [
    {
     "data": {
      "text/plain": [
       "'/projects/abeauchamp/Projects/MouseHumanMapping/Paper_TranscriptomicSimilarity/AllenMouseBrainAtlas'"
      ]
     },
     "execution_count": 66,
     "metadata": {},
     "output_type": "execute_result"
    }
   ],
   "source": [
    "os.getcwd()"
   ]
  },
  {
   "cell_type": "code",
   "execution_count": 67,
   "id": "7a2e02f5",
   "metadata": {},
   "outputs": [],
   "source": [
    "data_dir = os.getcwd()+'/data/'"
   ]
  },
  {
   "cell_type": "code",
   "execution_count": 68,
   "id": "ced6ddff",
   "metadata": {},
   "outputs": [],
   "source": [
    "# plane = 'coronal'\n",
    "plane = 'sagittal'"
   ]
  },
  {
   "cell_type": "code",
   "execution_count": 69,
   "id": "eac24804",
   "metadata": {},
   "outputs": [],
   "source": [
    "metadata_file = 'AMBA_metadata_{}.csv'.format(plane)\n",
    "if os.path.isfile(data_dir+metadata_file):\n",
    "    dfMetadata = pd.read_csv(data_dir+metadata_file)\n",
    "else:\n",
    "    abi_query_metadata = \"http://api.brain-map.org/api/v2/data/SectionDataSet/query.csv?\"+\\\n",
    "\"criteria=[failed$eqfalse],plane_of_section[name$eq{}],products[abbreviation$eqMouse],treatments[name$eqISH],genes&\".format(plane)+\\\n",
    "\"tabular=data_sets.id+as+experiment_id,data_sets.section_thickness,data_sets.specimen_id,\"+\\\n",
    "\"plane_of_sections.name+as+plane,\"+\\\n",
    "\"genes.acronym+as+gene,genes.name+as+gene_name,genes.chromosome_id,genes.entrez_id,genes.genomic_reference_update_id,genes.homologene_id,genes.organism_id&\"+\\\n",
    "\"start_row=0&num_rows=all\"\n",
    "    \n",
    "    dfMetadata = pd.read_csv(abi_query_metadata)\n",
    "    dfMetadata.to_csv(data_dir+metadata_file)"
   ]
  },
  {
   "cell_type": "code",
   "execution_count": 70,
   "id": "7d84a6d7",
   "metadata": {},
   "outputs": [
    {
     "data": {
      "text/plain": [
       "(21734, 11)"
      ]
     },
     "execution_count": 70,
     "metadata": {},
     "output_type": "execute_result"
    }
   ],
   "source": [
    "dfMetadata.shape"
   ]
  },
  {
   "cell_type": "code",
   "execution_count": 71,
   "id": "53abf7be",
   "metadata": {},
   "outputs": [
    {
     "data": {
      "text/html": [
       "<div>\n",
       "<style scoped>\n",
       "    .dataframe tbody tr th:only-of-type {\n",
       "        vertical-align: middle;\n",
       "    }\n",
       "\n",
       "    .dataframe tbody tr th {\n",
       "        vertical-align: top;\n",
       "    }\n",
       "\n",
       "    .dataframe thead th {\n",
       "        text-align: right;\n",
       "    }\n",
       "</style>\n",
       "<table border=\"1\" class=\"dataframe\">\n",
       "  <thead>\n",
       "    <tr style=\"text-align: right;\">\n",
       "      <th></th>\n",
       "      <th>experiment_id</th>\n",
       "      <th>section_thickness</th>\n",
       "      <th>specimen_id</th>\n",
       "      <th>plane</th>\n",
       "      <th>gene</th>\n",
       "      <th>gene_name</th>\n",
       "      <th>chromosome_id</th>\n",
       "      <th>entrez_id</th>\n",
       "      <th>genomic_reference_update_id</th>\n",
       "      <th>homologene_id</th>\n",
       "      <th>organism_id</th>\n",
       "    </tr>\n",
       "  </thead>\n",
       "  <tbody>\n",
       "    <tr>\n",
       "      <th>0</th>\n",
       "      <td>375</td>\n",
       "      <td>25</td>\n",
       "      <td>710147</td>\n",
       "      <td>sagittal</td>\n",
       "      <td>Ebf1</td>\n",
       "      <td>early B cell factor 1</td>\n",
       "      <td>36.0</td>\n",
       "      <td>13591.0</td>\n",
       "      <td>491928275.0</td>\n",
       "      <td>7297.0</td>\n",
       "      <td>2</td>\n",
       "    </tr>\n",
       "    <tr>\n",
       "      <th>1</th>\n",
       "      <td>386</td>\n",
       "      <td>25</td>\n",
       "      <td>710148</td>\n",
       "      <td>sagittal</td>\n",
       "      <td>Efnb1</td>\n",
       "      <td>ephrin B1</td>\n",
       "      <td>57.0</td>\n",
       "      <td>13641.0</td>\n",
       "      <td>491928275.0</td>\n",
       "      <td>3263.0</td>\n",
       "      <td>2</td>\n",
       "    </tr>\n",
       "    <tr>\n",
       "      <th>2</th>\n",
       "      <td>81600550</td>\n",
       "      <td>25</td>\n",
       "      <td>6510</td>\n",
       "      <td>sagittal</td>\n",
       "      <td>Tmem30a</td>\n",
       "      <td>transmembrane protein 30A</td>\n",
       "      <td>54.0</td>\n",
       "      <td>69981.0</td>\n",
       "      <td>491928275.0</td>\n",
       "      <td>110703.0</td>\n",
       "      <td>2</td>\n",
       "    </tr>\n",
       "    <tr>\n",
       "      <th>3</th>\n",
       "      <td>68269598</td>\n",
       "      <td>25</td>\n",
       "      <td>67501035</td>\n",
       "      <td>sagittal</td>\n",
       "      <td>Csrp1</td>\n",
       "      <td>cysteine and glycine-rich protein 1</td>\n",
       "      <td>34.0</td>\n",
       "      <td>13007.0</td>\n",
       "      <td>491928275.0</td>\n",
       "      <td>37874.0</td>\n",
       "      <td>2</td>\n",
       "    </tr>\n",
       "    <tr>\n",
       "      <th>4</th>\n",
       "      <td>68844361</td>\n",
       "      <td>25</td>\n",
       "      <td>68151384</td>\n",
       "      <td>sagittal</td>\n",
       "      <td>Slc4a1ap</td>\n",
       "      <td>solute carrier family 4 (anion exchanger), mem...</td>\n",
       "      <td>50.0</td>\n",
       "      <td>20534.0</td>\n",
       "      <td>491928275.0</td>\n",
       "      <td>7543.0</td>\n",
       "      <td>2</td>\n",
       "    </tr>\n",
       "  </tbody>\n",
       "</table>\n",
       "</div>"
      ],
      "text/plain": [
       "   experiment_id  section_thickness  specimen_id     plane      gene  \\\n",
       "0            375                 25       710147  sagittal      Ebf1   \n",
       "1            386                 25       710148  sagittal     Efnb1   \n",
       "2       81600550                 25         6510  sagittal   Tmem30a   \n",
       "3       68269598                 25     67501035  sagittal     Csrp1   \n",
       "4       68844361                 25     68151384  sagittal  Slc4a1ap   \n",
       "\n",
       "                                           gene_name  chromosome_id  \\\n",
       "0                              early B cell factor 1           36.0   \n",
       "1                                          ephrin B1           57.0   \n",
       "2                          transmembrane protein 30A           54.0   \n",
       "3                cysteine and glycine-rich protein 1           34.0   \n",
       "4  solute carrier family 4 (anion exchanger), mem...           50.0   \n",
       "\n",
       "   entrez_id  genomic_reference_update_id  homologene_id  organism_id  \n",
       "0    13591.0                  491928275.0         7297.0            2  \n",
       "1    13641.0                  491928275.0         3263.0            2  \n",
       "2    69981.0                  491928275.0       110703.0            2  \n",
       "3    13007.0                  491928275.0        37874.0            2  \n",
       "4    20534.0                  491928275.0         7543.0            2  "
      ]
     },
     "execution_count": 71,
     "metadata": {},
     "output_type": "execute_result"
    }
   ],
   "source": [
    "dfMetadata.head()"
   ]
  },
  {
   "cell_type": "code",
   "execution_count": 72,
   "id": "02056792",
   "metadata": {},
   "outputs": [],
   "source": [
    "temp_id = dfMetadata.loc[0,'experiment_id']"
   ]
  },
  {
   "cell_type": "code",
   "execution_count": 73,
   "id": "01b24c13",
   "metadata": {},
   "outputs": [
    {
     "data": {
      "text/plain": [
       "'http://api.brain-map.org/grid_data/download/375'"
      ]
     },
     "execution_count": 73,
     "metadata": {},
     "output_type": "execute_result"
    }
   ],
   "source": [
    "url = 'http://api.brain-map.org/grid_data/download/{}'.format(temp_id)\n",
    "url"
   ]
  },
  {
   "cell_type": "code",
   "execution_count": 9,
   "id": "af53e584",
   "metadata": {},
   "outputs": [],
   "source": [
    "r = requests.get(url)\n"
   ]
  },
  {
   "cell_type": "code",
   "execution_count": 10,
   "id": "5974a95b",
   "metadata": {},
   "outputs": [],
   "source": [
    "outfile = 'data/expression/temp.zip'\n",
    "with open(outfile, 'wb') as file:\n",
    "    file.write(r.content)"
   ]
  },
  {
   "cell_type": "code",
   "execution_count": 11,
   "id": "36d168ab",
   "metadata": {},
   "outputs": [],
   "source": [
    "from zipfile import ZipFile\n",
    "expression_dir = 'data/expression/'\n",
    "raw_file = 'energy.raw'\n",
    "minc_file = 'energy.mnc'"
   ]
  },
  {
   "cell_type": "code",
   "execution_count": 12,
   "id": "5c0890ca",
   "metadata": {},
   "outputs": [],
   "source": [
    "with ZipFile(expression_dir+'temp.zip', 'r') as file:\n",
    "    file.extract(raw_file, path = expression_dir)"
   ]
  },
  {
   "cell_type": "code",
   "execution_count": 13,
   "id": "9aae7b6b",
   "metadata": {},
   "outputs": [
    {
     "data": {
      "text/plain": [
       "'cat data/expression/energy.raw | rawtominc data/expression/energy.mnc -signed -float -ounsigned -oshort -xstep 0.2 -ystep 0.2 -zstep 0.2 -clobber 58 41 67'"
      ]
     },
     "execution_count": 13,
     "metadata": {},
     "output_type": "execute_result"
    }
   ],
   "source": [
    "cmd = 'cat {} | rawtominc {} -signed -float -ounsigned -oshort -xstep 0.2 -ystep 0.2 -zstep 0.2 -clobber 58 41 67'.format(expression_dir+raw_file,expression_dir+minc_file)\n",
    "cmd"
   ]
  },
  {
   "cell_type": "code",
   "execution_count": 14,
   "id": "3a6b91eb",
   "metadata": {},
   "outputs": [
    {
     "data": {
      "text/plain": [
       "0"
      ]
     },
     "execution_count": 14,
     "metadata": {},
     "output_type": "execute_result"
    }
   ],
   "source": [
    "os.system(cmd)"
   ]
  },
  {
   "cell_type": "code",
   "execution_count": 25,
   "id": "c1a74ac9",
   "metadata": {},
   "outputs": [],
   "source": [
    "import numpy as np\n",
    "from pyminc.volumes.factory import *"
   ]
  },
  {
   "cell_type": "code",
   "execution_count": 26,
   "id": "2e63837e",
   "metadata": {},
   "outputs": [],
   "source": [
    "infile = expression_dir+minc_file\n",
    "vol = volumeFromFile(infile)"
   ]
  },
  {
   "cell_type": "code",
   "execution_count": 27,
   "id": "557945be",
   "metadata": {},
   "outputs": [],
   "source": [
    "size_10 = 1320*800*1140\n",
    "size_25 = 528*320*456\n",
    "size_50 = 264*160*228\n",
    "size_100 = 132*80*114\n",
    "size_200 = 58*41*67\n",
    "map_resolutions = {size_10: 10,\n",
    "                   size_25: 25,\n",
    "                   size_50: 50,\n",
    "                   size_100: 100,\n",
    "                   size_200: 200}"
   ]
  },
  {
   "cell_type": "code",
   "execution_count": 28,
   "id": "5d1bc591",
   "metadata": {},
   "outputs": [],
   "source": [
    "res = map_resolutions[vol.data.size]"
   ]
  },
  {
   "cell_type": "code",
   "execution_count": 29,
   "id": "70078c26",
   "metadata": {},
   "outputs": [],
   "source": [
    "def reorient_to_standard(dat):\n",
    "    dat = np.rot90(dat, k=1, axes=(0, 2))\n",
    "    dat = np.rot90(dat, k=1, axes=(0, 1))\n",
    "\n",
    "    shape = dat.shape\n",
    "    dat = np.ravel(dat)\n",
    "    dat = np.reshape(dat, shape)\n",
    "\n",
    "    return(dat)\n",
    "\n",
    "def do_nothing(dat):\n",
    "    return(dat)"
   ]
  },
  {
   "cell_type": "code",
   "execution_count": 30,
   "id": "433c5822",
   "metadata": {},
   "outputs": [],
   "source": [
    "# Map arguments to functions/dicts/values\n",
    "map_voxel_orientations = {\"RAS\" :   reorient_to_standard,\n",
    "                          \"PIR\":    do_nothing}\n",
    "\n",
    "voxel_orientation = 'RAS'\n",
    "\n",
    "# Voxel orientation\n",
    "if voxel_orientation in map_voxel_orientations:\n",
    "    new_data = map_voxel_orientations[voxel_orientation](vol.data)\n",
    "else:\n",
    "    print(\"Invalid voxel orientation\")\n",
    "    sys.exit(1)"
   ]
  },
  {
   "cell_type": "code",
   "execution_count": 31,
   "id": "137f680f",
   "metadata": {},
   "outputs": [],
   "source": [
    "# %% Coordinate definitions\n",
    "\n",
    "# Centers are listed as x,y,z; reverse these when writing out\n",
    "# Centers listed in um in CCFv3 coordinates\n",
    "centers_RAS = {\"MICe\"   :   [5700, 7900, 2700],\n",
    "               \"CCFv3\"  :   [0, 13200, 8000]}\n",
    "centers_PIR = {\"MICe\"   :   [5300, 5300, 5700],\n",
    "               \"CCFv3\"  :   [0, 0, 0]}\n",
    "\n",
    "# Direction cosines\n",
    "direction_cosines_RAS = {\"MICe\"     :   [[1, 0, 0], [0, 1, 0], [0, 0, 1]],\n",
    "                         \"CCFv3\"    :   [[0, 0, 1], [-1, 0, 0], [0, -1, 0]]}\n",
    "    \n",
    "direction_cosines_PIR = {\"MICe\"     :   [[0, -1, 0], [0, 0, -1], [1, 0, 0]],\n",
    "                         \"CCFv3\"    :   [[1, 0, 0], [0, 1, 0], [0, 0, 1]]}\n",
    "\n",
    "# Map arguments to functions/dicts/values\n",
    "map_voxel_orientations = {\"RAS\" :   reorient_to_standard,\n",
    "                          \"PIR\":    do_nothing}\n",
    "\n",
    "map_centers = {\"RAS\"    :   centers_RAS,\n",
    "               \"PIR\"    :   centers_PIR}\n",
    "\n",
    "map_dir_cosines = {\"RAS\"    :   direction_cosines_RAS,\n",
    "                   \"PIR\"    :   direction_cosines_PIR}"
   ]
  },
  {
   "cell_type": "code",
   "execution_count": 32,
   "id": "1b5e0a9d",
   "metadata": {},
   "outputs": [],
   "source": [
    "expansion_factor = 1.0\n",
    "world_space = \"MICe\"\n",
    "\n",
    "# World coordinate system\n",
    "centers = [expansion_factor*c/(1000)\n",
    "           for c in map_centers[voxel_orientation][world_space]]\n",
    "steps = [expansion_factor*res/1000] * 3\n",
    "xdc = map_dir_cosines[voxel_orientation][world_space][0]\n",
    "ydc = map_dir_cosines[voxel_orientation][world_space][1]\n",
    "zdc = map_dir_cosines[voxel_orientation][world_space][2]"
   ]
  },
  {
   "cell_type": "code",
   "execution_count": 34,
   "id": "4e0d8f8b",
   "metadata": {},
   "outputs": [],
   "source": [
    "volume_type = None\n",
    "data_type = None\n",
    "labels = False\n",
    "\n",
    "# Types\n",
    "vtype = vol.volumeType if volume_type is None else volume_type\n",
    "dtype = vol.dtype if data_type is None else data_type\n",
    "labels = vol.labels if labels is None else labels"
   ]
  },
  {
   "cell_type": "code",
   "execution_count": 62,
   "id": "ad3e49d5",
   "metadata": {},
   "outputs": [
    {
     "data": {
      "text/plain": [
       "True"
      ]
     },
     "execution_count": 62,
     "metadata": {},
     "output_type": "execute_result"
    }
   ],
   "source": [
    "outfile = 'data/expression/test.mnc'\n",
    "\n",
    "def is_minc(infile):\n",
    "    if os.path.splitext(infile)[1] == \".mnc\":\n",
    "        return(True)\n",
    "    else:\n",
    "        return(False)\n",
    "\n",
    "is_minc(outfile)"
   ]
  },
  {
   "cell_type": "code",
   "execution_count": 63,
   "id": "19299900",
   "metadata": {},
   "outputs": [
    {
     "data": {
      "text/plain": [
       "'data/expression/test.mnc'"
      ]
     },
     "execution_count": 63,
     "metadata": {},
     "output_type": "execute_result"
    }
   ],
   "source": [
    "outfile"
   ]
  },
  {
   "cell_type": "code",
   "execution_count": 64,
   "id": "a3458f55",
   "metadata": {},
   "outputs": [],
   "source": [
    "outvol = volumeFromDescription(outputFilename=outfile,\n",
    "                               dimnames=[\"zspace\", \"yspace\", \"xspace\"],\n",
    "                               sizes=new_data.shape,\n",
    "                               starts=[-c for c in reversed(centers)],\n",
    "                               steps=[s for s in reversed(steps)],\n",
    "                               x_dir_cosines=xdc,\n",
    "                               y_dir_cosines=ydc,\n",
    "                               z_dir_cosines=zdc,\n",
    "                               volumeType=vtype,\n",
    "                               dtype=dtype,\n",
    "                               labels=labels)\n",
    "\n",
    "outvol.data = new_data\n",
    "outvol.writeFile()\n",
    "outvol.closeVolume()"
   ]
  },
  {
   "cell_type": "code",
   "execution_count": 74,
   "id": "de6f6c0b",
   "metadata": {},
   "outputs": [],
   "source": [
    "dfTemp = pd.read_csv(\"/projects/yyee/tools/Allen_brain/data/gene_data.csv\")"
   ]
  },
  {
   "cell_type": "code",
   "execution_count": 76,
   "id": "71e9d881",
   "metadata": {},
   "outputs": [
    {
     "data": {
      "text/plain": [
       "(28848, 39)"
      ]
     },
     "execution_count": 76,
     "metadata": {},
     "output_type": "execute_result"
    }
   ],
   "source": [
    "dfTemp.shape"
   ]
  },
  {
   "cell_type": "code",
   "execution_count": 84,
   "id": "7a302ed9",
   "metadata": {},
   "outputs": [
    {
     "data": {
      "text/html": [
       "<div>\n",
       "<style scoped>\n",
       "    .dataframe tbody tr th:only-of-type {\n",
       "        vertical-align: middle;\n",
       "    }\n",
       "\n",
       "    .dataframe tbody tr th {\n",
       "        vertical-align: top;\n",
       "    }\n",
       "\n",
       "    .dataframe thead th {\n",
       "        text-align: right;\n",
       "    }\n",
       "</style>\n",
       "<table border=\"1\" class=\"dataframe\">\n",
       "  <thead>\n",
       "    <tr style=\"text-align: right;\">\n",
       "      <th></th>\n",
       "      <th>success</th>\n",
       "      <th>id</th>\n",
       "      <th>start_row</th>\n",
       "      <th>num_rows</th>\n",
       "      <th>total_rows</th>\n",
       "      <th>msg.blue_channel</th>\n",
       "      <th>msg.delegate</th>\n",
       "      <th>msg.expression</th>\n",
       "      <th>msg.failed</th>\n",
       "      <th>msg.failed_facet</th>\n",
       "      <th>...</th>\n",
       "      <th>msg.genes.homologene_id</th>\n",
       "      <th>msg.genes.id</th>\n",
       "      <th>msg.genes.legacy_ensembl_gene_id</th>\n",
       "      <th>msg.genes.name</th>\n",
       "      <th>msg.genes.organism_id</th>\n",
       "      <th>msg.genes.original_name</th>\n",
       "      <th>msg.genes.original_symbol</th>\n",
       "      <th>msg.genes.reference_genome_id</th>\n",
       "      <th>msg.genes.sphinx_id</th>\n",
       "      <th>msg.genes.version_status</th>\n",
       "    </tr>\n",
       "  </thead>\n",
       "  <tbody>\n",
       "    <tr>\n",
       "      <th>17633</th>\n",
       "      <td>True</td>\n",
       "      <td>0</td>\n",
       "      <td>0</td>\n",
       "      <td>28848</td>\n",
       "      <td>28850</td>\n",
       "      <td>NaN</td>\n",
       "      <td>False</td>\n",
       "      <td>False</td>\n",
       "      <td>False</td>\n",
       "      <td>734881840</td>\n",
       "      <td>...</td>\n",
       "      <td>7297.0</td>\n",
       "      <td>13369</td>\n",
       "      <td>NaN</td>\n",
       "      <td>early B cell factor 1</td>\n",
       "      <td>2</td>\n",
       "      <td>early B cell factor 1</td>\n",
       "      <td>Ebf1</td>\n",
       "      <td>NaN</td>\n",
       "      <td>98953</td>\n",
       "      <td>no change</td>\n",
       "    </tr>\n",
       "  </tbody>\n",
       "</table>\n",
       "<p>1 rows × 39 columns</p>\n",
       "</div>"
      ],
      "text/plain": [
       "       success  id  start_row  num_rows  total_rows  msg.blue_channel  \\\n",
       "17633     True   0          0     28848       28850               NaN   \n",
       "\n",
       "       msg.delegate  msg.expression  msg.failed  msg.failed_facet  ...  \\\n",
       "17633         False           False       False         734881840  ...   \n",
       "\n",
       "       msg.genes.homologene_id  msg.genes.id  \\\n",
       "17633                   7297.0         13369   \n",
       "\n",
       "       msg.genes.legacy_ensembl_gene_id         msg.genes.name  \\\n",
       "17633                               NaN  early B cell factor 1   \n",
       "\n",
       "      msg.genes.organism_id  msg.genes.original_name  \\\n",
       "17633                     2    early B cell factor 1   \n",
       "\n",
       "       msg.genes.original_symbol  msg.genes.reference_genome_id  \\\n",
       "17633                       Ebf1                            NaN   \n",
       "\n",
       "       msg.genes.sphinx_id  msg.genes.version_status  \n",
       "17633                98953                 no change  \n",
       "\n",
       "[1 rows x 39 columns]"
      ]
     },
     "execution_count": 84,
     "metadata": {},
     "output_type": "execute_result"
    }
   ],
   "source": [
    "dfTemp.loc[dfTemp['msg.id'] == 375]"
   ]
  },
  {
   "cell_type": "code",
   "execution_count": null,
   "id": "b7a3e9ff",
   "metadata": {},
   "outputs": [],
   "source": []
  }
 ],
 "metadata": {
  "kernelspec": {
   "display_name": "Python 3 (ipykernel)",
   "language": "python",
   "name": "python3"
  },
  "language_info": {
   "codemirror_mode": {
    "name": "ipython",
    "version": 3
   },
   "file_extension": ".py",
   "mimetype": "text/x-python",
   "name": "python",
   "nbconvert_exporter": "python",
   "pygments_lexer": "ipython3",
   "version": "3.8.10"
  }
 },
 "nbformat": 4,
 "nbformat_minor": 5
}
