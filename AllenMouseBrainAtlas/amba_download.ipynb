{
 "cells": [
  {
   "cell_type": "markdown",
   "id": "923c3057",
   "metadata": {},
   "source": [
    "Allen Institute resources for API access:\n",
    "- http://help.brain-map.org/display/api/Allen+Brain+Atlas+API\n",
    "- http://help.brain-map.org/display/api/Downloading+3-D+Expression+Grid+Data\n",
    "- http://help.brain-map.org/display/api/Example+Queries+for+Experiment+Metadata\n",
    "- http://help.brain-map.org/pages/viewpage.action?pageId=5308449\n",
    "\n",
    "XML parsing:\n",
    "- https://www.datacamp.com/community/tutorials/python-xml-elementtree\n",
    "- https://www.kite.com/python/answers/how-to-download-a-csv-file-from-a-url-in-python\n",
    "\n",
    "Python parallel processing:\n",
    "- https://www.machinelearningplus.com/python/parallel-processing-python\n"
   ]
  },
  {
   "cell_type": "code",
   "execution_count": 133,
   "id": "7dd8a761",
   "metadata": {},
   "outputs": [],
   "source": [
    "import os\n",
    "import argparse\n",
    "import numpy as np\n",
    "import pandas as pd\n",
    "import requests\n",
    "from pyminc.volumes.factory import *\n",
    "from zipfile import ZipFile\n",
    "from multiprocessing import Pool\n",
    "from functools import partial"
   ]
  },
  {
   "cell_type": "code",
   "execution_count": 134,
   "id": "4f537f84",
   "metadata": {},
   "outputs": [],
   "source": [
    "def fetch_metadata(dataset = 'coronal', outdir='./', outfile = 'AMBA_metadata.csv'):\n",
    "\n",
    "    \"\"\" \"\"\"        \n",
    "\n",
    "    abi_query_metadata = \"http://api.brain-map.org/api/v2/data/SectionDataSet/query.csv?\"+\\\n",
    "\"criteria=[failed$eqfalse],plane_of_section[name$eq{}],products[abbreviation$eqMouse],treatments[name$eqISH],genes&\".format(dataset)+\\\n",
    "\"tabular=data_sets.id+as+experiment_id,data_sets.section_thickness,data_sets.specimen_id,\"+\\\n",
    "\"plane_of_sections.name+as+plane,\"+\\\n",
    "\"genes.acronym+as+gene,genes.name+as+gene_name,genes.chromosome_id,genes.entrez_id,genes.genomic_reference_update_id,genes.homologene_id,genes.organism_id&\"+\\\n",
    "\"start_row=0&num_rows=all\"\n",
    "\n",
    "    pd.read_csv(abi_query_metadata).to_csv(outdir+outfile, index=False)\n",
    "\n",
    "    print('Metadata downloaded at: {}'.format(outdir+outfile))\n",
    "    \n",
    "    return "
   ]
  },
  {
   "cell_type": "code",
   "execution_count": 135,
   "id": "e6dd5247",
   "metadata": {},
   "outputs": [],
   "source": [
    "def fetch_expression(experiment_id, outdir = './tmp/'):\n",
    "\n",
    "    \"\"\" \"\"\"\n",
    "    \n",
    "    if not os.path.exists(outdir):\n",
    "        os.mkdir(outdir)\n",
    "\n",
    "    tmpdir = outdir+str(experiment_id)+'/' \n",
    "    os.mkdir(tmpdir)\n",
    "        \n",
    "    abi_query_expr = 'http://api.brain-map.org/grid_data/download/{}'.format(experiment_id)\n",
    "    amba_request = requests.get(abi_query_expr)\n",
    "\n",
    "    tmpfile = tmpdir+str(experiment_id)+'.zip'\n",
    "    with open(tmpfile, 'wb') as file:\n",
    "        file.write(amba_request.content)\n",
    "\n",
    "    outfile = outdir+str(experiment_id)+'.raw'\n",
    "    with ZipFile(tmpfile, 'r') as file:\n",
    "        try:\n",
    "            file.extract('energy.raw', path = tmpdir)\n",
    "            os.rename(tmpdir+'energy.raw', outfile)\n",
    "            success = 1\n",
    "        except KeyError as err:\n",
    "            print('Error for experiment {}: {}'.format(experiment_id, err))\n",
    "            success = 0\n",
    "            \n",
    "    os.remove(tmpfile)\n",
    "    os.rmdir(tmpdir)\n",
    " \n",
    "    return outfile, success"
   ]
  },
  {
   "cell_type": "code",
   "execution_count": 136,
   "id": "d74e5364",
   "metadata": {},
   "outputs": [],
   "source": [
    "def rawtominc_wrapper(infile, outfile = None, keep_raw = False):\n",
    "    \n",
    "    \"\"\" \"\"\"\n",
    "    \n",
    "    if outfile is None:\n",
    "        outfile = infile.replace('.raw', '.mnc')\n",
    "    \n",
    "    try: \n",
    "        rawtominc = 'cat {} | rawtominc {} -signed -float -ounsigned -oshort -xstep 0.2 -ystep 0.2 -zstep 0.2 -clobber 58 41 67'.format(infile, outfile)\n",
    "        success = 1\n",
    "    except: \n",
    "        success = 0\n",
    "    \n",
    "    os.system(rawtominc)\n",
    "    \n",
    "    if keep_raw is not True:\n",
    "        os.remove(infile)\n",
    "        \n",
    "    return outfile, success"
   ]
  },
  {
   "cell_type": "code",
   "execution_count": 137,
   "id": "9bb428d5",
   "metadata": {},
   "outputs": [],
   "source": [
    "def transform_space(infile, outfile = None, voxel_orientation = 'RAS', world_space = 'MICe', expansion_factor = 1.0, volume_type = None, data_type = None, labels = False):\n",
    "\n",
    "    def reorient_to_standard(dat):\n",
    "        dat = np.rot90(dat, k=1, axes=(0, 2))\n",
    "        dat = np.rot90(dat, k=1, axes=(0, 1))\n",
    "\n",
    "        shape = dat.shape\n",
    "        dat = np.ravel(dat)\n",
    "        dat = np.reshape(dat, shape)\n",
    "\n",
    "        return(dat)\n",
    "\n",
    "    def do_nothing(dat):\n",
    "        return(dat)\n",
    "\n",
    "    # %% Coordinate definitions\n",
    "\n",
    "    # Centers are listed as x,y,z; reverse these when writing out\n",
    "    # Centers listed in um in CCFv3 coordinates\n",
    "    centers_RAS = {\"MICe\"   :   [5700, 7900, 2700],\n",
    "                   \"CCFv3\"  :   [0, 13200, 8000]}\n",
    "    centers_PIR = {\"MICe\"   :   [5300, 5300, 5700],\n",
    "                   \"CCFv3\"  :   [0, 0, 0]}\n",
    "\n",
    "    # Direction cosines\n",
    "    direction_cosines_RAS = {\"MICe\"     :   [[1, 0, 0], [0, 1, 0], [0, 0, 1]],\n",
    "                             \"CCFv3\"    :   [[0, 0, 1], [-1, 0, 0], [0, -1, 0]]}\n",
    "\n",
    "    direction_cosines_PIR = {\"MICe\"     :   [[0, -1, 0], [0, 0, -1], [1, 0, 0]],\n",
    "                             \"CCFv3\"    :   [[1, 0, 0], [0, 1, 0], [0, 0, 1]]}\n",
    "\n",
    "    # Map arguments to functions/dicts/values\n",
    "    map_voxel_orientations = {\"RAS\" :   reorient_to_standard,\n",
    "                              \"PIR\":    do_nothing}\n",
    "\n",
    "    map_centers = {\"RAS\"    :   centers_RAS,\n",
    "                   \"PIR\"    :   centers_PIR}\n",
    "\n",
    "    map_dir_cosines = {\"RAS\"    :   direction_cosines_RAS,\n",
    "                       \"PIR\"    :   direction_cosines_PIR}\n",
    "\n",
    "    size_10 = 1320*800*1140\n",
    "    size_25 = 528*320*456\n",
    "    size_50 = 264*160*228\n",
    "    size_100 = 132*80*114\n",
    "    size_200 = 58*41*67\n",
    "\n",
    "    map_resolutions = {size_10: 10,\n",
    "                       size_25: 25,\n",
    "                       size_50: 50,\n",
    "                       size_100: 100,\n",
    "                       size_200: 200}\n",
    "    \n",
    "    vol = volumeFromFile(infile)\n",
    "\n",
    "    res = map_resolutions[vol.data.size]\n",
    "\n",
    "    # Voxel orientation\n",
    "    if voxel_orientation in map_voxel_orientations:\n",
    "        new_data = map_voxel_orientations[voxel_orientation](vol.data)\n",
    "    else:\n",
    "        print(\"Invalid voxel orientation\")\n",
    "        sys.exit(1)\n",
    "\n",
    "    # World coordinate system\n",
    "    centers = [expansion_factor*c/(1000) \n",
    "               for c in map_centers[voxel_orientation][world_space]]\n",
    "    steps = [expansion_factor*res/1000] * 3\n",
    "    xdc = map_dir_cosines[voxel_orientation][world_space][0]\n",
    "    ydc = map_dir_cosines[voxel_orientation][world_space][1]\n",
    "    zdc = map_dir_cosines[voxel_orientation][world_space][2]\n",
    "\n",
    "    # Types\n",
    "    vtype = vol.volumeType if volume_type is None else volume_type\n",
    "    dtype = vol.dtype if data_type is None else data_type\n",
    "    labels = vol.labels if labels is None else labels\n",
    "    \n",
    "    if outfile is None:\n",
    "        outfile = infile\n",
    "        tmpfile = infile.replace('.mnc', '')+'_tmp.mnc'\n",
    "    else:\n",
    "        tmpfile = outfile\n",
    "\n",
    "    outvol = volumeFromDescription(outputFilename=tmpfile,\n",
    "                                   dimnames=[\"zspace\", \"yspace\", \"xspace\"],\n",
    "                                   sizes=new_data.shape,\n",
    "                                   starts=[-c for c in reversed(centers)],\n",
    "                                   steps=[s for s in reversed(steps)],\n",
    "                                   x_dir_cosines=xdc,\n",
    "                                   y_dir_cosines=ydc,\n",
    "                                   z_dir_cosines=zdc,\n",
    "                                   volumeType=vtype,\n",
    "                                   dtype=dtype,\n",
    "                                   labels=labels)\n",
    "\n",
    "    outvol.data = new_data\n",
    "    outvol.writeFile()\n",
    "    outvol.closeVolume()\n",
    "    \n",
    "    if outfile == infile:\n",
    "        os.rename(tmpfile, infile)\n",
    "        \n",
    "    return outfile"
   ]
  },
  {
   "cell_type": "code",
   "execution_count": 138,
   "id": "09f45621",
   "metadata": {},
   "outputs": [],
   "source": [
    "dataset = 'coronal'\n",
    "datadir = 'data/expression/'\n",
    "metadata = 'AMBA_metadata.csv'\n",
    "\n",
    "if os.path.isfile(datadir+metadata) == False:\n",
    "    print('AMBA metadata file {} not found in {}. Fetching from API.'.format(metadata,datadir))\n",
    "    fetch_metadata(dataset = dataset,\n",
    "                   outdir = datadir,\n",
    "                   outfile = metadata)\n",
    "\n",
    "dfMetadata = pd.read_csv(datadir+metadata, index_col=None)\n",
    "\n",
    "experiment_ids = [dfMetadata.loc[i, 'experiment_id'] for i in range(0, dfMetadata.shape[0])]\n",
    "genes = [dfMetadata.loc[i, 'gene'] for i in range(0, dfMetadata.shape[0])]\n",
    "\n",
    "outdir = datadir+dataset+'/'"
   ]
  },
  {
   "cell_type": "code",
   "execution_count": 146,
   "id": "33ee2496",
   "metadata": {},
   "outputs": [],
   "source": [
    "def download_data(experiment_id, gene, outdir):\n",
    "    \n",
    "    rawfile, success = fetch_expression(experiment_id, outdir = outdir)\n",
    "\n",
    "    mincfile, success = rawtominc_wrapper(infile = rawfile)\n",
    "    \n",
    "    outfile = transform_space(infile = mincfile, voxel_orientation = 'RAS', world_space = 'MICe', expansion_factor = 1.0)\n",
    "    \n",
    "    os.rename(outfile, outdir+'{}_{}.mnc'.format(gene, experiment_id))"
   ]
  },
  {
   "cell_type": "code",
   "execution_count": 147,
   "id": "9b4db0a8",
   "metadata": {},
   "outputs": [],
   "source": [
    "experiment_id = experiment_ids[0]\n",
    "gene = genes[0]\n",
    "\n",
    "rawfile, success = fetch_expression(experiment_id, outdir = outdir)\n",
    "\n",
    "mincfile, success = rawtominc_wrapper(infile = rawfile)\n",
    "\n",
    "outfile = transform_space(infile = mincfile, voxel_orientation = 'RAS', world_space = 'MICe', expansion_factor = 1.0)"
   ]
  },
  {
   "cell_type": "code",
   "execution_count": 151,
   "id": "b67568ad",
   "metadata": {},
   "outputs": [
    {
     "data": {
      "text/plain": [
       "[None, None, None, None, None]"
      ]
     },
     "execution_count": 151,
     "metadata": {},
     "output_type": "execute_result"
    }
   ],
   "source": [
    "from itertools import starmap\n",
    "\n",
    "download_data_partial = partial(download_data, outdir = outdir)\n",
    "list(starmap(download_data_partial, zip(experiment_ids[:5], genes[:5])))"
   ]
  },
  {
   "cell_type": "code",
   "execution_count": 152,
   "id": "8ab954e5",
   "metadata": {},
   "outputs": [],
   "source": [
    "templist = [(dfMetadata.loc[i, 'experiment_id'], dfMetadata.loc[i, 'gene']) for i in range(0, dfMetadata.shape[0])]"
   ]
  },
  {
   "cell_type": "code",
   "execution_count": 155,
   "id": "a7f3194a",
   "metadata": {},
   "outputs": [
    {
     "data": {
      "text/plain": [
       "[None, None, None, None, None]"
      ]
     },
     "execution_count": 155,
     "metadata": {},
     "output_type": "execute_result"
    }
   ],
   "source": [
    "list(starmap(download_data_partial, templist[:5]))"
   ]
  },
  {
   "cell_type": "code",
   "execution_count": 156,
   "id": "94c01e3a",
   "metadata": {},
   "outputs": [],
   "source": [
    "nproc = 4\n",
    "pool = Pool(nproc)\n",
    "results = pool.starmap(download_data_partial, templist[:50])\n",
    "pool.close()\n",
    "pool.join()"
   ]
  },
  {
   "cell_type": "code",
   "execution_count": 157,
   "id": "3d7818e4",
   "metadata": {},
   "outputs": [
    {
     "data": {
      "text/plain": [
       "[None,\n",
       " None,\n",
       " None,\n",
       " None,\n",
       " None,\n",
       " None,\n",
       " None,\n",
       " None,\n",
       " None,\n",
       " None,\n",
       " None,\n",
       " None,\n",
       " None,\n",
       " None,\n",
       " None,\n",
       " None,\n",
       " None,\n",
       " None,\n",
       " None,\n",
       " None,\n",
       " None,\n",
       " None,\n",
       " None,\n",
       " None,\n",
       " None,\n",
       " None,\n",
       " None,\n",
       " None,\n",
       " None,\n",
       " None,\n",
       " None,\n",
       " None,\n",
       " None,\n",
       " None,\n",
       " None,\n",
       " None,\n",
       " None,\n",
       " None,\n",
       " None,\n",
       " None,\n",
       " None,\n",
       " None,\n",
       " None,\n",
       " None,\n",
       " None,\n",
       " None,\n",
       " None,\n",
       " None,\n",
       " None,\n",
       " None]"
      ]
     },
     "execution_count": 157,
     "metadata": {},
     "output_type": "execute_result"
    }
   ],
   "source": [
    "results"
   ]
  },
  {
   "cell_type": "code",
   "execution_count": 1,
   "id": "ac13ad8f",
   "metadata": {},
   "outputs": [
    {
     "data": {
      "text/plain": [
       "16"
      ]
     },
     "execution_count": 1,
     "metadata": {},
     "output_type": "execute_result"
    }
   ],
   "source": [
    "import multiprocessing as mp\n",
    "mp.cpu_count()"
   ]
  },
  {
   "cell_type": "code",
   "execution_count": 7,
   "id": "1526a67e",
   "metadata": {},
   "outputs": [
    {
     "data": {
      "text/plain": [
       "False"
      ]
     },
     "execution_count": 7,
     "metadata": {},
     "output_type": "execute_result"
    }
   ],
   "source": [
    "temp = 'false'\n",
    "parallel = True if temp == 'true' else False\n",
    "parallel"
   ]
  },
  {
   "cell_type": "code",
   "execution_count": null,
   "id": "6cc163db",
   "metadata": {},
   "outputs": [],
   "source": []
  }
 ],
 "metadata": {
  "kernelspec": {
   "display_name": "Python 3 (ipykernel)",
   "language": "python",
   "name": "python3"
  },
  "language_info": {
   "codemirror_mode": {
    "name": "ipython",
    "version": 3
   },
   "file_extension": ".py",
   "mimetype": "text/x-python",
   "name": "python",
   "nbconvert_exporter": "python",
   "pygments_lexer": "ipython3",
   "version": "3.8.10"
  }
 },
 "nbformat": 4,
 "nbformat_minor": 5
}
