{
 "cells": [
  {
   "cell_type": "markdown",
   "id": "923c3057",
   "metadata": {},
   "source": [
    "Allen Institute resources for API access:\n",
    "- http://help.brain-map.org/display/api/Allen+Brain+Atlas+API\n",
    "- http://help.brain-map.org/display/api/Downloading+3-D+Expression+Grid+Data\n",
    "- http://help.brain-map.org/display/api/Example+Queries+for+Experiment+Metadata\n",
    "- http://help.brain-map.org/pages/viewpage.action?pageId=5308449\n",
    "\n",
    "XML parsing:\n",
    "- https://www.datacamp.com/community/tutorials/python-xml-elementtree\n",
    "- https://www.kite.com/python/answers/how-to-download-a-csv-file-from-a-url-in-python\n"
   ]
  },
  {
   "cell_type": "code",
   "execution_count": 3,
   "id": "7dd8a761",
   "metadata": {},
   "outputs": [],
   "source": [
    "import requests\n",
    "import xml.etree.ElementTree as ET\n",
    "import pandas as pd"
   ]
  },
  {
   "cell_type": "code",
   "execution_count": 2,
   "id": "ca8c2e28",
   "metadata": {},
   "outputs": [],
   "source": [
    "# url = \"http://api.brain-map.org/api/v2/data/query.csv?criteria=model::SectionDataSet,rma::criteria,[failed$eqfalse],products[abbreviation$eq'Mouse'],treatments[name$eq'ISH'],genes,plane_of_section,rma::options,[tabular$eq'plane_of_sections.name+as+plane','genes.acronym+as+gene','data_sets.id+as+section_data_set_id'],[order$eq'plane_of_sections.name,genes.acronym,data_sets.id']&num_rows=50&start_row=0\"\n",
    "url = \"http://api.brain-map.org/api/v2/data/query.xml?criteria=model::SectionDataSet,rma::criteria,[failed$eqfalse],products[abbreviation$eq'Mouse'],treatments[name$eq'ISH'],rma::include,genes,specimen(donor(age)),plane_of_section&num_rows=200&start_row=0\""
   ]
  },
  {
   "cell_type": "code",
   "execution_count": 3,
   "id": "32e2e602",
   "metadata": {},
   "outputs": [
    {
     "data": {
      "text/plain": [
       "'http://api.brain-map.org/api/v2/data/SectionDataSet/query.xml?criteria=[failed$eqfalse],plane_of_section[name$eqsagittal],products[abbreviation$eqMouse],treatments[name$eqISH]'"
      ]
     },
     "execution_count": 3,
     "metadata": {},
     "output_type": "execute_result"
    }
   ],
   "source": [
    "#This XML query gets the 4345 experiments in the coronal data set\n",
    "\"http://api.brain-map.org/api/v2/data/SectionDataSet/query.xml?criteria=[failed$eqfalse],plane_of_section[name$eqcoronal],products[abbreviation$eqMouse],treatments[name$eqISH]\"\n",
    "\n",
    "#This one gets the 21733 experiments in the sagittal data set\n",
    "\"http://api.brain-map.org/api/v2/data/SectionDataSet/query.xml?criteria=[failed$eqfalse],plane_of_section[name$eqsagittal],products[abbreviation$eqMouse],treatments[name$eqISH]\""
   ]
  },
  {
   "cell_type": "code",
   "execution_count": null,
   "id": "42279e88",
   "metadata": {},
   "outputs": [],
   "source": [
    "# abi_brainmap_base = \"http://api.brain-map.org/api/v2/data\"\n",
    "# abi_brainmap_model = \"/SectionDataSet\"\n",
    "# abi_brainmap_queryxml = \"/query.xml?\"\n",
    "# abi_brainmap_criteria = {}"
   ]
  },
  {
   "cell_type": "code",
   "execution_count": 13,
   "id": "5ab03180",
   "metadata": {},
   "outputs": [],
   "source": [
    "root = ET.fromstring(r.content)"
   ]
  },
  {
   "cell_type": "code",
   "execution_count": 10,
   "id": "d926b4aa",
   "metadata": {},
   "outputs": [
    {
     "data": {
      "text/plain": [
       "'Response'"
      ]
     },
     "execution_count": 10,
     "metadata": {},
     "output_type": "execute_result"
    }
   ],
   "source": [
    "root.tag"
   ]
  },
  {
   "cell_type": "code",
   "execution_count": 14,
   "id": "73415f0f",
   "metadata": {},
   "outputs": [
    {
     "data": {
      "text/plain": [
       "{'success': 'true', 'start_row': '0', 'num_rows': '1', 'total_rows': '4345'}"
      ]
     },
     "execution_count": 14,
     "metadata": {},
     "output_type": "execute_result"
    }
   ],
   "source": [
    "root.attrib"
   ]
  },
  {
   "cell_type": "code",
   "execution_count": 15,
   "id": "5aacd78c",
   "metadata": {},
   "outputs": [],
   "source": [
    "abi_brainmap_query_init = \"http://api.brain-map.org/api/v2/data/SectionDataSet/query.xml?criteria=[failed$eqfalse],plane_of_section[name$eqcoronal],products[abbreviation$eqMouse],treatments[name$eqISH]&start_row=0&num_rows=1\"\n",
    "\n",
    "r = requests.get(abi_brainmap_query_init)\n",
    "\n",
    "root = ET.fromstring(r.content)\n",
    "nfiles = int(root.attrib['total_rows'])"
   ]
  },
  {
   "cell_type": "code",
   "execution_count": 18,
   "id": "a0e89938",
   "metadata": {},
   "outputs": [],
   "source": [
    "url = \"http://api.brain-map.org/api/v2/data/SectionDataSet/query.csv?criteria=[failed$eqfalse],products[abbreviation$eqMouse],treatments[name$eqISH],plane_of_section[name$eqcoronal],genes&tabular=genes.acronym+as+gene,data_sets.id+as+ExperimentID,plane_of_sections.name+as+plane&start_row=4340&num_rows=10\"\n",
    "\n",
    "\n",
    "# %20rma::options,%20[tabular$eq%27plane_of_sections.name+as+plane%27,%27genes.acronym+as+gene%27,%27data_sets.id+as+section_data_set_id%27],%20[order$eq%27plane_of_sections.name,genes.acronym,data_sets.id%27]%20&num_rows=50&start_row=0\""
   ]
  },
  {
   "cell_type": "code",
   "execution_count": 4,
   "id": "280bb675",
   "metadata": {},
   "outputs": [],
   "source": [
    "import pandas as pd"
   ]
  },
  {
   "cell_type": "code",
   "execution_count": 19,
   "id": "12ada7d3",
   "metadata": {},
   "outputs": [
    {
     "data": {
      "text/html": [
       "<div>\n",
       "<style scoped>\n",
       "    .dataframe tbody tr th:only-of-type {\n",
       "        vertical-align: middle;\n",
       "    }\n",
       "\n",
       "    .dataframe tbody tr th {\n",
       "        vertical-align: top;\n",
       "    }\n",
       "\n",
       "    .dataframe thead th {\n",
       "        text-align: right;\n",
       "    }\n",
       "</style>\n",
       "<table border=\"1\" class=\"dataframe\">\n",
       "  <thead>\n",
       "    <tr style=\"text-align: right;\">\n",
       "      <th></th>\n",
       "      <th>gene</th>\n",
       "      <th>experimentid</th>\n",
       "      <th>plane</th>\n",
       "    </tr>\n",
       "  </thead>\n",
       "  <tbody>\n",
       "    <tr>\n",
       "      <th>0</th>\n",
       "      <td>Cyp26b1</td>\n",
       "      <td>72081548</td>\n",
       "      <td>coronal</td>\n",
       "    </tr>\n",
       "    <tr>\n",
       "      <th>1</th>\n",
       "      <td>Kcng4</td>\n",
       "      <td>72081560</td>\n",
       "      <td>coronal</td>\n",
       "    </tr>\n",
       "    <tr>\n",
       "      <th>2</th>\n",
       "      <td>Glra1</td>\n",
       "      <td>72108824</td>\n",
       "      <td>coronal</td>\n",
       "    </tr>\n",
       "    <tr>\n",
       "      <th>3</th>\n",
       "      <td>Ace</td>\n",
       "      <td>72109489</td>\n",
       "      <td>coronal</td>\n",
       "    </tr>\n",
       "    <tr>\n",
       "      <th>4</th>\n",
       "      <td>Rnf13</td>\n",
       "      <td>72109423</td>\n",
       "      <td>coronal</td>\n",
       "    </tr>\n",
       "  </tbody>\n",
       "</table>\n",
       "</div>"
      ],
      "text/plain": [
       "      gene  experimentid    plane\n",
       "0  Cyp26b1      72081548  coronal\n",
       "1    Kcng4      72081560  coronal\n",
       "2    Glra1      72108824  coronal\n",
       "3      Ace      72109489  coronal\n",
       "4    Rnf13      72109423  coronal"
      ]
     },
     "execution_count": 19,
     "metadata": {},
     "output_type": "execute_result"
    }
   ],
   "source": [
    "pd.read_csv(url)"
   ]
  },
  {
   "cell_type": "code",
   "execution_count": 27,
   "id": "4b57d364",
   "metadata": {},
   "outputs": [],
   "source": [
    "abi_query_base = \"http://api.brain-map.org/api/v2/data/SectionDataSet/query.csv?\"+\\\n",
    "\"criteria=[failed$eqfalse],products[abbreviation$eqMouse],treatments[name$eqISH],plane_of_section[name$eqcoronal],genes&\"+\\\n",
    "\"tabular=genes.acronym+as+gene,data_sets.id+as+ExperimentID,plane_of_sections.name+as+plane&\"\n",
    "\n",
    "# start_row=4340&num_rows=10\"\n",
    "\n",
    "num_rows = 100\n",
    "start_row = 0\n",
    "end_row = start_row + num_rows - 1\n",
    "flag = 1"
   ]
  },
  {
   "cell_type": "code",
   "execution_count": 28,
   "id": "976bd71b",
   "metadata": {},
   "outputs": [],
   "source": [
    "abi_query = abi_query_base+\"start_row={}&num_rows={}\".format(start_row, num_rows)"
   ]
  },
  {
   "cell_type": "code",
   "execution_count": 16,
   "id": "cbfd0e68",
   "metadata": {},
   "outputs": [
    {
     "data": {
      "text/plain": [
       "4345"
      ]
     },
     "execution_count": 16,
     "metadata": {},
     "output_type": "execute_result"
    }
   ],
   "source": [
    "nfiles = 5"
   ]
  },
  {
   "cell_type": "code",
   "execution_count": 17,
   "id": "5357f766",
   "metadata": {},
   "outputs": [
    {
     "data": {
      "text/plain": [
       "True"
      ]
     },
     "execution_count": 17,
     "metadata": {},
     "output_type": "execute_result"
    }
   ],
   "source": [
    "while flag == 1:\n",
    "    abi_query = abi_query_base+\"start_row={}&num_rows={}\".format(start_row, num_rows)\n",
    "    \n",
    "    "
   ]
  },
  {
   "cell_type": "code",
   "execution_count": 9,
   "id": "488eafe4",
   "metadata": {},
   "outputs": [
    {
     "data": {
      "text/plain": [
       "'http://api.brain-map.org/api/v2/data/SectionDataSet/query.csv?criteria=[failed$eqfalse],products[abbreviation$eqMouse],treatments[name$eqISH],plane_of_section[name$eqcoronal],genes&tabular=genes.acronym+as+gene,data_sets.id+as+ExperimentID,plane_of_sections.name+as+plane&start_row=0&num_rows=all'"
      ]
     },
     "execution_count": 9,
     "metadata": {},
     "output_type": "execute_result"
    }
   ],
   "source": [
    "abi_query_base = \"http://api.brain-map.org/api/v2/data/SectionDataSet/query.csv?\"+\\\n",
    "\"criteria=[failed$eqfalse],products[abbreviation$eqMouse],treatments[name$eqISH],plane_of_section[name$eqcoronal],genes&\"+\\\n",
    "\"tabular=genes.acronym+as+gene,data_sets.id+as+ExperimentID,plane_of_sections.name+as+plane&\"\n",
    "\n",
    "start_row = 0\n",
    "num_rows = 'all'\n",
    "abi_query = abi_query_base+\"start_row={}&num_rows={}\".format(start_row, num_rows)\n",
    "abi_query\n",
    "temp = pd.read_csv(abi_query)"
   ]
  },
  {
   "cell_type": "code",
   "execution_count": 45,
   "id": "1f6165ec",
   "metadata": {},
   "outputs": [],
   "source": [
    "temp_id = temp.loc[0, 'experimentid']"
   ]
  },
  {
   "cell_type": "code",
   "execution_count": 51,
   "id": "01b24c13",
   "metadata": {},
   "outputs": [
    {
     "data": {
      "text/plain": [
       "'http://api.brain-map.org/grid_data/download/112646890'"
      ]
     },
     "execution_count": 51,
     "metadata": {},
     "output_type": "execute_result"
    }
   ],
   "source": [
    "url = 'http://api.brain-map.org/grid_data/download/{}'.format(temp_id)\n",
    "url"
   ]
  },
  {
   "cell_type": "code",
   "execution_count": 52,
   "id": "af53e584",
   "metadata": {},
   "outputs": [],
   "source": [
    "r = requests.get(url)\n"
   ]
  },
  {
   "cell_type": "code",
   "execution_count": 54,
   "id": "5974a95b",
   "metadata": {},
   "outputs": [],
   "source": [
    "outfile = 'Data/Expression/temp.zip'\n",
    "with open(outfile, 'wb') as file:\n",
    "    file.write(r.content)"
   ]
  },
  {
   "cell_type": "code",
   "execution_count": 5,
   "id": "6db6cb06",
   "metadata": {},
   "outputs": [],
   "source": [
    "temp = pd.read_csv(\"/projects/yyee/tools/Allen_brain/data/gene_data.csv\")"
   ]
  },
  {
   "cell_type": "code",
   "execution_count": 6,
   "id": "dc71e02b",
   "metadata": {},
   "outputs": [
    {
     "data": {
      "text/html": [
       "<div>\n",
       "<style scoped>\n",
       "    .dataframe tbody tr th:only-of-type {\n",
       "        vertical-align: middle;\n",
       "    }\n",
       "\n",
       "    .dataframe tbody tr th {\n",
       "        vertical-align: top;\n",
       "    }\n",
       "\n",
       "    .dataframe thead th {\n",
       "        text-align: right;\n",
       "    }\n",
       "</style>\n",
       "<table border=\"1\" class=\"dataframe\">\n",
       "  <thead>\n",
       "    <tr style=\"text-align: right;\">\n",
       "      <th></th>\n",
       "      <th>success</th>\n",
       "      <th>id</th>\n",
       "      <th>start_row</th>\n",
       "      <th>num_rows</th>\n",
       "      <th>total_rows</th>\n",
       "      <th>msg.blue_channel</th>\n",
       "      <th>msg.delegate</th>\n",
       "      <th>msg.expression</th>\n",
       "      <th>msg.failed</th>\n",
       "      <th>msg.failed_facet</th>\n",
       "      <th>...</th>\n",
       "      <th>msg.genes.homologene_id</th>\n",
       "      <th>msg.genes.id</th>\n",
       "      <th>msg.genes.legacy_ensembl_gene_id</th>\n",
       "      <th>msg.genes.name</th>\n",
       "      <th>msg.genes.organism_id</th>\n",
       "      <th>msg.genes.original_name</th>\n",
       "      <th>msg.genes.original_symbol</th>\n",
       "      <th>msg.genes.reference_genome_id</th>\n",
       "      <th>msg.genes.sphinx_id</th>\n",
       "      <th>msg.genes.version_status</th>\n",
       "    </tr>\n",
       "  </thead>\n",
       "  <tbody>\n",
       "    <tr>\n",
       "      <th>0</th>\n",
       "      <td>True</td>\n",
       "      <td>0</td>\n",
       "      <td>0</td>\n",
       "      <td>28848</td>\n",
       "      <td>28850</td>\n",
       "      <td>NaN</td>\n",
       "      <td>False</td>\n",
       "      <td>True</td>\n",
       "      <td>False</td>\n",
       "      <td>734881840</td>\n",
       "      <td>...</td>\n",
       "      <td>12986.0</td>\n",
       "      <td>88552</td>\n",
       "      <td>NaN</td>\n",
       "      <td>SLIT and NTRK-like family, member 6</td>\n",
       "      <td>2</td>\n",
       "      <td>SLIT and NTRK-like family, member 6</td>\n",
       "      <td>Slitrk6</td>\n",
       "      <td>NaN</td>\n",
       "      <td>100744</td>\n",
       "      <td>no change</td>\n",
       "    </tr>\n",
       "    <tr>\n",
       "      <th>1</th>\n",
       "      <td>True</td>\n",
       "      <td>0</td>\n",
       "      <td>0</td>\n",
       "      <td>28848</td>\n",
       "      <td>28850</td>\n",
       "      <td>NaN</td>\n",
       "      <td>False</td>\n",
       "      <td>True</td>\n",
       "      <td>False</td>\n",
       "      <td>734881840</td>\n",
       "      <td>...</td>\n",
       "      <td>NaN</td>\n",
       "      <td>130779</td>\n",
       "      <td>NaN</td>\n",
       "      <td>LOC434199</td>\n",
       "      <td>2</td>\n",
       "      <td>LOC434199</td>\n",
       "      <td>LOC434199</td>\n",
       "      <td>NaN</td>\n",
       "      <td>11669</td>\n",
       "      <td>deleted</td>\n",
       "    </tr>\n",
       "    <tr>\n",
       "      <th>2</th>\n",
       "      <td>True</td>\n",
       "      <td>0</td>\n",
       "      <td>0</td>\n",
       "      <td>28848</td>\n",
       "      <td>28850</td>\n",
       "      <td>NaN</td>\n",
       "      <td>False</td>\n",
       "      <td>True</td>\n",
       "      <td>False</td>\n",
       "      <td>734881840</td>\n",
       "      <td>...</td>\n",
       "      <td>1646.0</td>\n",
       "      <td>15970</td>\n",
       "      <td>NaN</td>\n",
       "      <td>interleukin 7 receptor</td>\n",
       "      <td>2</td>\n",
       "      <td>interleukin 7 receptor</td>\n",
       "      <td>Il7r</td>\n",
       "      <td>NaN</td>\n",
       "      <td>92339</td>\n",
       "      <td>no change</td>\n",
       "    </tr>\n",
       "    <tr>\n",
       "      <th>3</th>\n",
       "      <td>True</td>\n",
       "      <td>0</td>\n",
       "      <td>0</td>\n",
       "      <td>28848</td>\n",
       "      <td>28850</td>\n",
       "      <td>NaN</td>\n",
       "      <td>False</td>\n",
       "      <td>True</td>\n",
       "      <td>False</td>\n",
       "      <td>734881840</td>\n",
       "      <td>...</td>\n",
       "      <td>NaN</td>\n",
       "      <td>129772</td>\n",
       "      <td>NaN</td>\n",
       "      <td>hypothetical gene supported by AK082053</td>\n",
       "      <td>2</td>\n",
       "      <td>hypothetical gene supported by AK082053</td>\n",
       "      <td>LOC433187</td>\n",
       "      <td>NaN</td>\n",
       "      <td>160096</td>\n",
       "      <td>not current</td>\n",
       "    </tr>\n",
       "    <tr>\n",
       "      <th>4</th>\n",
       "      <td>True</td>\n",
       "      <td>0</td>\n",
       "      <td>0</td>\n",
       "      <td>28848</td>\n",
       "      <td>28850</td>\n",
       "      <td>NaN</td>\n",
       "      <td>False</td>\n",
       "      <td>True</td>\n",
       "      <td>False</td>\n",
       "      <td>734881840</td>\n",
       "      <td>...</td>\n",
       "      <td>8040.0</td>\n",
       "      <td>23765</td>\n",
       "      <td>NaN</td>\n",
       "      <td>ribonuclease L (2', 5'-oligoisoadenylate synth...</td>\n",
       "      <td>2</td>\n",
       "      <td>ribonuclease L (2', 5'-oligoisoadenylate synth...</td>\n",
       "      <td>Rnasel</td>\n",
       "      <td>NaN</td>\n",
       "      <td>343660</td>\n",
       "      <td>no change</td>\n",
       "    </tr>\n",
       "  </tbody>\n",
       "</table>\n",
       "<p>5 rows × 39 columns</p>\n",
       "</div>"
      ],
      "text/plain": [
       "   success  id  start_row  num_rows  total_rows  msg.blue_channel  \\\n",
       "0     True   0          0     28848       28850               NaN   \n",
       "1     True   0          0     28848       28850               NaN   \n",
       "2     True   0          0     28848       28850               NaN   \n",
       "3     True   0          0     28848       28850               NaN   \n",
       "4     True   0          0     28848       28850               NaN   \n",
       "\n",
       "   msg.delegate  msg.expression  msg.failed  msg.failed_facet  ...  \\\n",
       "0         False            True       False         734881840  ...   \n",
       "1         False            True       False         734881840  ...   \n",
       "2         False            True       False         734881840  ...   \n",
       "3         False            True       False         734881840  ...   \n",
       "4         False            True       False         734881840  ...   \n",
       "\n",
       "   msg.genes.homologene_id  msg.genes.id  msg.genes.legacy_ensembl_gene_id  \\\n",
       "0                  12986.0         88552                               NaN   \n",
       "1                      NaN        130779                               NaN   \n",
       "2                   1646.0         15970                               NaN   \n",
       "3                      NaN        129772                               NaN   \n",
       "4                   8040.0         23765                               NaN   \n",
       "\n",
       "                                      msg.genes.name msg.genes.organism_id  \\\n",
       "0                SLIT and NTRK-like family, member 6                     2   \n",
       "1                                          LOC434199                     2   \n",
       "2                             interleukin 7 receptor                     2   \n",
       "3            hypothetical gene supported by AK082053                     2   \n",
       "4  ribonuclease L (2', 5'-oligoisoadenylate synth...                     2   \n",
       "\n",
       "                             msg.genes.original_name  \\\n",
       "0                SLIT and NTRK-like family, member 6   \n",
       "1                                          LOC434199   \n",
       "2                             interleukin 7 receptor   \n",
       "3            hypothetical gene supported by AK082053   \n",
       "4  ribonuclease L (2', 5'-oligoisoadenylate synth...   \n",
       "\n",
       "   msg.genes.original_symbol  msg.genes.reference_genome_id  \\\n",
       "0                    Slitrk6                            NaN   \n",
       "1                  LOC434199                            NaN   \n",
       "2                       Il7r                            NaN   \n",
       "3                  LOC433187                            NaN   \n",
       "4                     Rnasel                            NaN   \n",
       "\n",
       "   msg.genes.sphinx_id  msg.genes.version_status  \n",
       "0               100744                 no change  \n",
       "1                11669                   deleted  \n",
       "2                92339                 no change  \n",
       "3               160096               not current  \n",
       "4               343660                 no change  \n",
       "\n",
       "[5 rows x 39 columns]"
      ]
     },
     "execution_count": 6,
     "metadata": {},
     "output_type": "execute_result"
    }
   ],
   "source": [
    "temp.head()"
   ]
  },
  {
   "cell_type": "code",
   "execution_count": 7,
   "id": "f5be65f1",
   "metadata": {},
   "outputs": [
    {
     "data": {
      "text/plain": [
       "Index(['success', 'id', 'start_row', 'num_rows', 'total_rows',\n",
       "       'msg.blue_channel', 'msg.delegate', 'msg.expression', 'msg.failed',\n",
       "       'msg.failed_facet', 'msg.green_channel', 'msg.id', 'msg.name',\n",
       "       'msg.plane_of_section_id', 'msg.qc_date', 'msg.red_channel',\n",
       "       'msg.reference_space_id', 'msg.rnaseq_design_id',\n",
       "       'msg.section_thickness', 'msg.specimen_id', 'msg.sphinx_id',\n",
       "       'msg.storage_directory', 'msg.weight', 'msg.genes.acronym',\n",
       "       'msg.genes.alias_tags', 'msg.genes.chromosome_id',\n",
       "       'msg.genes.ensembl_id', 'msg.genes.entrez_id',\n",
       "       'msg.genes.genomic_reference_update_id', 'msg.genes.homologene_id',\n",
       "       'msg.genes.id', 'msg.genes.legacy_ensembl_gene_id', 'msg.genes.name',\n",
       "       'msg.genes.organism_id', 'msg.genes.original_name',\n",
       "       'msg.genes.original_symbol', 'msg.genes.reference_genome_id',\n",
       "       'msg.genes.sphinx_id', 'msg.genes.version_status'],\n",
       "      dtype='object')"
      ]
     },
     "execution_count": 7,
     "metadata": {},
     "output_type": "execute_result"
    }
   ],
   "source": [
    "temp.columns"
   ]
  },
  {
   "cell_type": "raw",
   "id": "e2f8ffbf",
   "metadata": {},
   "source": [
    "What data do I want in my query?\n",
    "From SectionDataSet:\n",
    "- id\n",
    "- section-thickness\n",
    "- specimen-id\n",
    "From PlaneOfSection:\n",
    "- name\n",
    "From Gene\n",
    "- acronym\n",
    "- chromosome-id\n",
    "- ensembl-id\n",
    "- entrez-id\n",
    "- genomic-reference-update-id\n",
    "- homologene-id\n",
    "- name\n",
    "- organism-id\n",
    "\n",
    "The \"models\" we care about are \"SectionDataSet\", \"PlaneOfSection\", and \"Gene\". All data models can be identified using \"https://api.brain-map.org/api/v2/data/enumerate.xml\". Not sure how to know what model corresponds to what a priori...\n",
    "\n",
    "The fields associated with individual data models can be obtained using \"https://api.brain-map.org/api/v2/data/<model>/describe.xml\". The <associations> block on this page tells us about how the given model relates to the other models. The \"name\" is of association is used to refer to specific fields. The <table> block tells us the name of the table that needs to be called when requesting data in tabular format. \n",
    "\n"
   ]
  },
  {
   "cell_type": "code",
   "execution_count": 47,
   "id": "2b938e16",
   "metadata": {},
   "outputs": [],
   "source": [
    "abi_query = \"http://api.brain-map.org/api/v2/data/SectionDataSet/query.csv?\"+\\\n",
    "\"criteria=[failed$eqfalse],plane_of_section[name$eqcoronal],products[abbreviation$eqMouse],treatments[name$eqISH]&\"+\\\n",
    "\"tabular=data_sets.id+as+experiment_id,data_sets.section_thickness,data_sets.specimen_id,plane_of_sections.name+as+plane,genes.acronym\"\n",
    "\n",
    "\n",
    "# \"start_row=0&num_rows=all\"\n",
    "\n",
    "\n",
    "# \"tabular=genes.acronym+as+gene,data_sets.id+as+ExperimentID,plane_of_sections.name+as+plane&\""
   ]
  },
  {
   "cell_type": "markdown",
   "id": "7c868f20",
   "metadata": {},
   "source": [
    "This isn't working with the genes table for some reason"
   ]
  },
  {
   "cell_type": "code",
   "execution_count": 48,
   "id": "a2d66159",
   "metadata": {},
   "outputs": [
    {
     "data": {
      "text/html": [
       "<div>\n",
       "<style scoped>\n",
       "    .dataframe tbody tr th:only-of-type {\n",
       "        vertical-align: middle;\n",
       "    }\n",
       "\n",
       "    .dataframe tbody tr th {\n",
       "        vertical-align: top;\n",
       "    }\n",
       "\n",
       "    .dataframe thead th {\n",
       "        text-align: right;\n",
       "    }\n",
       "</style>\n",
       "<table border=\"1\" class=\"dataframe\">\n",
       "  <thead>\n",
       "    <tr style=\"text-align: right;\">\n",
       "      <th></th>\n",
       "      <th>Data Access error in query: model::SectionDataSet</th>\n",
       "      <th>rma::criteria</th>\n",
       "      <th>[failed$eqfalse]</th>\n",
       "      <th>plane_of_section[name$eqcoronal]</th>\n",
       "      <th>products[abbreviation$eqMouse]</th>\n",
       "      <th>treatments[name$eqISH]</th>\n",
       "      <th>rma::options[tabular$eq'data_sets.id as experiment_id</th>\n",
       "      <th>data_sets.section_thickness</th>\n",
       "      <th>data_sets.specimen_id</th>\n",
       "      <th>plane_of_sections.name as plane</th>\n",
       "      <th>genes.acronym']</th>\n",
       "    </tr>\n",
       "  </thead>\n",
       "  <tbody>\n",
       "  </tbody>\n",
       "</table>\n",
       "</div>"
      ],
      "text/plain": [
       "Empty DataFrame\n",
       "Columns: [Data Access error in query: model::SectionDataSet, rma::criteria, [failed$eqfalse], plane_of_section[name$eqcoronal], products[abbreviation$eqMouse], treatments[name$eqISH], rma::options[tabular$eq'data_sets.id as experiment_id, data_sets.section_thickness, data_sets.specimen_id, plane_of_sections.name as plane, genes.acronym']]\n",
       "Index: []"
      ]
     },
     "execution_count": 48,
     "metadata": {},
     "output_type": "execute_result"
    }
   ],
   "source": [
    "temp = pd.read_csv(abi_query)\n",
    "temp"
   ]
  },
  {
   "cell_type": "code",
   "execution_count": null,
   "id": "24577639",
   "metadata": {},
   "outputs": [],
   "source": []
  }
 ],
 "metadata": {
  "kernelspec": {
   "display_name": "Python 3 (ipykernel)",
   "language": "python",
   "name": "python3"
  },
  "language_info": {
   "codemirror_mode": {
    "name": "ipython",
    "version": 3
   },
   "file_extension": ".py",
   "mimetype": "text/x-python",
   "name": "python",
   "nbconvert_exporter": "python",
   "pygments_lexer": "ipython3",
   "version": "3.8.10"
  }
 },
 "nbformat": 4,
 "nbformat_minor": 5
}
