{
 "cells": [
  {
   "cell_type": "markdown",
   "id": "923c3057",
   "metadata": {},
   "source": [
    "Allen Institute resources for API access:\n",
    "- http://help.brain-map.org/display/api/Allen+Brain+Atlas+API\n",
    "- http://help.brain-map.org/display/api/Downloading+3-D+Expression+Grid+Data\n",
    "- http://help.brain-map.org/display/api/Example+Queries+for+Experiment+Metadata\n",
    "- http://help.brain-map.org/pages/viewpage.action?pageId=5308449\n",
    "\n",
    "XML parsing:\n",
    "- https://www.datacamp.com/community/tutorials/python-xml-elementtree\n",
    "- https://www.kite.com/python/answers/how-to-download-a-csv-file-from-a-url-in-python\n"
   ]
  },
  {
   "cell_type": "code",
   "execution_count": 87,
   "id": "7dd8a761",
   "metadata": {},
   "outputs": [],
   "source": [
    "import os\n",
    "import pandas as pd\n",
    "import requests\n",
    "# import xml.etree.ElementTree as ET"
   ]
  },
  {
   "cell_type": "code",
   "execution_count": 57,
   "id": "bd5a8f5e",
   "metadata": {},
   "outputs": [
    {
     "data": {
      "text/plain": [
       "'/projects/abeauchamp/Projects/MouseHumanMapping/Paper_TranscriptomicSimilarity/AllenMouseBrainAtlas'"
      ]
     },
     "execution_count": 57,
     "metadata": {},
     "output_type": "execute_result"
    }
   ],
   "source": [
    "os.getcwd()"
   ]
  },
  {
   "cell_type": "code",
   "execution_count": 70,
   "id": "7a2e02f5",
   "metadata": {},
   "outputs": [],
   "source": [
    "data_dir = os.getcwd()+'/Data/'"
   ]
  },
  {
   "cell_type": "code",
   "execution_count": 79,
   "id": "ced6ddff",
   "metadata": {},
   "outputs": [],
   "source": [
    "plane = 'coronal'\n",
    "# plane = 'sagittal'"
   ]
  },
  {
   "cell_type": "code",
   "execution_count": 80,
   "id": "eac24804",
   "metadata": {},
   "outputs": [],
   "source": [
    "metadata_file = 'AMBA_metadata_{}.csv'.format(plane)\n",
    "if os.path.isfile(data_dir+metadata_file):\n",
    "    dfMetadata = pd.read_csv(data_dir+metadata_file)\n",
    "else:\n",
    "    abi_query_metadata = \"http://api.brain-map.org/api/v2/data/SectionDataSet/query.csv?\"+\\\n",
    "\"criteria=[failed$eqfalse],plane_of_section[name$eq{}],products[abbreviation$eqMouse],treatments[name$eqISH],genes&\".format(plane)+\\\n",
    "\"tabular=data_sets.id+as+experiment_id,data_sets.section_thickness,data_sets.specimen_id,\"+\\\n",
    "\"plane_of_sections.name+as+plane,\"+\\\n",
    "\"genes.acronym+as+gene,genes.name+as+gene_name,genes.chromosome_id,genes.entrez_id,genes.genomic_reference_update_id,genes.homologene_id,genes.organism_id&\"+\\\n",
    "\"start_row=0&num_rows=all\"\n",
    "    \n",
    "    dfMetadata = pd.read_csv(abi_query_metadata)\n",
    "    dfMetadata.to_csv(data_dir+metadata_file)"
   ]
  },
  {
   "cell_type": "code",
   "execution_count": 81,
   "id": "7d84a6d7",
   "metadata": {},
   "outputs": [
    {
     "data": {
      "text/plain": [
       "(4345, 12)"
      ]
     },
     "execution_count": 81,
     "metadata": {},
     "output_type": "execute_result"
    }
   ],
   "source": [
    "dfMetadata.shape"
   ]
  },
  {
   "cell_type": "code",
   "execution_count": 95,
   "id": "02056792",
   "metadata": {},
   "outputs": [],
   "source": [
    "temp_id = dfMetadata.loc[0,'experiment_id']"
   ]
  },
  {
   "cell_type": "code",
   "execution_count": 96,
   "id": "01b24c13",
   "metadata": {},
   "outputs": [
    {
     "data": {
      "text/plain": [
       "'http://api.brain-map.org/grid_data/download/112646890'"
      ]
     },
     "execution_count": 96,
     "metadata": {},
     "output_type": "execute_result"
    }
   ],
   "source": [
    "url = 'http://api.brain-map.org/grid_data/download/{}'.format(temp_id)\n",
    "url"
   ]
  },
  {
   "cell_type": "code",
   "execution_count": 97,
   "id": "af53e584",
   "metadata": {},
   "outputs": [],
   "source": [
    "r = requests.get(url)\n"
   ]
  },
  {
   "cell_type": "code",
   "execution_count": 98,
   "id": "5974a95b",
   "metadata": {},
   "outputs": [],
   "source": [
    "outfile = 'Data/Expression/temp.zip'\n",
    "with open(outfile, 'wb') as file:\n",
    "    file.write(r.content)"
   ]
  },
  {
   "cell_type": "code",
   "execution_count": 99,
   "id": "36d168ab",
   "metadata": {},
   "outputs": [],
   "source": [
    "from zipfile import ZipFile\n",
    "expression_dir = 'Data/Expression/'\n",
    "raw_file = 'energy.raw'\n",
    "minc_file = 'energy.mnc'"
   ]
  },
  {
   "cell_type": "code",
   "execution_count": 100,
   "id": "5c0890ca",
   "metadata": {},
   "outputs": [],
   "source": [
    "with ZipFile(expression_dir+'temp.zip', 'r') as file:\n",
    "    file.extract(raw_file, path = expression_dir)"
   ]
  },
  {
   "cell_type": "code",
   "execution_count": 104,
   "id": "9aae7b6b",
   "metadata": {},
   "outputs": [
    {
     "data": {
      "text/plain": [
       "'cat Data/Expression/energy.raw | rawtominc Data/Expression/energy.mnc -signed -float -ounsigned -oshort -xstep 0.2 -ystep 0.2 -zstep 0.2 -clobber 58 41 67'"
      ]
     },
     "execution_count": 104,
     "metadata": {},
     "output_type": "execute_result"
    }
   ],
   "source": [
    "cmd = 'cat {} | rawtominc {} -signed -float -ounsigned -oshort -xstep 0.2 -ystep 0.2 -zstep 0.2 -clobber 58 41 67'.format(expression_dir+raw_file,expression_dir+minc_file)\n",
    "cmd"
   ]
  },
  {
   "cell_type": "code",
   "execution_count": 105,
   "id": "3a6b91eb",
   "metadata": {},
   "outputs": [
    {
     "name": "stderr",
     "output_type": "stream",
     "text": [
      "sh: 1: rawtominc: not found\n",
      "cat: write error: Broken pipe\n"
     ]
    },
    {
     "data": {
      "text/plain": [
       "32512"
      ]
     },
     "execution_count": 105,
     "metadata": {},
     "output_type": "execute_result"
    }
   ],
   "source": [
    "os.system(cmd)"
   ]
  },
  {
   "cell_type": "code",
   "execution_count": null,
   "id": "c1a74ac9",
   "metadata": {},
   "outputs": [],
   "source": []
  }
 ],
 "metadata": {
  "kernelspec": {
   "display_name": "Python 3 (ipykernel)",
   "language": "python",
   "name": "python3"
  },
  "language_info": {
   "codemirror_mode": {
    "name": "ipython",
    "version": 3
   },
   "file_extension": ".py",
   "mimetype": "text/x-python",
   "name": "python",
   "nbconvert_exporter": "python",
   "pygments_lexer": "ipython3",
   "version": "3.8.10"
  }
 },
 "nbformat": 4,
 "nbformat_minor": 5
}
