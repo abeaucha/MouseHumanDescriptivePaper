{
 "cells": [
  {
   "cell_type": "code",
   "execution_count": 7,
   "id": "77b25123",
   "metadata": {},
   "outputs": [],
   "source": [
    "import numpy as np\n",
    "import pandas as pd\n",
    "import re\n",
    "import argparse\n",
    "import sys\n",
    "import os\n",
    "import warnings\n",
    "\n",
    "from pyminc.volumes.factory import *\n",
    "from glob                   import glob\n",
    "\n",
    "from sklearn.impute         import KNNImputer\n",
    "from sklearn.preprocessing  import FunctionTransformer\n",
    "from sklearn.pipeline       import Pipeline"
   ]
  },
  {
   "cell_type": "code",
   "execution_count": 21,
   "id": "fb0da30a",
   "metadata": {},
   "outputs": [],
   "source": [
    "datadir = 'data/expression/'\n",
    "outdir = 'data/'\n",
    "dataset = 'coronal'\n",
    "maskFlag = 'coronal'\n",
    "groupExperiments = True\n",
    "impute = False\n",
    "\n",
    "if (dataset == 'sagittal') and (maskFlag == 'coronal'):\n",
    "        warnings.warn(\"Running with sagittal dataset and coronal mask is not ideal. Proceed with caution.\")\n",
    "\n",
    "#If dataset is sagittal, use only those genes that are also in the coronal set\n",
    "if dataset == \"sagittal\":\n",
    "\n",
    "    #Paths to sagittal and coronal data set directories\n",
    "    pathGeneDir_Sagittal = os.path.join(datadir, dataset, '')\n",
    "    pathGeneDir_Coronal = os.path.join(datadir, 'coronal', '')\n",
    "\n",
    "    #Build paths to all files in the directories\n",
    "    pathGeneFiles_Sagittal = np.array(glob(pathGeneDir_Sagittal + \"*.mnc\"))\n",
    "    pathGeneFiles_Coronal = np.array(glob(pathGeneDir_Coronal + \"*.mnc\"))\n",
    "\n",
    "    #Extract gene names for coronal and sagittal data sets\n",
    "    genes_Sagittal = np.array([re.sub(r\"_[0-9]+.mnc\", \"\", file) for file in \n",
    "                                [basename(path) for path in pathGeneFiles_Sagittal]])\n",
    "    genes_Coronal = np.array([re.sub(r\"_[0-9]+.mnc\", \"\", file) for file in \n",
    "                                [basename(path) for path in pathGeneFiles_Coronal]])\n",
    "\n",
    "    #Identify genes from sagittal data in coronal data\n",
    "    isInCoronal = np.isin(genes_Sagittal, genes_Coronal)\n",
    "\n",
    "    #Extract subset of sagittal gene files\n",
    "    pathGeneFiles = pathGeneFiles_Sagittal[isInCoronal]\n",
    "\n",
    "else:\n",
    "    pathGeneDir = os.path.join(datadir, dataset, '')\n",
    "    pathGeneFiles = np.array(glob(pathGeneDir+\"*.mnc\"))\n",
    "    \n",
    "#Load image mask and convert to numpy array\n",
    "if maskFlag == \"sagittal\":\n",
    "    maskfile = \"data/imaging/sagittal_200um_coverage_bin0.8.mnc\"\n",
    "    maskVol = volumeFromFile(maskfile)        \n",
    "else: \n",
    "    maskfile = \"data/imaging/coronal_200um_coverage_bin0.8.mnc\"\n",
    "    maskVol = volumeFromFile(maskfile)\n",
    "\n",
    "maskArray = np.array(maskVol.data.flatten())\n",
    "maskVol.closeVolume()"
   ]
  },
  {
   "cell_type": "code",
   "execution_count": 27,
   "id": "34d2bd0e",
   "metadata": {},
   "outputs": [],
   "source": [
    "def importImage(infile, mask):\n",
    "    \n",
    "    \"\"\" \"\"\"\n",
    "    \n",
    "    #Read ISH data to numpy array\n",
    "    exprVol = volumeFromFile(infile)\n",
    "    exprArray = np.array(exprVol.data.flatten())\n",
    "    exprVol.closeVolume()\n",
    "    \n",
    "    #Apply mask and convert -1 to NaN\n",
    "    exprArrayMasked = exprArray[mask == 1]\n",
    "    exprArrayMasked[exprArrayMasked == -1] = np.nan\n",
    "    exprArrayMasked[exprArrayMasked == 0] = np.nan\n",
    "    \n",
    "    return exprArrayMasked"
   ]
  },
  {
   "cell_type": "code",
   "execution_count": 56,
   "id": "0b5015ba",
   "metadata": {},
   "outputs": [],
   "source": [
    "from functools import partial\n",
    "from tqdm import tqdm\n",
    "import multiprocessing as mp"
   ]
  },
  {
   "cell_type": "code",
   "execution_count": 79,
   "id": "b78d5496",
   "metadata": {},
   "outputs": [
    {
     "name": "stderr",
     "output_type": "stream",
     "text": [
      "100%|█████████████████████████████████████████████████████████████████████████████████████████████████████████████| 4345/4345 [01:17<00:00, 56.32it/s]\n"
     ]
    }
   ],
   "source": [
    "files = pathGeneFiles\n",
    "mask = maskArray\n",
    "threshold = 0.2\n",
    "group_experiments = True\n",
    "parallel = True\n",
    "nproc = 2\n",
    "\n",
    "importImage_partial = partial(importImage, mask = mask)\n",
    "\n",
    "if parallel:\n",
    "\n",
    "    if nproc is None:\n",
    "        nproc = mp.cpu_count()\n",
    "\n",
    "    pool = mp.Pool(nproc)\n",
    "\n",
    "    results = []\n",
    "    for result in tqdm(pool.imap(importImage_partial, files), total = len(files)):\n",
    "        results.append(result)\n",
    "\n",
    "    pool.close()\n",
    "    pool.join()\n",
    "\n",
    "else:\n",
    "\n",
    "    results = list(map(importImage_partial, tqdm(files)))\n",
    "    \n",
    "dfExpression = pd.DataFrame(np.asarray(results), index = [os.path.basename(file) for file in files])"
   ]
  },
  {
   "cell_type": "code",
   "execution_count": 81,
   "id": "a9b68c16",
   "metadata": {},
   "outputs": [
    {
     "data": {
      "text/plain": [
       "(4345, 61315)"
      ]
     },
     "execution_count": 81,
     "metadata": {},
     "output_type": "execute_result"
    }
   ],
   "source": [
    "dfExpression.shape"
   ]
  },
  {
   "cell_type": "code",
   "execution_count": 50,
   "id": "a28fad15",
   "metadata": {},
   "outputs": [
    {
     "data": {
      "text/plain": [
       "True"
      ]
     },
     "execution_count": 50,
     "metadata": {},
     "output_type": "execute_result"
    }
   ],
   "source": [
    "def buildExpressionMatrix(files, mask, log_transform = True, group_experiments = True, missing_threshold = 0.2, parallel = True, nproc = None):\n",
    "    \n",
    "    \"\"\" \"\"\"\n",
    "    \n",
    "    importImage_partial = partial(importImage, mask = mask)\n",
    "\n",
    "    if parallel:\n",
    "\n",
    "        if nproc is None:\n",
    "            nproc = mp.cpu_count()\n",
    "\n",
    "        pool = mp.Pool(nproc)\n",
    "\n",
    "        arrays = []\n",
    "        for array in tqdm(pool.imap(importImage_partial, files), total = len(files)):\n",
    "            arrays.append(array)\n",
    "\n",
    "        pool.close()\n",
    "        pool.join()\n",
    "\n",
    "    else:\n",
    "\n",
    "        arrays = list(map(importImage_partial, tqdm(files)))\n",
    "    \n",
    "    dfExpression = pd.DataFrame(np.asarray(results), index = [os.path.basename(file) for file in files])\n",
    "\n",
    "    #Transform to log2\n",
    "    if log_transform:\n",
    "        print(\"Applying log2 transform...\")\n",
    "        dfExpression = np.log2(dfExpression)\n",
    "    \n",
    "    dfExpression.index = dfExpression.index.str.replace('.mnc', '').str.replace('_.*', '')\n",
    "        \n",
    "    dfExpression.index.name = 'Gene'\n",
    "    \n",
    "    #Aggregate experiments per gene if flag is set\n",
    "    if group_experiments:\n",
    "        print(\"Aggregating multiple experiments per gene...\")\n",
    "        dfExpression = dfExpression.groupby(dfExpression.index).aggregate(np.mean)\n",
    "    \n",
    "    #Remove genes where a threshold of voxels aren't expressing\n",
    "    fracVoxelsNA = dfExpression.isna().sum(axis=1)/len(dfExpression.columns)\n",
    "    dfExpression = dfExpression[fracVoxelsNA < missing_threshold]\n",
    "    \n",
    "    return dfExpression"
   ]
  },
  {
   "cell_type": "code",
   "execution_count": null,
   "id": "b7152e2f",
   "metadata": {},
   "outputs": [],
   "source": []
  }
 ],
 "metadata": {
  "kernelspec": {
   "display_name": "Python 3 (ipykernel)",
   "language": "python",
   "name": "python3"
  },
  "language_info": {
   "codemirror_mode": {
    "name": "ipython",
    "version": 3
   },
   "file_extension": ".py",
   "mimetype": "text/x-python",
   "name": "python",
   "nbconvert_exporter": "python",
   "pygments_lexer": "ipython3",
   "version": "3.8.10"
  }
 },
 "nbformat": 4,
 "nbformat_minor": 5
}
