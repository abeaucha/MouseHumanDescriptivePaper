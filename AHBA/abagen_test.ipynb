{
 "cells": [
  {
   "cell_type": "code",
   "execution_count": 1,
   "id": "9645e90c",
   "metadata": {},
   "outputs": [],
   "source": [
    "import argparse\n",
    "import os\n",
    "import abagen\n",
    "import pandas as pd\n",
    "import numpy as np"
   ]
  },
  {
   "cell_type": "code",
   "execution_count": 2,
   "id": "e387333c",
   "metadata": {},
   "outputs": [],
   "source": [
    "datadir = 'data/microarray/'\n",
    "outdir = 'data/'\n",
    "donorsfile = 'data/donors.csv'"
   ]
  },
  {
   "cell_type": "code",
   "execution_count": 5,
   "id": "39319a10",
   "metadata": {},
   "outputs": [
    {
     "name": "stderr",
     "output_type": "stream",
     "text": [
      "INFO: Group-level atlas provided; using MNI coords for tissue samples\n",
      "INFO: Reannotating probes with information from Arnatkevic̆iūtė et al., 2019, NeuroImage\n",
      "INFO: Filtering probes with intensity-based threshold of 0.5\n",
      "INFO: 31569 probes survive intensity-based filtering\n",
      "INFO: Reducing probes indexing same gene with method: diff_stability\n",
      "INFO: 15633 genes remain after probe filtering + selection\n",
      "INFO: 904 / 904 samples matched to regions for donor #9861\n",
      "INFO: 845 / 845 samples matched to regions for donor #10021\n",
      "INFO: 353 / 353 samples matched to regions for donor #12876\n",
      "INFO: 513 / 513 samples matched to regions for donor #14380\n",
      "INFO: 437 / 437 samples matched to regions for donor #15496\n",
      "INFO: 414 / 414 samples matched to regions for donor #15697\n"
     ]
    }
   ],
   "source": [
    "#Build sample expression matrix\n",
    "expression, coords = abagen.get_samples_in_mask(mask=None, \n",
    "                                                data_dir = datadir, \n",
    "                                                donors = 'all',\n",
    "                                                corrected_mni = True, #This breaks the code. I think this is also where samples get filtered. \n",
    "                                                verbose = 1)"
   ]
  },
  {
   "cell_type": "code",
   "execution_count": 6,
   "id": "9f7b183c",
   "metadata": {},
   "outputs": [],
   "source": [
    "files = abagen.fetch_microarray(data_dir=datadir,\n",
    "                                  donors='all',\n",
    "                                  verbose=1)"
   ]
  },
  {
   "cell_type": "code",
   "execution_count": 6,
   "id": "cd81e295",
   "metadata": {},
   "outputs": [
    {
     "data": {
      "text/plain": [
       "(3466, 15633)"
      ]
     },
     "execution_count": 6,
     "metadata": {},
     "output_type": "execute_result"
    }
   ],
   "source": [
    "expression.shape"
   ]
  },
  {
   "cell_type": "code",
   "execution_count": 7,
   "id": "3fa1c68f",
   "metadata": {},
   "outputs": [
    {
     "data": {
      "text/plain": [
       "{'9861': {'microarray': 'data/microarray/normalized_microarray_donor9861/MicroarrayExpression.csv',\n",
       "  'ontology': 'data/microarray/normalized_microarray_donor9861/Ontology.csv',\n",
       "  'pacall': 'data/microarray/normalized_microarray_donor9861/PACall.csv',\n",
       "  'probes': 'data/microarray/normalized_microarray_donor9861/Probes.csv',\n",
       "  'annotation': 'data/microarray/normalized_microarray_donor9861/SampleAnnot.csv'},\n",
       " '10021': {'microarray': 'data/microarray/normalized_microarray_donor10021/MicroarrayExpression.csv',\n",
       "  'ontology': 'data/microarray/normalized_microarray_donor10021/Ontology.csv',\n",
       "  'pacall': 'data/microarray/normalized_microarray_donor10021/PACall.csv',\n",
       "  'probes': 'data/microarray/normalized_microarray_donor10021/Probes.csv',\n",
       "  'annotation': 'data/microarray/normalized_microarray_donor10021/SampleAnnot.csv'},\n",
       " '12876': {'microarray': 'data/microarray/normalized_microarray_donor12876/MicroarrayExpression.csv',\n",
       "  'ontology': 'data/microarray/normalized_microarray_donor12876/Ontology.csv',\n",
       "  'pacall': 'data/microarray/normalized_microarray_donor12876/PACall.csv',\n",
       "  'probes': 'data/microarray/normalized_microarray_donor12876/Probes.csv',\n",
       "  'annotation': 'data/microarray/normalized_microarray_donor12876/SampleAnnot.csv'},\n",
       " '14380': {'microarray': 'data/microarray/normalized_microarray_donor14380/MicroarrayExpression.csv',\n",
       "  'ontology': 'data/microarray/normalized_microarray_donor14380/Ontology.csv',\n",
       "  'pacall': 'data/microarray/normalized_microarray_donor14380/PACall.csv',\n",
       "  'probes': 'data/microarray/normalized_microarray_donor14380/Probes.csv',\n",
       "  'annotation': 'data/microarray/normalized_microarray_donor14380/SampleAnnot.csv'},\n",
       " '15496': {'microarray': 'data/microarray/normalized_microarray_donor15496/MicroarrayExpression.csv',\n",
       "  'ontology': 'data/microarray/normalized_microarray_donor15496/Ontology.csv',\n",
       "  'pacall': 'data/microarray/normalized_microarray_donor15496/PACall.csv',\n",
       "  'probes': 'data/microarray/normalized_microarray_donor15496/Probes.csv',\n",
       "  'annotation': 'data/microarray/normalized_microarray_donor15496/SampleAnnot.csv'},\n",
       " '15697': {'microarray': 'data/microarray/normalized_microarray_donor15697/MicroarrayExpression.csv',\n",
       "  'ontology': 'data/microarray/normalized_microarray_donor15697/Ontology.csv',\n",
       "  'pacall': 'data/microarray/normalized_microarray_donor15697/PACall.csv',\n",
       "  'probes': 'data/microarray/normalized_microarray_donor15697/Probes.csv',\n",
       "  'annotation': 'data/microarray/normalized_microarray_donor15697/SampleAnnot.csv'}}"
      ]
     },
     "execution_count": 7,
     "metadata": {},
     "output_type": "execute_result"
    }
   ],
   "source": [
    "files"
   ]
  },
  {
   "cell_type": "code",
   "execution_count": 17,
   "id": "5072d526",
   "metadata": {},
   "outputs": [
    {
     "ename": "NameError",
     "evalue": "name 'flatten_dict' is not defined",
     "output_type": "error",
     "traceback": [
      "\u001b[0;31m---------------------------------------------------------------------------\u001b[0m",
      "\u001b[0;31mNameError\u001b[0m                                 Traceback (most recent call last)",
      "Input \u001b[0;32mIn [17]\u001b[0m, in \u001b[0;36m<cell line: 10>\u001b[0;34m()\u001b[0m\n\u001b[1;32m      8\u001b[0m     files[donor][\u001b[38;5;124m'\u001b[39m\u001b[38;5;124mannotation\u001b[39m\u001b[38;5;124m'\u001b[39m] \u001b[38;5;241m=\u001b[39m annot\n\u001b[1;32m      9\u001b[0m cols \u001b[38;5;241m=\u001b[39m [\u001b[38;5;124m'\u001b[39m\u001b[38;5;124mwell_id\u001b[39m\u001b[38;5;124m'\u001b[39m, \u001b[38;5;124m'\u001b[39m\u001b[38;5;124mmni_x\u001b[39m\u001b[38;5;124m'\u001b[39m, \u001b[38;5;124m'\u001b[39m\u001b[38;5;124mmni_y\u001b[39m\u001b[38;5;124m'\u001b[39m, \u001b[38;5;124m'\u001b[39m\u001b[38;5;124mmni_z\u001b[39m\u001b[38;5;124m'\u001b[39m]\n\u001b[0;32m---> 10\u001b[0m coords \u001b[38;5;241m=\u001b[39m np\u001b[38;5;241m.\u001b[39masarray(pd\u001b[38;5;241m.\u001b[39mconcat(\u001b[43mflatten_dict\u001b[49m(files, \u001b[38;5;124m'\u001b[39m\u001b[38;5;124mannotation\u001b[39m\u001b[38;5;124m'\u001b[39m))[cols])\n",
      "\u001b[0;31mNameError\u001b[0m: name 'flatten_dict' is not defined"
     ]
    }
   ],
   "source": [
    "files = abagen.fetch_microarray(data_dir=datadir,\n",
    "                                  donors='all',\n",
    "                                  verbose=1)\n",
    "\n",
    "for donor, data in files.items():\n",
    "    annot = data['annotation']\n",
    "    annot = pd.read_csv(annot)\n",
    "    files[donor]['annotation'] = annot\n",
    "cols = ['well_id', 'mni_x', 'mni_y', 'mni_z']\n",
    "coords = np.asarray(pd.concat(flatten_dict(files, 'annotation'))[cols])"
   ]
  },
  {
   "cell_type": "code",
   "execution_count": null,
   "id": "1b7be102",
   "metadata": {},
   "outputs": [],
   "source": [
    "for donor, data in files.items():\n",
    "    annot = data['annotation']\n",
    "    if kwargs.get('corrected_mni', True):\n",
    "        annot = samples_.update_mni_coords(annot)\n",
    "    files[donor]['annotation'] = annot\n",
    "cols = ['well_id', 'mni_x', 'mni_y', 'mni_z']\n",
    "coords = np.asarray(pd.concat(flatten_dict(files, 'annotation'))[cols])\n",
    "well_id, coords = np.asarray(coords[:, 0], 'int'), coords[:, 1:]\n",
    "coords = pd.DataFrame(coords, columns=['x', 'y', 'z'], index=well_id)"
   ]
  },
  {
   "cell_type": "code",
   "execution_count": null,
   "id": "f03d1f23",
   "metadata": {},
   "outputs": [],
   "source": []
  }
 ],
 "metadata": {
  "kernelspec": {
   "display_name": "Python 3 (ipykernel)",
   "language": "python",
   "name": "python3"
  },
  "language_info": {
   "codemirror_mode": {
    "name": "ipython",
    "version": 3
   },
   "file_extension": ".py",
   "mimetype": "text/x-python",
   "name": "python",
   "nbconvert_exporter": "python",
   "pygments_lexer": "ipython3",
   "version": "3.8.10"
  }
 },
 "nbformat": 4,
 "nbformat_minor": 5
}
